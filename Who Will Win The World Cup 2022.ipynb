{
 "cells": [
  {
   "cell_type": "markdown",
   "metadata": {},
   "source": [
    "# FIFA World Cup 2022 Predictions\n",
    "----\n",
    "![FIFA World Cup 2022](https://seeklogo.com/images/F/fifa-world-cup-2022-logo-0E5F05028D-seeklogo.com.png)\n",
    "\n",
    "\n",
    "## Description\n",
    "Data analysis and prediction of FIFA World Cup 2022 matches using machine learning approach and simulation\n",
    "\n",
    "## Datasets:\n",
    "* [FIFA World Cup 2018 Dataset on Kaggle](https://www.kaggle.com/ahmedelnaggar/fifa-worldcup-2018-dataset)\n",
    "* [FIFA Ranking for men's national teams (Dec 1992 - Oct 2022)](https://www.kaggle.com/datasets/cashncarry/fifaworldranking)\n",
    "* [International football results from 1872 to 2022(Before FIFA World Cup](https://www.kaggle.com/datasets/martj42/international-football-results-from-1872-to-2017)\n",
    "\n",
    "## References\n",
    "----\n",
    "* Soccer World Cup 2018 Winner [by Dr. James Bond](https://www.kaggle.com/agostontorok/soccer-world-cup-2018-winner)\n",
    "* FIFA - May the force be with the strongest team [by Wei Chun Chang](https://www.kaggle.com/justjun0321/fifa-may-the-force-be-with-the-strongest-team)\n",
    "* World Cup Winner Prediction 2018\n",
    " [by MJeremy](https://www.kaggle.com/zhangyue199/world-cup-winner-prediction-2018)\n",
    "* [Christian Wibisono](https://www.kaggle.com/christianwbsn)"
   ]
  },
  {
   "cell_type": "markdown",
   "metadata": {},
   "source": [
    "## World Cup 2018 Analysis\n",
    "----\n",
    "### Importing Libraries for EDA and Data Preprocessing"
   ]
  },
  {
   "cell_type": "code",
   "execution_count": 1,
   "metadata": {},
   "outputs": [
    {
     "data": {
      "text/html": [
       "        <script type=\"text/javascript\">\n",
       "        window.PlotlyConfig = {MathJaxConfig: 'local'};\n",
       "        if (window.MathJax) {MathJax.Hub.Config({SVG: {font: \"STIX-Web\"}});}\n",
       "        if (typeof require !== 'undefined') {\n",
       "        require.undef(\"plotly\");\n",
       "        requirejs.config({\n",
       "            paths: {\n",
       "                'plotly': ['https://cdn.plot.ly/plotly-2.9.0.min']\n",
       "            }\n",
       "        });\n",
       "        require(['plotly'], function(Plotly) {\n",
       "            window._Plotly = Plotly;\n",
       "        });\n",
       "        }\n",
       "        </script>\n",
       "        "
      ]
     },
     "metadata": {},
     "output_type": "display_data"
    }
   ],
   "source": [
    "import pandas as pd\n",
    "import matplotlib.pyplot as plt\n",
    "import plotly.graph_objs as go\n",
    "import chart_studio.plotly as py\n",
    "from plotly.offline import init_notebook_mode, iplot\n",
    "init_notebook_mode(connected=True)\n",
    "%matplotlib inline\n",
    "import numpy as np\n",
    "import seaborn as sns"
   ]
  },
  {
   "cell_type": "markdown",
   "metadata": {},
   "source": [
    "### Loading dataset to dataframe"
   ]
  },
  {
   "cell_type": "code",
   "execution_count": 2,
   "metadata": {},
   "outputs": [],
   "source": [
    "# Historical FIFA rankings dataframe\n",
    "historical_rankings = pd.read_csv('../input/fifa_ranking-2022-10-06.csv')\n",
    "# Historical match between 2 teams dataframe\n",
    "historical_matches = pd.read_csv('../input/results_before2022WC.csv')\n",
    "world_cup = pd.read_csv('../input/world_cup_2022.csv')"
   ]
  },
  {
   "cell_type": "code",
   "execution_count": 3,
   "metadata": {},
   "outputs": [
    {
     "data": {
      "text/html": [
       "<div>\n",
       "<style scoped>\n",
       "    .dataframe tbody tr th:only-of-type {\n",
       "        vertical-align: middle;\n",
       "    }\n",
       "\n",
       "    .dataframe tbody tr th {\n",
       "        vertical-align: top;\n",
       "    }\n",
       "\n",
       "    .dataframe thead th {\n",
       "        text-align: right;\n",
       "    }\n",
       "</style>\n",
       "<table border=\"1\" class=\"dataframe\">\n",
       "  <thead>\n",
       "    <tr style=\"text-align: right;\">\n",
       "      <th></th>\n",
       "      <th>rank</th>\n",
       "      <th>country_full</th>\n",
       "      <th>country_abrv</th>\n",
       "      <th>total_points</th>\n",
       "      <th>previous_points</th>\n",
       "      <th>rank_change</th>\n",
       "      <th>confederation</th>\n",
       "      <th>rank_date</th>\n",
       "    </tr>\n",
       "  </thead>\n",
       "  <tbody>\n",
       "    <tr>\n",
       "      <th>79</th>\n",
       "      <td>24</td>\n",
       "      <td>United States</td>\n",
       "      <td>USA</td>\n",
       "      <td>43.00</td>\n",
       "      <td>0.00</td>\n",
       "      <td>0</td>\n",
       "      <td>CONCACAF</td>\n",
       "      <td>1992-12-31</td>\n",
       "    </tr>\n",
       "    <tr>\n",
       "      <th>232</th>\n",
       "      <td>28</td>\n",
       "      <td>United States</td>\n",
       "      <td>USA</td>\n",
       "      <td>44.00</td>\n",
       "      <td>43.00</td>\n",
       "      <td>4</td>\n",
       "      <td>CONCACAF</td>\n",
       "      <td>1993-08-08</td>\n",
       "    </tr>\n",
       "    <tr>\n",
       "      <th>382</th>\n",
       "      <td>26</td>\n",
       "      <td>United States</td>\n",
       "      <td>USA</td>\n",
       "      <td>45.00</td>\n",
       "      <td>44.00</td>\n",
       "      <td>-2</td>\n",
       "      <td>CONCACAF</td>\n",
       "      <td>1993-09-23</td>\n",
       "    </tr>\n",
       "    <tr>\n",
       "      <th>484</th>\n",
       "      <td>26</td>\n",
       "      <td>United States</td>\n",
       "      <td>USA</td>\n",
       "      <td>45.00</td>\n",
       "      <td>45.00</td>\n",
       "      <td>0</td>\n",
       "      <td>CONCACAF</td>\n",
       "      <td>1993-10-22</td>\n",
       "    </tr>\n",
       "    <tr>\n",
       "      <th>685</th>\n",
       "      <td>27</td>\n",
       "      <td>United States</td>\n",
       "      <td>USA</td>\n",
       "      <td>45.00</td>\n",
       "      <td>45.00</td>\n",
       "      <td>1</td>\n",
       "      <td>CONCACAF</td>\n",
       "      <td>1993-11-19</td>\n",
       "    </tr>\n",
       "    <tr>\n",
       "      <th>...</th>\n",
       "      <td>...</td>\n",
       "      <td>...</td>\n",
       "      <td>...</td>\n",
       "      <td>...</td>\n",
       "      <td>...</td>\n",
       "      <td>...</td>\n",
       "      <td>...</td>\n",
       "      <td>...</td>\n",
       "    </tr>\n",
       "    <tr>\n",
       "      <th>62923</th>\n",
       "      <td>13</td>\n",
       "      <td>United States</td>\n",
       "      <td>USA</td>\n",
       "      <td>1643.34</td>\n",
       "      <td>1648.51</td>\n",
       "      <td>2</td>\n",
       "      <td>CONCACAF</td>\n",
       "      <td>2022-02-10</td>\n",
       "    </tr>\n",
       "    <tr>\n",
       "      <th>63216</th>\n",
       "      <td>15</td>\n",
       "      <td>United States</td>\n",
       "      <td>USA</td>\n",
       "      <td>1633.72</td>\n",
       "      <td>1643.34</td>\n",
       "      <td>2</td>\n",
       "      <td>CONCACAF</td>\n",
       "      <td>2022-03-31</td>\n",
       "    </tr>\n",
       "    <tr>\n",
       "      <th>63359</th>\n",
       "      <td>14</td>\n",
       "      <td>United States</td>\n",
       "      <td>USA</td>\n",
       "      <td>1635.01</td>\n",
       "      <td>1633.72</td>\n",
       "      <td>-1</td>\n",
       "      <td>CONCACAF</td>\n",
       "      <td>2022-06-23</td>\n",
       "    </tr>\n",
       "    <tr>\n",
       "      <th>63639</th>\n",
       "      <td>14</td>\n",
       "      <td>United States</td>\n",
       "      <td>USA</td>\n",
       "      <td>1635.01</td>\n",
       "      <td>1635.01</td>\n",
       "      <td>0</td>\n",
       "      <td>CONCACAF</td>\n",
       "      <td>2022-08-25</td>\n",
       "    </tr>\n",
       "    <tr>\n",
       "      <th>63852</th>\n",
       "      <td>16</td>\n",
       "      <td>United States</td>\n",
       "      <td>USA</td>\n",
       "      <td>1627.48</td>\n",
       "      <td>1635.01</td>\n",
       "      <td>2</td>\n",
       "      <td>CONCACAF</td>\n",
       "      <td>2022-10-06</td>\n",
       "    </tr>\n",
       "  </tbody>\n",
       "</table>\n",
       "<p>322 rows × 8 columns</p>\n",
       "</div>"
      ],
      "text/plain": [
       "       rank   country_full country_abrv  total_points  previous_points  \\\n",
       "79       24  United States          USA         43.00             0.00   \n",
       "232      28  United States          USA         44.00            43.00   \n",
       "382      26  United States          USA         45.00            44.00   \n",
       "484      26  United States          USA         45.00            45.00   \n",
       "685      27  United States          USA         45.00            45.00   \n",
       "...     ...            ...          ...           ...              ...   \n",
       "62923    13  United States          USA       1643.34          1648.51   \n",
       "63216    15  United States          USA       1633.72          1643.34   \n",
       "63359    14  United States          USA       1635.01          1633.72   \n",
       "63639    14  United States          USA       1635.01          1635.01   \n",
       "63852    16  United States          USA       1627.48          1635.01   \n",
       "\n",
       "       rank_change confederation   rank_date  \n",
       "79               0      CONCACAF  1992-12-31  \n",
       "232              4      CONCACAF  1993-08-08  \n",
       "382             -2      CONCACAF  1993-09-23  \n",
       "484              0      CONCACAF  1993-10-22  \n",
       "685              1      CONCACAF  1993-11-19  \n",
       "...            ...           ...         ...  \n",
       "62923            2      CONCACAF  2022-02-10  \n",
       "63216            2      CONCACAF  2022-03-31  \n",
       "63359           -1      CONCACAF  2022-06-23  \n",
       "63639            0      CONCACAF  2022-08-25  \n",
       "63852            2      CONCACAF  2022-10-06  \n",
       "\n",
       "[322 rows x 8 columns]"
      ]
     },
     "execution_count": 3,
     "metadata": {},
     "output_type": "execute_result"
    }
   ],
   "source": [
    "historical_rankings = historical_rankings.replace({'IR Iran': 'Iran'})\n",
    "historical_matches = historical_matches.replace({'Germany DR': 'Germany', 'China': 'China PR'})\n",
    "world_cup = world_cup.set_index('Team')\n",
    "historical_rankings['country_full'] = historical_rankings['country_full'].replace('USA','United States')\n",
    "historical_rankings['country_full'] = historical_rankings['country_full'].replace('Korea Republic','South Korea')\n",
    "historical_rankings[historical_rankings.country_full == 'United States']\n"
   ]
  },
  {
   "cell_type": "markdown",
   "metadata": {},
   "source": [
    "### 1. Exploratory Data Analysis\n",
    "----"
   ]
  },
  {
   "cell_type": "code",
   "execution_count": 4,
   "metadata": {},
   "outputs": [
    {
     "name": "stdout",
     "output_type": "stream",
     "text": [
      "Historical FIFA Rankings:\n",
      "<class 'pandas.core.frame.DataFrame'>\n",
      "RangeIndex: 63916 entries, 0 to 63915\n",
      "Data columns (total 8 columns):\n",
      " #   Column           Non-Null Count  Dtype  \n",
      "---  ------           --------------  -----  \n",
      " 0   rank             63916 non-null  int64  \n",
      " 1   country_full     63916 non-null  object \n",
      " 2   country_abrv     63916 non-null  object \n",
      " 3   total_points     63916 non-null  float64\n",
      " 4   previous_points  63916 non-null  float64\n",
      " 5   rank_change      63916 non-null  int64  \n",
      " 6   confederation    63916 non-null  object \n",
      " 7   rank_date        63916 non-null  object \n",
      "dtypes: float64(2), int64(2), object(4)\n",
      "memory usage: 3.9+ MB\n",
      "None\n",
      "--------------------------------\n",
      "Historical matches\n",
      "<class 'pandas.core.frame.DataFrame'>\n",
      "RangeIndex: 44158 entries, 0 to 44157\n",
      "Data columns (total 9 columns):\n",
      " #   Column      Non-Null Count  Dtype \n",
      "---  ------      --------------  ----- \n",
      " 0   date        44158 non-null  object\n",
      " 1   home_team   44158 non-null  object\n",
      " 2   away_team   44158 non-null  object\n",
      " 3   home_score  44158 non-null  int64 \n",
      " 4   away_score  44158 non-null  int64 \n",
      " 5   tournament  44158 non-null  object\n",
      " 6   city        44158 non-null  object\n",
      " 7   country     44158 non-null  object\n",
      " 8   neutral     44158 non-null  bool  \n",
      "dtypes: bool(1), int64(2), object(6)\n",
      "memory usage: 2.7+ MB\n",
      "None\n"
     ]
    }
   ],
   "source": [
    "print(\"Historical FIFA Rankings:\")\n",
    "print(historical_rankings.info())\n",
    "print(\"--------------------------------\")\n",
    "print(\"Historical matches\")\n",
    "print(historical_matches.info())"
   ]
  },
  {
   "cell_type": "markdown",
   "metadata": {},
   "source": [
    "* ## Historical Rankings data"
   ]
  },
  {
   "cell_type": "code",
   "execution_count": 5,
   "metadata": {},
   "outputs": [
    {
     "data": {
      "text/html": [
       "<div>\n",
       "<style scoped>\n",
       "    .dataframe tbody tr th:only-of-type {\n",
       "        vertical-align: middle;\n",
       "    }\n",
       "\n",
       "    .dataframe tbody tr th {\n",
       "        vertical-align: top;\n",
       "    }\n",
       "\n",
       "    .dataframe thead th {\n",
       "        text-align: right;\n",
       "    }\n",
       "</style>\n",
       "<table border=\"1\" class=\"dataframe\">\n",
       "  <thead>\n",
       "    <tr style=\"text-align: right;\">\n",
       "      <th></th>\n",
       "      <th>rank_date</th>\n",
       "      <th>rank</th>\n",
       "      <th>country_full</th>\n",
       "      <th>country_abrv</th>\n",
       "      <th>total_points</th>\n",
       "      <th>confederation</th>\n",
       "    </tr>\n",
       "  </thead>\n",
       "  <tbody>\n",
       "    <tr>\n",
       "      <th>0</th>\n",
       "      <td>2003-01-15</td>\n",
       "      <td>204.0</td>\n",
       "      <td>Afghanistan</td>\n",
       "      <td>AFG</td>\n",
       "      <td>7.0</td>\n",
       "      <td>AFC</td>\n",
       "    </tr>\n",
       "    <tr>\n",
       "      <th>1</th>\n",
       "      <td>2003-01-16</td>\n",
       "      <td>204.0</td>\n",
       "      <td>Afghanistan</td>\n",
       "      <td>AFG</td>\n",
       "      <td>7.0</td>\n",
       "      <td>AFC</td>\n",
       "    </tr>\n",
       "    <tr>\n",
       "      <th>2</th>\n",
       "      <td>2003-01-17</td>\n",
       "      <td>204.0</td>\n",
       "      <td>Afghanistan</td>\n",
       "      <td>AFG</td>\n",
       "      <td>7.0</td>\n",
       "      <td>AFC</td>\n",
       "    </tr>\n",
       "    <tr>\n",
       "      <th>3</th>\n",
       "      <td>2003-01-18</td>\n",
       "      <td>204.0</td>\n",
       "      <td>Afghanistan</td>\n",
       "      <td>AFG</td>\n",
       "      <td>7.0</td>\n",
       "      <td>AFC</td>\n",
       "    </tr>\n",
       "    <tr>\n",
       "      <th>4</th>\n",
       "      <td>2003-01-19</td>\n",
       "      <td>204.0</td>\n",
       "      <td>Afghanistan</td>\n",
       "      <td>AFG</td>\n",
       "      <td>7.0</td>\n",
       "      <td>AFC</td>\n",
       "    </tr>\n",
       "  </tbody>\n",
       "</table>\n",
       "</div>"
      ],
      "text/plain": [
       "   rank_date   rank country_full country_abrv  total_points confederation\n",
       "0 2003-01-15  204.0  Afghanistan          AFG           7.0           AFC\n",
       "1 2003-01-16  204.0  Afghanistan          AFG           7.0           AFC\n",
       "2 2003-01-17  204.0  Afghanistan          AFG           7.0           AFC\n",
       "3 2003-01-18  204.0  Afghanistan          AFG           7.0           AFC\n",
       "4 2003-01-19  204.0  Afghanistan          AFG           7.0           AFC"
      ]
     },
     "execution_count": 5,
     "metadata": {},
     "output_type": "execute_result"
    }
   ],
   "source": [
    "# Processing rankings data\n",
    "historical_rankings = historical_rankings.loc[:,['rank', 'country_full','country_abrv', 'total_points', 'confederation', 'rank_date']]\n",
    "historical_rankings['rank_date'] = pd.to_datetime(historical_rankings['rank_date'])\n",
    "historical_rankings = historical_rankings.set_index(['rank_date'])\\\n",
    "            .groupby(['country_full'], group_keys=False)\\\n",
    "            .resample('D').first()\\\n",
    "            .fillna(method='ffill')\\\n",
    "            .reset_index()\n",
    "historical_rankings.head()"
   ]
  },
  {
   "cell_type": "code",
   "execution_count": 6,
   "metadata": {},
   "outputs": [
    {
     "data": {
      "text/html": [
       "<div>\n",
       "<style scoped>\n",
       "    .dataframe tbody tr th:only-of-type {\n",
       "        vertical-align: middle;\n",
       "    }\n",
       "\n",
       "    .dataframe tbody tr th {\n",
       "        vertical-align: top;\n",
       "    }\n",
       "\n",
       "    .dataframe thead th {\n",
       "        text-align: right;\n",
       "    }\n",
       "</style>\n",
       "<table border=\"1\" class=\"dataframe\">\n",
       "  <thead>\n",
       "    <tr style=\"text-align: right;\">\n",
       "      <th></th>\n",
       "      <th>rank_date</th>\n",
       "      <th>country_full</th>\n",
       "      <th>rank</th>\n",
       "      <th>total_points</th>\n",
       "    </tr>\n",
       "  </thead>\n",
       "  <tbody>\n",
       "    <tr>\n",
       "      <th>0</th>\n",
       "      <td>1992</td>\n",
       "      <td>Albania</td>\n",
       "      <td>86.000000</td>\n",
       "      <td>14.000000</td>\n",
       "    </tr>\n",
       "    <tr>\n",
       "      <th>1</th>\n",
       "      <td>1992</td>\n",
       "      <td>Algeria</td>\n",
       "      <td>30.000000</td>\n",
       "      <td>39.000000</td>\n",
       "    </tr>\n",
       "    <tr>\n",
       "      <th>2</th>\n",
       "      <td>1992</td>\n",
       "      <td>Angola</td>\n",
       "      <td>102.000000</td>\n",
       "      <td>10.000000</td>\n",
       "    </tr>\n",
       "    <tr>\n",
       "      <th>3</th>\n",
       "      <td>1992</td>\n",
       "      <td>Antigua and Barbuda</td>\n",
       "      <td>109.000000</td>\n",
       "      <td>8.000000</td>\n",
       "    </tr>\n",
       "    <tr>\n",
       "      <th>4</th>\n",
       "      <td>1992</td>\n",
       "      <td>Argentina</td>\n",
       "      <td>10.000000</td>\n",
       "      <td>51.000000</td>\n",
       "    </tr>\n",
       "    <tr>\n",
       "      <th>...</th>\n",
       "      <td>...</td>\n",
       "      <td>...</td>\n",
       "      <td>...</td>\n",
       "      <td>...</td>\n",
       "    </tr>\n",
       "    <tr>\n",
       "      <th>6229</th>\n",
       "      <td>2022</td>\n",
       "      <td>Vietnam</td>\n",
       "      <td>97.014337</td>\n",
       "      <td>1216.872115</td>\n",
       "    </tr>\n",
       "    <tr>\n",
       "      <th>6230</th>\n",
       "      <td>2022</td>\n",
       "      <td>Wales</td>\n",
       "      <td>18.874552</td>\n",
       "      <td>1582.563011</td>\n",
       "    </tr>\n",
       "    <tr>\n",
       "      <th>6231</th>\n",
       "      <td>2022</td>\n",
       "      <td>Yemen</td>\n",
       "      <td>151.767025</td>\n",
       "      <td>1037.620430</td>\n",
       "    </tr>\n",
       "    <tr>\n",
       "      <th>6232</th>\n",
       "      <td>2022</td>\n",
       "      <td>Zambia</td>\n",
       "      <td>87.548387</td>\n",
       "      <td>1267.099176</td>\n",
       "    </tr>\n",
       "    <tr>\n",
       "      <th>6233</th>\n",
       "      <td>2022</td>\n",
       "      <td>Zimbabwe</td>\n",
       "      <td>122.243728</td>\n",
       "      <td>1138.542796</td>\n",
       "    </tr>\n",
       "  </tbody>\n",
       "</table>\n",
       "<p>6234 rows × 4 columns</p>\n",
       "</div>"
      ],
      "text/plain": [
       "      rank_date         country_full        rank  total_points\n",
       "0          1992              Albania   86.000000     14.000000\n",
       "1          1992              Algeria   30.000000     39.000000\n",
       "2          1992               Angola  102.000000     10.000000\n",
       "3          1992  Antigua and Barbuda  109.000000      8.000000\n",
       "4          1992            Argentina   10.000000     51.000000\n",
       "...         ...                  ...         ...           ...\n",
       "6229       2022              Vietnam   97.014337   1216.872115\n",
       "6230       2022                Wales   18.874552   1582.563011\n",
       "6231       2022                Yemen  151.767025   1037.620430\n",
       "6232       2022               Zambia   87.548387   1267.099176\n",
       "6233       2022             Zimbabwe  122.243728   1138.542796\n",
       "\n",
       "[6234 rows x 4 columns]"
      ]
     },
     "execution_count": 6,
     "metadata": {},
     "output_type": "execute_result"
    }
   ],
   "source": [
    "historical_rankings_by_team = historical_rankings.groupby([historical_rankings.rank_date.dt.year,historical_rankings.country_full]).mean()\n",
    "historical_rankings_by_team = historical_rankings_by_team.reset_index()\n",
    "historical_rankings_by_team\n"
   ]
  },
  {
   "cell_type": "code",
   "execution_count": 7,
   "metadata": {},
   "outputs": [
    {
     "name": "stdout",
     "output_type": "stream",
     "text": [
      "Top 10 Averaged World Rank since 1992\n"
     ]
    },
    {
     "data": {
      "image/png": "[encoded data removed]",
      "text/plain": [
       "<Figure size 432x288 with 1 Axes>"
      ]
     },
     "metadata": {
      "needs_background": "light"
     },
     "output_type": "display_data"
    }
   ],
   "source": [
    "print(\"Top 10 Averaged World Rank since 1992\")\n",
    "historical_rankings_by_team_top10 = historical_rankings_by_team.groupby(['country_full']).mean().sort_values(by=['rank'])['rank'][:10].reset_index()\n",
    "#historical_rankings_by_team_top10['country_full']\n",
    "sns.barplot(x = 'country_full',\n",
    "            y = 'rank',\n",
    "            data = historical_rankings_by_team_top10)\n",
    "plt.xticks(rotation=90)\n",
    "plt.show()\n"
   ]
  },
  {
   "cell_type": "code",
   "execution_count": 8,
   "metadata": {},
   "outputs": [
    {
     "name": "stdout",
     "output_type": "stream",
     "text": [
      "Top 32 Teams Averaged World Rank That Failed to Qualify to World Cup 2022\n"
     ]
    },
    {
     "data": {
      "image/png": "[encoded data removed]",
      "text/plain": [
       "<Figure size 432x288 with 1 Axes>"
      ]
     },
     "metadata": {
      "needs_background": "light"
     },
     "output_type": "display_data"
    }
   ],
   "source": [
    "print(\"Top 32 Teams Averaged World Rank That Failed to Qualify to World Cup 2022\")\n",
    "top_32 = historical_rankings_by_team.groupby(['country_full']).mean().sort_values(by=['rank'])['rank'][:32].reset_index()\n",
    "not_in_world_cup_2022 = top_32[~top_32['country_full'].isin(world_cup.index.unique())]\n",
    "sns.barplot(x = 'country_full',\n",
    "            y = 'rank',\n",
    "            data = not_in_world_cup_2022)\n",
    "plt.xticks(rotation=90)\n",
    "plt.show()"
   ]
  },
  {
   "cell_type": "code",
   "execution_count": 9,
   "metadata": {},
   "outputs": [
    {
     "data": {
      "application/vnd.plotly.v1+json": {
       "config": {
        "linkText": "Export to plot.ly",
        "plotlyServerURL": "https://plot.ly",
        "showLink": false
       },
       "data": [
        {
         "mode": "lines",
         "name": "Argentina",
         "type": "scatter",
         "x": [
          1992,
          1993,
          1994,
          1995,
          1996,
          1997,
          1998,
          1999,
          2000,
          2001,
          2002,
          2003,
          2004,
          2005,
          2006,
          2007,
          2008,
          2009,
          2010,
          2011,
          2012,
          2013,
          2014,
          2015,
          2016,
          2017,
          2018,
          2019,
          2020,
          2021,
          2022
         ],
         "y": [
          10,
          9.30958904109589,
          8.558904109589042,
          7.7534246575342465,
          13.292349726775956,
          16.95068493150685,
          7.997260273972603,
          6.638356164383562,
          4.639344262295082,
          2.8876712328767122,
          3.073972602739726,
          4.736986301369863,
          4.96448087431694,
          3.0602739726027397,
          4.695890410958904,
          2.276712328767123,
          3.76775956284153,
          6.8931506849315065,
          6.536986301369863,
          7.375342465753425,
          7.188524590163935,
          3.095890410958904,
          3.3068493150684932,
          1.8465753424657534,
          1.2650273224043715,
          2.5287671232876714,
          7.5917808219178085,
          10.372602739726027,
          8.707650273224044,
          6.841095890410959,
          3.763440860215054
         ]
        },
        {
         "mode": "lines",
         "name": "Australia",
         "type": "scatter",
         "x": [
          1992,
          1993,
          1994,
          1995,
          1996,
          1997,
          1998,
          1999,
          2000,
          2001,
          2002,
          2003,
          2004,
          2005,
          2006,
          2007,
          2008,
          2009,
          2010,
          2011,
          2012,
          2013,
          2014,
          2015,
          2016,
          2017,
          2018,
          2019,
          2020,
          2021,
          2022
         ],
         "y": [
          45,
          49.16986301369863,
          48.45205479452055,
          52.367123287671234,
          52.702185792349724,
          35.68493150684932,
          35.02191780821918,
          59.96986301369863,
          78.49180327868852,
          60.66027397260274,
          47.42465753424658,
          57.704109589041096,
          67.90983606557377,
          55.55068493150685,
          41.106849315068494,
          45.104109589041094,
          39.10928961748634,
          24.04931506849315,
          21.213698630136985,
          21.24931506849315,
          25.16393442622951,
          46.25753424657534,
          71.94246575342466,
          65.68767123287671,
          54.52732240437158,
          47.054794520547944,
          38.64931506849315,
          42.81369863013698,
          41.80601092896175,
          38.298630136986304,
          38.97491039426523
         ]
        },
        {
         "mode": "lines",
         "name": "Belgium",
         "type": "scatter",
         "x": [
          1992,
          1993,
          1994,
          1995,
          1996,
          1997,
          1998,
          1999,
          2000,
          2001,
          2002,
          2003,
          2004,
          2005,
          2006,
          2007,
          2008,
          2009,
          2010,
          2011,
          2012,
          2013,
          2014,
          2015,
          2016,
          2017,
          2018,
          2019,
          2020,
          2021,
          2022
         ],
         "y": [
          17,
          18.882191780821916,
          25.350684931506848,
          23.523287671232875,
          36.01092896174863,
          40.07397260273972,
          33.94794520547945,
          28.635616438356163,
          29.092896174863387,
          26.980821917808218,
          19.923287671232877,
          16.44109589041096,
          24.327868852459016,
          47.31780821917808,
          53.4,
          59.16164383561644,
          48.72677595628415,
          61.202739726027396,
          60.38356164383562,
          43.26575342465753,
          39.98360655737705,
          12.838356164383562,
          8.123287671232877,
          2.706849315068493,
          2.237704918032787,
          6.361643835616438,
          3.1452054794520548,
          1,
          1,
          1,
          1.6810035842293907
         ]
        },
        {
         "mode": "lines",
         "name": "Brazil",
         "type": "scatter",
         "x": [
          1992,
          1993,
          1994,
          1995,
          1996,
          1997,
          1998,
          1999,
          2000,
          2001,
          2002,
          2003,
          2004,
          2005,
          2006,
          2007,
          2008,
          2009,
          2010,
          2011,
          2012,
          2013,
          2014,
          2015,
          2016,
          2017,
          2018,
          2019,
          2020,
          2021,
          2022
         ],
         "y": [
          3,
          3.410958904109589,
          1.621917808219178,
          1,
          1,
          1,
          1,
          1,
          1,
          1.7424657534246575,
          1.7917808219178082,
          1,
          1,
          1,
          1,
          2.0712328767123287,
          3.480874316939891,
          2.9452054794520546,
          2.4,
          4.654794520547945,
          9.352459016393443,
          14.224657534246575,
          6.605479452054794,
          5.846575342465753,
          5.890710382513661,
          1.6547945205479453,
          2.6301369863013697,
          2.8465753424657536,
          3,
          2.610958904109589,
          1.3189964157706093
         ]
        },
        {
         "mode": "lines",
         "name": "Cameroon",
         "type": "scatter",
         "x": [
          1992,
          1993,
          1994,
          1995,
          1996,
          1997,
          1998,
          1999,
          2000,
          2001,
          2002,
          2003,
          2004,
          2005,
          2006,
          2007,
          2008,
          2009,
          2010,
          2011,
          2012,
          2013,
          2014,
          2015,
          2016,
          2017,
          2018,
          2019,
          2020,
          2021,
          2022
         ],
         "y": [
          22,
          22.542465753424658,
          26.506849315068493,
          36.56986301369863,
          39.314207650273225,
          50.21643835616438,
          44.57260273972603,
          48.54246575342466,
          38.557377049180324,
          37.487671232876714,
          19.646575342465752,
          15.304109589041095,
          15.800546448087431,
          24.4,
          14.531506849315068,
          17.213698630136985,
          15.806010928961749,
          19.663013698630138,
          27.610958904109587,
          46.57808219178082,
          62.28688524590164,
          63.33150684931507,
          48.446575342465756,
          46.97534246575343,
          59.450819672131146,
          39.76712328767123,
          49.07123287671233,
          53.536986301369865,
          52.704918032786885,
          53.20821917808219,
          39.437275985663085
         ]
        },
        {
         "mode": "lines",
         "name": "Canada",
         "type": "scatter",
         "x": [
          1992,
          1993,
          1994,
          1995,
          1996,
          1997,
          1998,
          1999,
          2000,
          2001,
          2002,
          2003,
          2004,
          2005,
          2006,
          2007,
          2008,
          2009,
          2010,
          2011,
          2012,
          2013,
          2014,
          2015,
          2016,
          2017,
          2018,
          2019,
          2020,
          2021,
          2022
         ],
         "y": [
          57,
          52.81369863013698,
          52.915068493150685,
          63.85753424657534,
          65.15300546448087,
          51.56712328767123,
          79.73150684931507,
          91.30410958904109,
          64.80327868852459,
          74.1013698630137,
          73.91506849315068,
          76.66301369863014,
          92.56284153005464,
          85.26849315068493,
          78.27671232876712,
          70.46027397260274,
          70.49180327868852,
          77.22465753424657,
          74.98630136986301,
          83.71506849315068,
          71.12295081967213,
          87.66849315068494,
          114.4931506849315,
          107.04383561643836,
          98.01092896174863,
          104.93424657534247,
          81.93424657534247,
          76.53698630136986,
          72.80601092896175,
          62.4986301369863,
          39.30107526881721
         ]
        },
        {
         "mode": "lines",
         "name": "Costa Rica",
         "type": "scatter",
         "x": [
          1992,
          1993,
          1994,
          1995,
          1996,
          1997,
          1998,
          1999,
          2000,
          2001,
          2002,
          2003,
          2004,
          2005,
          2006,
          2007,
          2008,
          2009,
          2010,
          2011,
          2012,
          2013,
          2014,
          2015,
          2016,
          2017,
          2018,
          2019,
          2020,
          2021,
          2022
         ],
         "y": [
          37,
          37.53150684931507,
          51.6958904109589,
          69.5013698630137,
          82.59016393442623,
          58.43013698630137,
          53.23561643835617,
          67.26301369863013,
          62.60655737704918,
          43.28219178082192,
          26.643835616438356,
          18.945205479452056,
          24.52185792349727,
          22.561643835616437,
          39.863013698630134,
          56.36986301369863,
          71.1775956284153,
          39.9013698630137,
          49.652054794520545,
          57.75616438356165,
          62.83606557377049,
          44.443835616438356,
          24.632876712328766,
          26.567123287671233,
          24.7103825136612,
          21.03835616438356,
          30.624657534246577,
          40.76438356164383,
          46.87431693989071,
          48.465753424657535,
          36.6415770609319
         ]
        },
        {
         "mode": "lines",
         "name": "Croatia",
         "type": "scatter",
         "x": [
          1992,
          1993,
          1994,
          1995,
          1996,
          1997,
          1998,
          1999,
          2000,
          2001,
          2002,
          2003,
          2004,
          2005,
          2006,
          2007,
          2008,
          2009,
          2010,
          2011,
          2012,
          2013,
          2014,
          2015,
          2016,
          2017,
          2018,
          2019,
          2020,
          2021,
          2022
         ],
         "y": [
          113,
          115.0931506849315,
          94.90958904109588,
          55.31506849315068,
          29.830601092896174,
          27.50958904109589,
          11.994520547945205,
          5.575342465753424,
          12.259562841530055,
          17.306849315068494,
          25.654794520547945,
          26.616438356164384,
          22.415300546448087,
          21.75890410958904,
          21.005479452054793,
          10.756164383561643,
          9.207650273224044,
          8.43013698630137,
          10.786301369863013,
          9.326027397260274,
          9.084699453551913,
          9.561643835616438,
          17.304109589041097,
          17.002739726027396,
          18.292349726775956,
          16.67945205479452,
          11.345205479452055,
          5.736986301369863,
          6.969945355191257,
          14.317808219178081,
          15.290322580645162
         ]
        },
        {
         "mode": "lines",
         "name": "Denmark",
         "type": "scatter",
         "x": [
          1992,
          1993,
          1994,
          1995,
          1996,
          1997,
          1998,
          1999,
          2000,
          2001,
          2002,
          2003,
          2004,
          2005,
          2006,
          2007,
          2008,
          2009,
          2010,
          2011,
          2012,
          2013,
          2014,
          2015,
          2016,
          2017,
          2018,
          2019,
          2020,
          2021,
          2022
         ],
         "y": [
          9,
          8.068493150684931,
          8.98904109589041,
          11.638356164383561,
          9.191256830601093,
          4.873972602739726,
          19.394520547945206,
          16.23013698630137,
          15.683060109289617,
          19.46027397260274,
          16.063013698630137,
          12.30958904109589,
          14.180327868852459,
          15.764383561643836,
          15.43013698630137,
          25.397260273972602,
          33.63661202185792,
          26.07945205479452,
          30.416438356164385,
          21.81095890410959,
          12.669398907103826,
          23.684931506849313,
          25.364383561643837,
          29.054794520547944,
          42.950819672131146,
          39.605479452054794,
          11.526027397260274,
          11.786301369863013,
          15.319672131147541,
          10.504109589041096,
          9.982078853046595
         ]
        },
        {
         "mode": "lines",
         "name": "Ecuador",
         "type": "scatter",
         "x": [
          1992,
          1993,
          1994,
          1995,
          1996,
          1997,
          1998,
          1999,
          2000,
          2001,
          2002,
          2003,
          2004,
          2005,
          2006,
          2007,
          2008,
          2009,
          2010,
          2011,
          2012,
          2013,
          2014,
          2015,
          2016,
          2017,
          2018,
          2019,
          2020,
          2021,
          2022
         ],
         "y": [
          65,
          55.37534246575343,
          48.47945205479452,
          60.36986301369863,
          40.63661202185792,
          32.86027397260274,
          40.273972602739725,
          57.35890410958904,
          65.06010928961749,
          47.04657534246575,
          34.02739726027397,
          33.76438356164383,
          40.58469945355191,
          35.35616438356164,
          34.35342465753425,
          42.172602739726024,
          51.1448087431694,
          39.04109589041096,
          49.5013698630137,
          57.38630136986301,
          29.34153005464481,
          15.504109589041096,
          24.38082191780822,
          29.301369863013697,
          15.40983606557377,
          34.56164383561644,
          60.92876712328767,
          61.16164383561644,
          62.12021857923497,
          53.35068493150685,
          44.888888888888886
         ]
        },
        {
         "mode": "lines",
         "name": "England",
         "type": "scatter",
         "x": [
          1992,
          1993,
          1994,
          1995,
          1996,
          1997,
          1998,
          1999,
          2000,
          2001,
          2002,
          2003,
          2004,
          2005,
          2006,
          2007,
          2008,
          2009,
          2010,
          2011,
          2012,
          2013,
          2014,
          2015,
          2016,
          2017,
          2018,
          2019,
          2020,
          2021,
          2022
         ],
         "y": [
          5,
          6.567123287671233,
          15.183561643835617,
          20.413698630136988,
          18.51366120218579,
          9.517808219178082,
          7.364383561643836,
          11.632876712328768,
          13.311475409836065,
          13.528767123287672,
          9.156164383561643,
          7.712328767123288,
          8.234972677595628,
          8.021917808219179,
          7.238356164383561,
          8.832876712328767,
          12.027322404371585,
          7.495890410958904,
          7.326027397260274,
          5.835616438356165,
          5.226775956284153,
          9.873972602739727,
          14.783561643835617,
          11.972602739726028,
          11.060109289617486,
          13.515068493150684,
          10.128767123287671,
          4.254794520547946,
          4,
          3.9835616438356163,
          4.85663082437276
         ]
        },
        {
         "mode": "lines",
         "name": "France",
         "type": "scatter",
         "x": [
          1992,
          1993,
          1994,
          1995,
          1996,
          1997,
          1998,
          1999,
          2000,
          2001,
          2002,
          2003,
          2004,
          2005,
          2006,
          2007,
          2008,
          2009,
          2010,
          2011,
          2012,
          2013,
          2014,
          2015,
          2016,
          2017,
          2018,
          2019,
          2020,
          2021,
          2022
         ],
         "y": [
          19,
          16.30958904109589,
          16.265753424657536,
          16.476712328767125,
          5.1502732240437155,
          7.221917808219178,
          8.202739726027398,
          2.2,
          2.431693989071038,
          1.36986301369863,
          1.8054794520547945,
          2.1534246575342464,
          2,
          4.484931506849315,
          5.13972602739726,
          4.328767123287672,
          9.076502732240437,
          9.728767123287671,
          14.33972602739726,
          16.624657534246577,
          15.33879781420765,
          19.83013698630137,
          13.383561643835616,
          15.813698630136987,
          14.98360655737705,
          7.3780821917808215,
          4.841095890410959,
          2.1534246575342464,
          2,
          2.484931506849315,
          3.379928315412186
         ]
        },
        {
         "mode": "lines",
         "name": "Germany",
         "type": "scatter",
         "x": [
          1992,
          1993,
          1994,
          1995,
          1996,
          1997,
          1998,
          1999,
          2000,
          2001,
          2002,
          2003,
          2004,
          2005,
          2006,
          2007,
          2008,
          2009,
          2010,
          2011,
          2012,
          2013,
          2014,
          2015,
          2016,
          2017,
          2018,
          2019,
          2020,
          2021,
          2022
         ],
         "y": [
          1,
          1.7342465753424658,
          2.5342465753424657,
          4.167123287671233,
          2.1721311475409837,
          2.5315068493150683,
          2.4657534246575343,
          4.550684931506849,
          7.147540983606557,
          9.654794520547945,
          7.934246575342466,
          6.473972602739726,
          11.672131147540984,
          16.482191780821918,
          13.542465753424658,
          4.852054794520548,
          3.7868852459016393,
          3.506849315068493,
          4.843835616438356,
          3.210958904109589,
          2.2950819672131146,
          2.095890410958904,
          1.5397260273972602,
          1.7945205479452055,
          3.762295081967213,
          2.115068493150685,
          6,
          14.608219178082193,
          14.612021857923498,
          12.745205479452055,
          11.444444444444445
         ]
        },
        {
         "mode": "lines",
         "name": "Ghana",
         "type": "scatter",
         "x": [
          1992,
          1993,
          1994,
          1995,
          1996,
          1997,
          1998,
          1999,
          2000,
          2001,
          2002,
          2003,
          2004,
          2005,
          2006,
          2007,
          2008,
          2009,
          2010,
          2011,
          2012,
          2013,
          2014,
          2015,
          2016,
          2017,
          2018,
          2019,
          2020,
          2021,
          2022
         ],
         "y": [
          39,
          40.586301369863016,
          29.205479452054796,
          25.77260273972603,
          19.724043715846996,
          39.86027397260274,
          58.21643835616438,
          46.657534246575345,
          52.349726775956285,
          58.75890410958904,
          57.13972602739726,
          68.71232876712328,
          77.92622950819673,
          69.01917808219179,
          37.73150684931507,
          32.61095890410959,
          21.816939890710383,
          33.28767123287671,
          25.663013698630138,
          24.695890410958903,
          27.4672131147541,
          23.073972602739726,
          34.87397260273973,
          28.646575342465752,
          40.202185792349724,
          49.07397260273972,
          51.04109589041096,
          50.12602739726027,
          46.91803278688525,
          51.05205479452055,
          59.03225806451613
         ]
        },
        {
         "mode": "lines",
         "name": "Iran",
         "type": "scatter",
         "x": [
          1992,
          1993,
          1994,
          1995,
          1996,
          1997,
          1998,
          1999,
          2000,
          2001,
          2002,
          2003,
          2004,
          2005,
          2006,
          2007,
          2008,
          2009,
          2010,
          2011,
          2012,
          2013,
          2014,
          2015,
          2016,
          2017,
          2018,
          2019,
          2020,
          2021,
          2022
         ],
         "y": [
          61,
          59.397260273972606,
          61.62739726027397,
          85.17808219178082,
          91.26502732240438,
          66.34520547945205,
          42.30958904109589,
          45.95616438356164,
          43.30874316939891,
          39.553424657534244,
          31.972602739726028,
          37.14794520547945,
          22.215846994535518,
          18.534246575342465,
          31.438356164383563,
          40.15890410958904,
          44.35245901639344,
          54.49041095890411,
          62.654794520547945,
          48.605479452054794,
          49.62841530054645,
          53.797260273972604,
          43.37534246575343,
          42.04657534246575,
          38.423497267759565,
          28.915068493150685,
          32.37808219178082,
          24.043835616438358,
          31.937158469945356,
          27.23835616438356,
          21.59856630824373
         ]
        },
        {
         "mode": "lines",
         "name": "Japan",
         "type": "scatter",
         "x": [
          1992,
          1993,
          1994,
          1995,
          1996,
          1997,
          1998,
          1999,
          2000,
          2001,
          2002,
          2003,
          2004,
          2005,
          2006,
          2007,
          2008,
          2009,
          2010,
          2011,
          2012,
          2013,
          2014,
          2015,
          2016,
          2017,
          2018,
          2019,
          2020,
          2021,
          2022
         ],
         "y": [
          66,
          56.87671232876713,
          42.0986301369863,
          34.99178082191781,
          25.969945355191257,
          18.221917808219178,
          16.87123287671233,
          41.8986301369863,
          50.23770491803279,
          35.47945205479452,
          29.627397260273973,
          24.306849315068494,
          22.991803278688526,
          16.698630136986303,
          31.471232876712328,
          39.4,
          35.322404371584696,
          37.558904109589044,
          37.78356164383562,
          16.5013698630137,
          24.653005464480874,
          34.320547945205476,
          48.016438356164386,
          53.057534246575344,
          53.46994535519126,
          46.50684931506849,
          53.53972602739726,
          30.742465753424657,
          27.806010928961747,
          26.926027397260274,
          23.810035842293907
         ]
        },
        {
         "mode": "lines",
         "name": "Mexico",
         "type": "scatter",
         "x": [
          1992,
          1993,
          1994,
          1995,
          1996,
          1997,
          1998,
          1999,
          2000,
          2001,
          2002,
          2003,
          2004,
          2005,
          2006,
          2007,
          2008,
          2009,
          2010,
          2011,
          2012,
          2013,
          2014,
          2015,
          2016,
          2017,
          2018,
          2019,
          2020,
          2021,
          2022
         ],
         "y": [
          25,
          21.394520547945206,
          15.627397260273973,
          10.638356164383561,
          12,
          10.780821917808218,
          7.347945205479452,
          11.4,
          10.6775956284153,
          11.931506849315069,
          7.235616438356164,
          7.624657534246575,
          6.6502732240437155,
          6.136986301369863,
          11.572602739726028,
          17.252054794520546,
          20.117486338797814,
          24.254794520547946,
          21.35890410958904,
          22.83013698630137,
          19.161202185792348,
          18.224657534246575,
          18.92876712328767,
          24.03287671232877,
          17.530054644808743,
          16.095890410958905,
          15.24931506849315,
          14.926027397260274,
          10.80327868852459,
          10.284931506849315,
          11.387096774193548
         ]
        },
        {
         "mode": "lines",
         "name": "Morocco",
         "type": "scatter",
         "x": [
          1992,
          1993,
          1994,
          1995,
          1996,
          1997,
          1998,
          1999,
          2000,
          2001,
          2002,
          2003,
          2004,
          2005,
          2006,
          2007,
          2008,
          2009,
          2010,
          2011,
          2012,
          2013,
          2014,
          2015,
          2016,
          2017,
          2018,
          2019,
          2020,
          2021,
          2022
         ],
         "y": [
          41,
          37.136986301369866,
          29.646575342465752,
          34.323287671232876,
          30.42622950819672,
          20.863013698630137,
          13.550684931506849,
          20.10958904109589,
          25.718579234972676,
          30.2986301369863,
          38.05205479452055,
          36.293150684931504,
          33.40163934426229,
          34.52876712328767,
          37.824657534246576,
          40.21643835616438,
          41.83606557377049,
          52.9013698630137,
          75.47945205479452,
          66.22191780821917,
          66.8360655737705,
          75.40273972602739,
          79.21369863013699,
          84.64657534246575,
          64.21857923497268,
          52.72054794520548,
          42.706849315068496,
          42.74794520547945,
          41.830601092896174,
          32.608219178082194,
          23.96415770609319
         ]
        },
        {
         "mode": "lines",
         "name": "Netherlands",
         "type": "scatter",
         "x": [
          1992,
          1993,
          1994,
          1995,
          1996,
          1997,
          1998,
          1999,
          2000,
          2001,
          2002,
          2003,
          2004,
          2005,
          2006,
          2007,
          2008,
          2009,
          2010,
          2011,
          2012,
          2013,
          2014,
          2015,
          2016,
          2017,
          2018,
          2019,
          2020,
          2021,
          2022
         ],
         "y": [
          7,
          8.068493150684931,
          5.972602739726027,
          9.498630136986302,
          7.912568306010929,
          8.561643835616438,
          14.441095890410958,
          11.717808219178082,
          14.450819672131148,
          8.594520547945205,
          10.205479452054794,
          5.427397260273972,
          4.953551912568306,
          4.183561643835616,
          4.627397260273972,
          6.96986301369863,
          6.879781420765028,
          2.9232876712328766,
          2.7424657534246575,
          1.9232876712328768,
          5.1775956284153,
          7.536986301369863,
          8.558904109589042,
          8.745205479452055,
          18.98087431693989,
          26.736986301369864,
          18.28219178082192,
          14.408219178082192,
          14,
          13.506849315068493,
          9.240143369175627
         ]
        },
        {
         "mode": "lines",
         "name": "Poland",
         "type": "scatter",
         "x": [
          1992,
          1993,
          1994,
          1995,
          1996,
          1997,
          1998,
          1999,
          2000,
          2001,
          2002,
          2003,
          2004,
          2005,
          2006,
          2007,
          2008,
          2009,
          2010,
          2011,
          2012,
          2013,
          2014,
          2015,
          2016,
          2017,
          2018,
          2019,
          2020,
          2021,
          2022
         ],
         "y": [
          20,
          21.145205479452056,
          29.835616438356166,
          31.101369863013698,
          45.3551912568306,
          52.087671232876716,
          46.35342465753425,
          28.745205479452054,
          36.81693989071038,
          29.18082191780822,
          35.723287671232875,
          30.96986301369863,
          27.02185792349727,
          23.367123287671234,
          27.40821917808219,
          20.904109589041095,
          27.846994535519126,
          40.40821917808219,
          61.038356164383565,
          68.43561643835616,
          61.03825136612022,
          66.02739726027397,
          64.32054794520548,
          36.013698630136986,
          23.401639344262296,
          9.197260273972603,
          12.832876712328767,
          20.08219178082192,
          18.904371584699454,
          22.202739726027396,
          26.49462365591398
         ]
        },
        {
         "mode": "lines",
         "name": "Portugal",
         "type": "scatter",
         "x": [
          1992,
          1993,
          1994,
          1995,
          1996,
          1997,
          1998,
          1999,
          2000,
          2001,
          2002,
          2003,
          2004,
          2005,
          2006,
          2007,
          2008,
          2009,
          2010,
          2011,
          2012,
          2013,
          2014,
          2015,
          2016,
          2017,
          2018,
          2019,
          2020,
          2021,
          2022
         ],
         "y": [
          33,
          28.257534246575343,
          21.997260273972604,
          16.589041095890412,
          15.579234972677595,
          20.28219178082192,
          38.33698630136986,
          15.863013698630137,
          11.032786885245901,
          5.506849315068493,
          7.260273972602739,
          14.386301369863014,
          14.166666666666666,
          9.093150684931507,
          8.63013698630137,
          7.808219178082192,
          9.155737704918034,
          11.972602739726028,
          5.983561643835617,
          7.605479452054794,
          5.565573770491803,
          7.542465753424658,
          6.610958904109589,
          6.328767123287672,
          7.295081967213115,
          5.931506849315069,
          4.641095890410959,
          6.079452054794521,
          6.420765027322404,
          6.071232876712329,
          8.379928315412187
         ]
        },
        {
         "mode": "lines",
         "name": "Qatar",
         "type": "scatter",
         "x": [
          1992,
          1993,
          1994,
          1995,
          1996,
          1997,
          1998,
          1999,
          2000,
          2001,
          2002,
          2003,
          2004,
          2005,
          2006,
          2007,
          2008,
          2009,
          2010,
          2011,
          2012,
          2013,
          2014,
          2015,
          2016,
          2017,
          2018,
          2019,
          2020,
          2021,
          2022
         ],
         "y": [
          52,
          52.19178082191781,
          62.10958904109589,
          67.97534246575343,
          79.90163934426229,
          77.5068493150685,
          71.13424657534246,
          79.3917808219178,
          96.3743169398907,
          87.73424657534247,
          72.78904109589041,
          72.30410958904109,
          59.314207650273225,
          72.14246575342466,
          72.94246575342466,
          80.72328767123288,
          83.4535519125683,
          88.93698630136986,
          98.41095890410959,
          93.43835616438356,
          94.45901639344262,
          104.66027397260274,
          95.75068493150685,
          95.8958904109589,
          83.42622950819673,
          87.7041095890411,
          98.11232876712329,
          60.78904109589041,
          55.52459016393443,
          53.175342465753424,
          49.83870967741935
         ]
        },
        {
         "mode": "lines",
         "name": "Saudi Arabia",
         "type": "scatter",
         "x": [
          1992,
          1993,
          1994,
          1995,
          1996,
          1997,
          1998,
          1999,
          2000,
          2001,
          2002,
          2003,
          2004,
          2005,
          2006,
          2007,
          2008,
          2009,
          2010,
          2011,
          2012,
          2013,
          2014,
          2015,
          2016,
          2017,
          2018,
          2019,
          2020,
          2021,
          2022
         ],
         "y": [
          48,
          45.846575342465755,
          32.295890410958904,
          31.994520547945207,
          39.521857923497265,
          33.88767123287671,
          32.50410958904109,
          37.68767123287671,
          45.5,
          30.912328767123288,
          35.50684931506849,
          39.654794520547945,
          26.311475409836067,
          29.956164383561642,
          50.83835616438356,
          59.413698630136984,
          51.97540983606557,
          59.07123287671233,
          66.59178082191781,
          88.84383561643835,
          99.07377049180327,
          107.04383561643836,
          83.66301369863014,
          93.07945205479452,
          60.33606557377049,
          56.48219178082192,
          68.2027397260274,
          69.4931506849315,
          66.90437158469945,
          61.07945205479452,
          51.50179211469534
         ]
        },
        {
         "mode": "lines",
         "name": "Senegal",
         "type": "scatter",
         "x": [
          1992,
          1993,
          1994,
          1995,
          1996,
          1997,
          1998,
          1999,
          2000,
          2001,
          2002,
          2003,
          2004,
          2005,
          2006,
          2007,
          2008,
          2009,
          2010,
          2011,
          2012,
          2013,
          2014,
          2015,
          2016,
          2017,
          2018,
          2019,
          2020,
          2021,
          2022
         ],
         "y": [
          51,
          54.06027397260274,
          55.54794520547945,
          48.57534246575342,
          55.950819672131146,
          68.34246575342466,
          81.14246575342466,
          86.16164383561645,
          80.97814207650273,
          75.82739726027397,
          39.76164383561644,
          28.84931506849315,
          30.34426229508197,
          33.6958904109589,
          32.56712328767123,
          40.8054794520548,
          44.74590163934426,
          73.33150684931506,
          81.63287671232877,
          51.4,
          65.61748633879782,
          76.51506849315068,
          57.57808219178082,
          37.556164383561644,
          40.75409836065574,
          29.487671232876714,
          25.073972602739726,
          21.726027397260275,
          20.095628415300546,
          20.791780821917808,
          18.88888888888889
         ]
        },
        {
         "mode": "lines",
         "name": "South Korea",
         "type": "scatter",
         "x": [
          1992,
          1993,
          1994,
          1995,
          1996,
          1997,
          1998,
          1999,
          2000,
          2001,
          2002,
          2003,
          2004,
          2005,
          2006,
          2007,
          2008,
          2009,
          2010,
          2011,
          2012,
          2013,
          2014,
          2015,
          2016,
          2017,
          2018,
          2019,
          2020,
          2021,
          2022
         ],
         "y": [
          49,
          44.27945205479452,
          37.989041095890414,
          38.391780821917806,
          50.704918032786885,
          36.016438356164386,
          21.53698630136986,
          36.26575342465753,
          42.98907103825137,
          40.87671232876713,
          31.03013698630137,
          23.553424657534247,
          21.989071038251367,
          23.394520547945206,
          39.92602739726028,
          49.29041095890411,
          48.73224043715847,
          46.90958904109589,
          45.93698630136986,
          30.936986301369863,
          30.2896174863388,
          46.704109589041096,
          59.38904109589041,
          56.00547945205479,
          49.202185792349724,
          47.583561643835615,
          56.443835616438356,
          39.3041095890411,
          39.51639344262295,
          37.136986301369866,
          29.193548387096776
         ]
        },
        {
         "mode": "lines",
         "name": "Spain",
         "type": "scatter",
         "x": [
          1992,
          1993,
          1994,
          1995,
          1996,
          1997,
          1998,
          1999,
          2000,
          2001,
          2002,
          2003,
          2004,
          2005,
          2006,
          2007,
          2008,
          2009,
          2010,
          2011,
          2012,
          2013,
          2014,
          2015,
          2016,
          2017,
          2018,
          2019,
          2020,
          2021,
          2022
         ],
         "y": [
          15,
          13.063013698630137,
          5.873972602739726,
          2.873972602739726,
          6.601092896174864,
          4.698630136986301,
          15.394520547945206,
          7.276712328767124,
          4.557377049180328,
          6.635616438356164,
          5.331506849315068,
          2.750684931506849,
          3.2704918032786887,
          6.854794520547945,
          7.243835616438356,
          8.287671232876713,
          2.5,
          1.389041095890411,
          1.210958904109589,
          1.0767123287671232,
          1,
          1,
          4.413698630136986,
          9.021917808219179,
          6.825136612021858,
          9.643835616438356,
          7.704109589041096,
          8.394520547945206,
          7.516393442622951,
          6.484931506849315,
          6.623655913978495
         ]
        },
        {
         "mode": "lines",
         "name": "Switzerland",
         "type": "scatter",
         "x": [
          1992,
          1993,
          1994,
          1995,
          1996,
          1997,
          1998,
          1999,
          2000,
          2001,
          2002,
          2003,
          2004,
          2005,
          2006,
          2007,
          2008,
          2009,
          2010,
          2011,
          2012,
          2013,
          2014,
          2015,
          2016,
          2017,
          2018,
          2019,
          2020,
          2021,
          2022
         ],
         "y": [
          12,
          10.504109589041096,
          8.906849315068493,
          11.61917808219178,
          27.773224043715846,
          57.391780821917806,
          74.12054794520547,
          56.18082191780822,
          56.44535519125683,
          59.92328767123288,
          59.797260273972604,
          42.16438356164384,
          45.77322404371585,
          43.31780821917808,
          25.528767123287672,
          30.16986301369863,
          41.57377049180328,
          17.353424657534248,
          20.334246575342465,
          23.268493150684932,
          18.008196721311474,
          12.835616438356164,
          8.67123287671233,
          12.517808219178082,
          14.153005464480874,
          8.583561643835617,
          7.561643835616438,
          9.712328767123287,
          13.062841530054644,
          14.156164383561643,
          14.612903225806452
         ]
        },
        {
         "mode": "lines",
         "name": "Tunisia",
         "type": "scatter",
         "x": [
          1992,
          1993,
          1994,
          1995,
          1996,
          1997,
          1998,
          1999,
          2000,
          2001,
          2002,
          2003,
          2004,
          2005,
          2006,
          2007,
          2008,
          2009,
          2010,
          2011,
          2012,
          2013,
          2014,
          2015,
          2016,
          2017,
          2018,
          2019,
          2020,
          2021,
          2022
         ],
         "y": [
          38,
          36.23561643835617,
          30.471232876712328,
          24.846575342465755,
          23.472677595628415,
          24.561643835616437,
          23.123287671232877,
          28.427397260273974,
          26.972677595628415,
          26.723287671232878,
          33.945205479452056,
          42.71232876712329,
          35.77049180327869,
          33.084931506849315,
          26.78904109589041,
          41.652054794520545,
          48.89071038251366,
          50.95068493150685,
          54.54520547945206,
          54.99178082191781,
          49.55191256830601,
          46.084931506849315,
          40.52054794520548,
          31.273972602739725,
          43.4207650273224,
          34.83013698630137,
          23.835616438356166,
          27.71232876712329,
          26.7103825136612,
          26.553424657534247,
          32.55913978494624
         ]
        },
        {
         "mode": "lines",
         "name": "United States",
         "type": "scatter",
         "x": [
          1992,
          1993,
          1994,
          1995,
          1996,
          1997,
          1998,
          1999,
          2000,
          2001,
          2002,
          2003,
          2004,
          2005,
          2006,
          2007,
          2008,
          2009,
          2010,
          2011,
          2012,
          2013,
          2014,
          2015,
          2016,
          2017,
          2018,
          2019,
          2020,
          2021,
          2022
         ],
         "y": [
          24,
          25.046575342465754,
          22.345205479452055,
          22.893150684931506,
          16.762295081967213,
          25.561643835616437,
          17.526027397260275,
          23.75890410958904,
          19.565573770491802,
          17.512328767123286,
          12.646575342465754,
          10.169863013698631,
          10.21584699453552,
          8.830136986301369,
          15.180821917808219,
          22.63013698630137,
          24.382513661202186,
          14.747945205479452,
          16.947945205479453,
          25.328767123287673,
          30.918032786885245,
          22.86027397260274,
          16.646575342465752,
          29.583561643835615,
          27.989071038251367,
          26.931506849315067,
          23.956164383561642,
          24.052054794520547,
          22.095628415300546,
          17.372602739726027,
          13.702508960573477
         ]
        },
        {
         "mode": "lines",
         "name": "Uruguay",
         "type": "scatter",
         "x": [
          1992,
          1993,
          1994,
          1995,
          1996,
          1997,
          1998,
          1999,
          2000,
          2001,
          2002,
          2003,
          2004,
          2005,
          2006,
          2007,
          2008,
          2009,
          2010,
          2011,
          2012,
          2013,
          2014,
          2015,
          2016,
          2017,
          2018,
          2019,
          2020,
          2021,
          2022
         ],
         "y": [
          16,
          16.964383561643835,
          23.671232876712327,
          31.027397260273972,
          40.91256830601093,
          46.273972602739725,
          39.775342465753425,
          56.57534246575342,
          39.2103825136612,
          30.205479452054796,
          23.323287671232876,
          25.85753424657534,
          22.185792349726775,
          18.361643835616437,
          19.76164383561644,
          23.91780821917808,
          25.098360655737704,
          21.172602739726027,
          12.893150684931507,
          6.698630136986301,
          5.191256830601093,
          12.67123287671233,
          6.786301369863014,
          11.997260273972604,
          10.046448087431694,
          14.854794520547944,
          13.501369863013698,
          6.136986301369863,
          5.581967213114754,
          10.827397260273973,
          14.10394265232975
         ]
        },
        {
         "mode": "lines",
         "name": "Wales",
         "type": "scatter",
         "x": [
          1992,
          1993,
          1994,
          1995,
          1996,
          1997,
          1998,
          1999,
          2000,
          2001,
          2002,
          2003,
          2004,
          2005,
          2006,
          2007,
          2008,
          2009,
          2010,
          2011,
          2012,
          2013,
          2014,
          2015,
          2016,
          2017,
          2018,
          2019,
          2020,
          2021,
          2022
         ],
         "y": [
          28,
          27.97808219178082,
          33.57534246575342,
          49.61369863013699,
          69.56830601092896,
          88.12054794520547,
          101.4931506849315,
          84.25479452054795,
          102.85519125683061,
          105.9945205479452,
          86.9972602739726,
          53.29041095890411,
          62.92622950819672,
          74.05753424657534,
          70.01095890410959,
          69.41369863013699,
          55.32513661202186,
          69.94246575342466,
          84.88219178082191,
          99.08219178082192,
          48.00273224043716,
          55.52876712328767,
          42.728767123287675,
          20.183561643835617,
          16.308743169398905,
          14.635616438356164,
          19.172602739726027,
          21.35890410958904,
          21.89344262295082,
          18.041095890410958,
          18.874551971326166
         ]
        },
        {
         "mode": "lines",
         "name": "Serbia",
         "type": "scatter",
         "x": [
          2005,
          2006,
          2007,
          2008,
          2009,
          2010,
          2011,
          2012,
          2013,
          2014,
          2015,
          2016,
          2017,
          2018,
          2019,
          2020,
          2021,
          2022
         ],
         "y": [
          47,
          40.46027397260274,
          26.26027397260274,
          32.669398907103826,
          22.268493150684932,
          16.923287671232877,
          22.526027397260275,
          33.49180327868852,
          36.85205479452055,
          33.087671232876716,
          49.172602739726024,
          50.049180327868854,
          43.73150684931507,
          33.9041095890411,
          31.747945205479454,
          29.385245901639344,
          26.75068493150685,
          24.698924731182796
         ]
        }
       ],
       "layout": {
        "height": 800,
        "template": {
         "data": {
          "bar": [
           {
            "error_x": {
             "color": "#2a3f5f"
            },
            "error_y": {
             "color": "#2a3f5f"
            },
            "marker": {
             "line": {
              "color": "#E5ECF6",
              "width": 0.5
             },
             "pattern": {
              "fillmode": "overlay",
              "size": 10,
              "solidity": 0.2
             }
            },
            "type": "bar"
           }
          ],
          "barpolar": [
           {
            "marker": {
             "line": {
              "color": "#E5ECF6",
              "width": 0.5
             },
             "pattern": {
              "fillmode": "overlay",
              "size": 10,
              "solidity": 0.2
             }
            },
            "type": "barpolar"
           }
          ],
          "carpet": [
           {
            "aaxis": {
             "endlinecolor": "#2a3f5f",
             "gridcolor": "white",
             "linecolor": "white",
             "minorgridcolor": "white",
             "startlinecolor": "#2a3f5f"
            },
            "baxis": {
             "endlinecolor": "#2a3f5f",
             "gridcolor": "white",
             "linecolor": "white",
             "minorgridcolor": "white",
             "startlinecolor": "#2a3f5f"
            },
            "type": "carpet"
           }
          ],
          "choropleth": [
           {
            "colorbar": {
             "outlinewidth": 0,
             "ticks": ""
            },
            "type": "choropleth"
           }
          ],
          "contour": [
           {
            "colorbar": {
             "outlinewidth": 0,
             "ticks": ""
            },
            "colorscale": [
             [
              0,
              "#0d0887"
             ],
             [
              0.1111111111111111,
              "#46039f"
             ],
             [
              0.2222222222222222,
              "#7201a8"
             ],
             [
              0.3333333333333333,
              "#9c179e"
             ],
             [
              0.4444444444444444,
              "#bd3786"
             ],
             [
              0.5555555555555556,
              "#d8576b"
             ],
             [
              0.6666666666666666,
              "#ed7953"
             ],
             [
              0.7777777777777778,
              "#fb9f3a"
             ],
             [
              0.8888888888888888,
              "#fdca26"
             ],
             [
              1,
              "#f0f921"
             ]
            ],
            "type": "contour"
           }
          ],
          "contourcarpet": [
           {
            "colorbar": {
             "outlinewidth": 0,
             "ticks": ""
            },
            "type": "contourcarpet"
           }
          ],
          "heatmap": [
           {
            "colorbar": {
             "outlinewidth": 0,
             "ticks": ""
            },
            "colorscale": [
             [
              0,
              "#0d0887"
             ],
             [
              0.1111111111111111,
              "#46039f"
             ],
             [
              0.2222222222222222,
              "#7201a8"
             ],
             [
              0.3333333333333333,
              "#9c179e"
             ],
             [
              0.4444444444444444,
              "#bd3786"
             ],
             [
              0.5555555555555556,
              "#d8576b"
             ],
             [
              0.6666666666666666,
              "#ed7953"
             ],
             [
              0.7777777777777778,
              "#fb9f3a"
             ],
             [
              0.8888888888888888,
              "#fdca26"
             ],
             [
              1,
              "#f0f921"
             ]
            ],
            "type": "heatmap"
           }
          ],
          "heatmapgl": [
           {
            "colorbar": {
             "outlinewidth": 0,
             "ticks": ""
            },
            "colorscale": [
             [
              0,
              "#0d0887"
             ],
             [
              0.1111111111111111,
              "#46039f"
             ],
             [
              0.2222222222222222,
              "#7201a8"
             ],
             [
              0.3333333333333333,
              "#9c179e"
             ],
             [
              0.4444444444444444,
              "#bd3786"
             ],
             [
              0.5555555555555556,
              "#d8576b"
             ],
             [
              0.6666666666666666,
              "#ed7953"
             ],
             [
              0.7777777777777778,
              "#fb9f3a"
             ],
             [
              0.8888888888888888,
              "#fdca26"
             ],
             [
              1,
              "#f0f921"
             ]
            ],
            "type": "heatmapgl"
           }
          ],
          "histogram": [
           {
            "marker": {
             "pattern": {
              "fillmode": "overlay",
              "size": 10,
              "solidity": 0.2
             }
            },
            "type": "histogram"
           }
          ],
          "histogram2d": [
           {
            "colorbar": {
             "outlinewidth": 0,
             "ticks": ""
            },
            "colorscale": [
             [
              0,
              "#0d0887"
             ],
             [
              0.1111111111111111,
              "#46039f"
             ],
             [
              0.2222222222222222,
              "#7201a8"
             ],
             [
              0.3333333333333333,
              "#9c179e"
             ],
             [
              0.4444444444444444,
              "#bd3786"
             ],
             [
              0.5555555555555556,
              "#d8576b"
             ],
             [
              0.6666666666666666,
              "#ed7953"
             ],
             [
              0.7777777777777778,
              "#fb9f3a"
             ],
             [
              0.8888888888888888,
              "#fdca26"
             ],
             [
              1,
              "#f0f921"
             ]
            ],
            "type": "histogram2d"
           }
          ],
          "histogram2dcontour": [
           {
            "colorbar": {
             "outlinewidth": 0,
             "ticks": ""
            },
            "colorscale": [
             [
              0,
              "#0d0887"
             ],
             [
              0.1111111111111111,
              "#46039f"
             ],
             [
              0.2222222222222222,
              "#7201a8"
             ],
             [
              0.3333333333333333,
              "#9c179e"
             ],
             [
              0.4444444444444444,
              "#bd3786"
             ],
             [
              0.5555555555555556,
              "#d8576b"
             ],
             [
              0.6666666666666666,
              "#ed7953"
             ],
             [
              0.7777777777777778,
              "#fb9f3a"
             ],
             [
              0.8888888888888888,
              "#fdca26"
             ],
             [
              1,
              "#f0f921"
             ]
            ],
            "type": "histogram2dcontour"
           }
          ],
          "mesh3d": [
           {
            "colorbar": {
             "outlinewidth": 0,
             "ticks": ""
            },
            "type": "mesh3d"
           }
          ],
          "parcoords": [
           {
            "line": {
             "colorbar": {
              "outlinewidth": 0,
              "ticks": ""
             }
            },
            "type": "parcoords"
           }
          ],
          "pie": [
           {
            "automargin": true,
            "type": "pie"
           }
          ],
          "scatter": [
           {
            "marker": {
             "colorbar": {
              "outlinewidth": 0,
              "ticks": ""
             }
            },
            "type": "scatter"
           }
          ],
          "scatter3d": [
           {
            "line": {
             "colorbar": {
              "outlinewidth": 0,
              "ticks": ""
             }
            },
            "marker": {
             "colorbar": {
              "outlinewidth": 0,
              "ticks": ""
             }
            },
            "type": "scatter3d"
           }
          ],
          "scattercarpet": [
           {
            "marker": {
             "colorbar": {
              "outlinewidth": 0,
              "ticks": ""
             }
            },
            "type": "scattercarpet"
           }
          ],
          "scattergeo": [
           {
            "marker": {
             "colorbar": {
              "outlinewidth": 0,
              "ticks": ""
             }
            },
            "type": "scattergeo"
           }
          ],
          "scattergl": [
           {
            "marker": {
             "colorbar": {
              "outlinewidth": 0,
              "ticks": ""
             }
            },
            "type": "scattergl"
           }
          ],
          "scattermapbox": [
           {
            "marker": {
             "colorbar": {
              "outlinewidth": 0,
              "ticks": ""
             }
            },
            "type": "scattermapbox"
           }
          ],
          "scatterpolar": [
           {
            "marker": {
             "colorbar": {
              "outlinewidth": 0,
              "ticks": ""
             }
            },
            "type": "scatterpolar"
           }
          ],
          "scatterpolargl": [
           {
            "marker": {
             "colorbar": {
              "outlinewidth": 0,
              "ticks": ""
             }
            },
            "type": "scatterpolargl"
           }
          ],
          "scatterternary": [
           {
            "marker": {
             "colorbar": {
              "outlinewidth": 0,
              "ticks": ""
             }
            },
            "type": "scatterternary"
           }
          ],
          "surface": [
           {
            "colorbar": {
             "outlinewidth": 0,
             "ticks": ""
            },
            "colorscale": [
             [
              0,
              "#0d0887"
             ],
             [
              0.1111111111111111,
              "#46039f"
             ],
             [
              0.2222222222222222,
              "#7201a8"
             ],
             [
              0.3333333333333333,
              "#9c179e"
             ],
             [
              0.4444444444444444,
              "#bd3786"
             ],
             [
              0.5555555555555556,
              "#d8576b"
             ],
             [
              0.6666666666666666,
              "#ed7953"
             ],
             [
              0.7777777777777778,
              "#fb9f3a"
             ],
             [
              0.8888888888888888,
              "#fdca26"
             ],
             [
              1,
              "#f0f921"
             ]
            ],
            "type": "surface"
           }
          ],
          "table": [
           {
            "cells": {
             "fill": {
              "color": "#EBF0F8"
             },
             "line": {
              "color": "white"
             }
            },
            "header": {
             "fill": {
              "color": "#C8D4E3"
             },
             "line": {
              "color": "white"
             }
            },
            "type": "table"
           }
          ]
         },
         "layout": {
          "annotationdefaults": {
           "arrowcolor": "#2a3f5f",
           "arrowhead": 0,
           "arrowwidth": 1
          },
          "autotypenumbers": "strict",
          "coloraxis": {
           "colorbar": {
            "outlinewidth": 0,
            "ticks": ""
           }
          },
          "colorscale": {
           "diverging": [
            [
             0,
             "#8e0152"
            ],
            [
             0.1,
             "#c51b7d"
            ],
            [
             0.2,
             "#de77ae"
            ],
            [
             0.3,
             "#f1b6da"
            ],
            [
             0.4,
             "#fde0ef"
            ],
            [
             0.5,
             "#f7f7f7"
            ],
            [
             0.6,
             "#e6f5d0"
            ],
            [
             0.7,
             "#b8e186"
            ],
            [
             0.8,
             "#7fbc41"
            ],
            [
             0.9,
             "#4d9221"
            ],
            [
             1,
             "#276419"
            ]
           ],
           "sequential": [
            [
             0,
             "#0d0887"
            ],
            [
             0.1111111111111111,
             "#46039f"
            ],
            [
             0.2222222222222222,
             "#7201a8"
            ],
            [
             0.3333333333333333,
             "#9c179e"
            ],
            [
             0.4444444444444444,
             "#bd3786"
            ],
            [
             0.5555555555555556,
             "#d8576b"
            ],
            [
             0.6666666666666666,
             "#ed7953"
            ],
            [
             0.7777777777777778,
             "#fb9f3a"
            ],
            [
             0.8888888888888888,
             "#fdca26"
            ],
            [
             1,
             "#f0f921"
            ]
           ],
           "sequentialminus": [
            [
             0,
             "#0d0887"
            ],
            [
             0.1111111111111111,
             "#46039f"
            ],
            [
             0.2222222222222222,
             "#7201a8"
            ],
            [
             0.3333333333333333,
             "#9c179e"
            ],
            [
             0.4444444444444444,
             "#bd3786"
            ],
            [
             0.5555555555555556,
             "#d8576b"
            ],
            [
             0.6666666666666666,
             "#ed7953"
            ],
            [
             0.7777777777777778,
             "#fb9f3a"
            ],
            [
             0.8888888888888888,
             "#fdca26"
            ],
            [
             1,
             "#f0f921"
            ]
           ]
          },
          "colorway": [
           "#636efa",
           "#EF553B",
           "#00cc96",
           "#ab63fa",
           "#FFA15A",
           "#19d3f3",
           "#FF6692",
           "#B6E880",
           "#FF97FF",
           "#FECB52"
          ],
          "font": {
           "color": "#2a3f5f"
          },
          "geo": {
           "bgcolor": "white",
           "lakecolor": "white",
           "landcolor": "#E5ECF6",
           "showlakes": true,
           "showland": true,
           "subunitcolor": "white"
          },
          "hoverlabel": {
           "align": "left"
          },
          "hovermode": "closest",
          "mapbox": {
           "style": "light"
          },
          "paper_bgcolor": "white",
          "plot_bgcolor": "#E5ECF6",
          "polar": {
           "angularaxis": {
            "gridcolor": "white",
            "linecolor": "white",
            "ticks": ""
           },
           "bgcolor": "#E5ECF6",
           "radialaxis": {
            "gridcolor": "white",
            "linecolor": "white",
            "ticks": ""
           }
          },
          "scene": {
           "xaxis": {
            "backgroundcolor": "#E5ECF6",
            "gridcolor": "white",
            "gridwidth": 2,
            "linecolor": "white",
            "showbackground": true,
            "ticks": "",
            "zerolinecolor": "white"
           },
           "yaxis": {
            "backgroundcolor": "#E5ECF6",
            "gridcolor": "white",
            "gridwidth": 2,
            "linecolor": "white",
            "showbackground": true,
            "ticks": "",
            "zerolinecolor": "white"
           },
           "zaxis": {
            "backgroundcolor": "#E5ECF6",
            "gridcolor": "white",
            "gridwidth": 2,
            "linecolor": "white",
            "showbackground": true,
            "ticks": "",
            "zerolinecolor": "white"
           }
          },
          "shapedefaults": {
           "line": {
            "color": "#2a3f5f"
           }
          },
          "ternary": {
           "aaxis": {
            "gridcolor": "white",
            "linecolor": "white",
            "ticks": ""
           },
           "baxis": {
            "gridcolor": "white",
            "linecolor": "white",
            "ticks": ""
           },
           "bgcolor": "#E5ECF6",
           "caxis": {
            "gridcolor": "white",
            "linecolor": "white",
            "ticks": ""
           }
          },
          "title": {
           "x": 0.05
          },
          "xaxis": {
           "automargin": true,
           "gridcolor": "white",
           "linecolor": "white",
           "ticks": "",
           "title": {
            "standoff": 15
           },
           "zerolinecolor": "white",
           "zerolinewidth": 2
          },
          "yaxis": {
           "automargin": true,
           "gridcolor": "white",
           "linecolor": "white",
           "ticks": "",
           "title": {
            "standoff": 15
           },
           "zerolinecolor": "white",
           "zerolinewidth": 2
          }
         }
        },
        "title": {
         "text": "FIFA Rank of World Cup 2022 Participants From 1993-2022"
        },
        "xaxis": {
         "dtick": 6,
         "title": {
          "text": "Rank Date"
         }
        },
        "yaxis": {
         "autorange": "reversed",
         "dtick": 10,
         "title": {
          "text": "Rank"
         }
        }
       }
      },
      "text/html": [
       "<div>                            <div id=\"fcb69490-e458-46df-a5a2-4943976d7693\" class=\"plotly-graph-div\" style=\"height:800px; width:100%;\"></div>            <script type=\"text/javascript\">                require([\"plotly\"], function(Plotly) {                    window.PLOTLYENV=window.PLOTLYENV || {};                                    if (document.getElementById(\"fcb69490-e458-46df-a5a2-4943976d7693\")) {                    Plotly.newPlot(                        \"fcb69490-e458-46df-a5a2-4943976d7693\",                        [{\"mode\":\"lines\",\"name\":\"Argentina\",\"x\":[1992,1993,1994,1995,1996,1997,1998,1999,2000,2001,2002,2003,2004,2005,2006,2007,2008,2009,2010,2011,2012,2013,2014,2015,2016,2017,2018,2019,2020,2021,2022],\"y\":[10.0,9.30958904109589,8.558904109589042,7.7534246575342465,13.292349726775956,16.95068493150685,7.997260273972603,6.638356164383562,4.639344262295082,2.8876712328767122,3.073972602739726,4.736986301369863,4.96448087431694,3.0602739726027397,4.695890410958904,2.276712328767123,3.76775956284153,6.8931506849315065,6.536986301369863,7.375342465753425,7.188524590163935,3.095890410958904,3.3068493150684932,1.8465753424657534,1.2650273224043715,2.5287671232876714,7.5917808219178085,10.372602739726027,8.707650273224044,6.841095890410959,3.763440860215054],\"type\":\"scatter\"},{\"mode\":\"lines\",\"name\":\"Australia\",\"x\":[1992,1993,1994,1995,1996,1997,1998,1999,2000,2001,2002,2003,2004,2005,2006,2007,2008,2009,2010,2011,2012,2013,2014,2015,2016,2017,2018,2019,2020,2021,2022],\"y\":[45.0,49.16986301369863,48.45205479452055,52.367123287671234,52.702185792349724,35.68493150684932,35.02191780821918,59.96986301369863,78.49180327868852,60.66027397260274,47.42465753424658,57.704109589041096,67.90983606557377,55.55068493150685,41.106849315068494,45.104109589041094,39.10928961748634,24.04931506849315,21.213698630136985,21.24931506849315,25.16393442622951,46.25753424657534,71.94246575342466,65.68767123287671,54.52732240437158,47.054794520547944,38.64931506849315,42.81369863013698,41.80601092896175,38.298630136986304,38.97491039426523],\"type\":\"scatter\"},{\"mode\":\"lines\",\"name\":\"Belgium\",\"x\":[1992,1993,1994,1995,1996,1997,1998,1999,2000,2001,2002,2003,2004,2005,2006,2007,2008,2009,2010,2011,2012,2013,2014,2015,2016,2017,2018,2019,2020,2021,2022],\"y\":[17.0,18.882191780821916,25.350684931506848,23.523287671232875,36.01092896174863,40.07397260273972,33.94794520547945,28.635616438356163,29.092896174863387,26.980821917808218,19.923287671232877,16.44109589041096,24.327868852459016,47.31780821917808,53.4,59.16164383561644,48.72677595628415,61.202739726027396,60.38356164383562,43.26575342465753,39.98360655737705,12.838356164383562,8.123287671232877,2.706849315068493,2.237704918032787,6.361643835616438,3.1452054794520548,1.0,1.0,1.0,1.6810035842293907],\"type\":\"scatter\"},{\"mode\":\"lines\",\"name\":\"Brazil\",\"x\":[1992,1993,1994,1995,1996,1997,1998,1999,2000,2001,2002,2003,2004,2005,2006,2007,2008,2009,2010,2011,2012,2013,2014,2015,2016,2017,2018,2019,2020,2021,2022],\"y\":[3.0,3.410958904109589,1.621917808219178,1.0,1.0,1.0,1.0,1.0,1.0,1.7424657534246575,1.7917808219178082,1.0,1.0,1.0,1.0,2.0712328767123287,3.480874316939891,2.9452054794520546,2.4,4.654794520547945,9.352459016393443,14.224657534246575,6.605479452054794,5.846575342465753,5.890710382513661,1.6547945205479453,2.6301369863013697,2.8465753424657536,3.0,2.610958904109589,1.3189964157706093],\"type\":\"scatter\"},{\"mode\":\"lines\",\"name\":\"Cameroon\",\"x\":[1992,1993,1994,1995,1996,1997,1998,1999,2000,2001,2002,2003,2004,2005,2006,2007,2008,2009,2010,2011,2012,2013,2014,2015,2016,2017,2018,2019,2020,2021,2022],\"y\":[22.0,22.542465753424658,26.506849315068493,36.56986301369863,39.314207650273225,50.21643835616438,44.57260273972603,48.54246575342466,38.557377049180324,37.487671232876714,19.646575342465752,15.304109589041095,15.800546448087431,24.4,14.531506849315068,17.213698630136985,15.806010928961749,19.663013698630138,27.610958904109587,46.57808219178082,62.28688524590164,63.33150684931507,48.446575342465756,46.97534246575343,59.450819672131146,39.76712328767123,49.07123287671233,53.536986301369865,52.704918032786885,53.20821917808219,39.437275985663085],\"type\":\"scatter\"},{\"mode\":\"lines\",\"name\":\"Canada\",\"x\":[1992,1993,1994,1995,1996,1997,1998,1999,2000,2001,2002,2003,2004,2005,2006,2007,2008,2009,2010,2011,2012,2013,2014,2015,2016,2017,2018,2019,2020,2021,2022],\"y\":[57.0,52.81369863013698,52.915068493150685,63.85753424657534,65.15300546448087,51.56712328767123,79.73150684931507,91.30410958904109,64.80327868852459,74.1013698630137,73.91506849315068,76.66301369863014,92.56284153005464,85.26849315068493,78.27671232876712,70.46027397260274,70.49180327868852,77.22465753424657,74.98630136986301,83.71506849315068,71.12295081967213,87.66849315068494,114.4931506849315,107.04383561643836,98.01092896174863,104.93424657534247,81.93424657534247,76.53698630136986,72.80601092896175,62.4986301369863,39.30107526881721],\"type\":\"scatter\"},{\"mode\":\"lines\",\"name\":\"Costa Rica\",\"x\":[1992,1993,1994,1995,1996,1997,1998,1999,2000,2001,2002,2003,2004,2005,2006,2007,2008,2009,2010,2011,2012,2013,2014,2015,2016,2017,2018,2019,2020,2021,2022],\"y\":[37.0,37.53150684931507,51.6958904109589,69.5013698630137,82.59016393442623,58.43013698630137,53.23561643835617,67.26301369863013,62.60655737704918,43.28219178082192,26.643835616438356,18.945205479452056,24.52185792349727,22.561643835616437,39.863013698630134,56.36986301369863,71.1775956284153,39.9013698630137,49.652054794520545,57.75616438356165,62.83606557377049,44.443835616438356,24.632876712328766,26.567123287671233,24.7103825136612,21.03835616438356,30.624657534246577,40.76438356164383,46.87431693989071,48.465753424657535,36.6415770609319],\"type\":\"scatter\"},{\"mode\":\"lines\",\"name\":\"Croatia\",\"x\":[1992,1993,1994,1995,1996,1997,1998,1999,2000,2001,2002,2003,2004,2005,2006,2007,2008,2009,2010,2011,2012,2013,2014,2015,2016,2017,2018,2019,2020,2021,2022],\"y\":[113.0,115.0931506849315,94.90958904109588,55.31506849315068,29.830601092896174,27.50958904109589,11.994520547945205,5.575342465753424,12.259562841530055,17.306849315068494,25.654794520547945,26.616438356164384,22.415300546448087,21.75890410958904,21.005479452054793,10.756164383561643,9.207650273224044,8.43013698630137,10.786301369863013,9.326027397260274,9.084699453551913,9.561643835616438,17.304109589041097,17.002739726027396,18.292349726775956,16.67945205479452,11.345205479452055,5.736986301369863,6.969945355191257,14.317808219178081,15.290322580645162],\"type\":\"scatter\"},{\"mode\":\"lines\",\"name\":\"Denmark\",\"x\":[1992,1993,1994,1995,1996,1997,1998,1999,2000,2001,2002,2003,2004,2005,2006,2007,2008,2009,2010,2011,2012,2013,2014,2015,2016,2017,2018,2019,2020,2021,2022],\"y\":[9.0,8.068493150684931,8.98904109589041,11.638356164383561,9.191256830601093,4.873972602739726,19.394520547945206,16.23013698630137,15.683060109289617,19.46027397260274,16.063013698630137,12.30958904109589,14.180327868852459,15.764383561643836,15.43013698630137,25.397260273972602,33.63661202185792,26.07945205479452,30.416438356164385,21.81095890410959,12.669398907103826,23.684931506849313,25.364383561643837,29.054794520547944,42.950819672131146,39.605479452054794,11.526027397260274,11.786301369863013,15.319672131147541,10.504109589041096,9.982078853046595],\"type\":\"scatter\"},{\"mode\":\"lines\",\"name\":\"Ecuador\",\"x\":[1992,1993,1994,1995,1996,1997,1998,1999,2000,2001,2002,2003,2004,2005,2006,2007,2008,2009,2010,2011,2012,2013,2014,2015,2016,2017,2018,2019,2020,2021,2022],\"y\":[65.0,55.37534246575343,48.47945205479452,60.36986301369863,40.63661202185792,32.86027397260274,40.273972602739725,57.35890410958904,65.06010928961749,47.04657534246575,34.02739726027397,33.76438356164383,40.58469945355191,35.35616438356164,34.35342465753425,42.172602739726024,51.1448087431694,39.04109589041096,49.5013698630137,57.38630136986301,29.34153005464481,15.504109589041096,24.38082191780822,29.301369863013697,15.40983606557377,34.56164383561644,60.92876712328767,61.16164383561644,62.12021857923497,53.35068493150685,44.888888888888886],\"type\":\"scatter\"},{\"mode\":\"lines\",\"name\":\"England\",\"x\":[1992,1993,1994,1995,1996,1997,1998,1999,2000,2001,2002,2003,2004,2005,2006,2007,2008,2009,2010,2011,2012,2013,2014,2015,2016,2017,2018,2019,2020,2021,2022],\"y\":[5.0,6.567123287671233,15.183561643835617,20.413698630136988,18.51366120218579,9.517808219178082,7.364383561643836,11.632876712328768,13.311475409836065,13.528767123287672,9.156164383561643,7.712328767123288,8.234972677595628,8.021917808219179,7.238356164383561,8.832876712328767,12.027322404371585,7.495890410958904,7.326027397260274,5.835616438356165,5.226775956284153,9.873972602739727,14.783561643835617,11.972602739726028,11.060109289617486,13.515068493150684,10.128767123287671,4.254794520547946,4.0,3.9835616438356163,4.85663082437276],\"type\":\"scatter\"},{\"mode\":\"lines\",\"name\":\"France\",\"x\":[1992,1993,1994,1995,1996,1997,1998,1999,2000,2001,2002,2003,2004,2005,2006,2007,2008,2009,2010,2011,2012,2013,2014,2015,2016,2017,2018,2019,2020,2021,2022],\"y\":[19.0,16.30958904109589,16.265753424657536,16.476712328767125,5.1502732240437155,7.221917808219178,8.202739726027398,2.2,2.431693989071038,1.36986301369863,1.8054794520547945,2.1534246575342464,2.0,4.484931506849315,5.13972602739726,4.328767123287672,9.076502732240437,9.728767123287671,14.33972602739726,16.624657534246577,15.33879781420765,19.83013698630137,13.383561643835616,15.813698630136987,14.98360655737705,7.3780821917808215,4.841095890410959,2.1534246575342464,2.0,2.484931506849315,3.379928315412186],\"type\":\"scatter\"},{\"mode\":\"lines\",\"name\":\"Germany\",\"x\":[1992,1993,1994,1995,1996,1997,1998,1999,2000,2001,2002,2003,2004,2005,2006,2007,2008,2009,2010,2011,2012,2013,2014,2015,2016,2017,2018,2019,2020,2021,2022],\"y\":[1.0,1.7342465753424658,2.5342465753424657,4.167123287671233,2.1721311475409837,2.5315068493150683,2.4657534246575343,4.550684931506849,7.147540983606557,9.654794520547945,7.934246575342466,6.473972602739726,11.672131147540984,16.482191780821918,13.542465753424658,4.852054794520548,3.7868852459016393,3.506849315068493,4.843835616438356,3.210958904109589,2.2950819672131146,2.095890410958904,1.5397260273972602,1.7945205479452055,3.762295081967213,2.115068493150685,6.0,14.608219178082193,14.612021857923498,12.745205479452055,11.444444444444445],\"type\":\"scatter\"},{\"mode\":\"lines\",\"name\":\"Ghana\",\"x\":[1992,1993,1994,1995,1996,1997,1998,1999,2000,2001,2002,2003,2004,2005,2006,2007,2008,2009,2010,2011,2012,2013,2014,2015,2016,2017,2018,2019,2020,2021,2022],\"y\":[39.0,40.586301369863016,29.205479452054796,25.77260273972603,19.724043715846996,39.86027397260274,58.21643835616438,46.657534246575345,52.349726775956285,58.75890410958904,57.13972602739726,68.71232876712328,77.92622950819673,69.01917808219179,37.73150684931507,32.61095890410959,21.816939890710383,33.28767123287671,25.663013698630138,24.695890410958903,27.4672131147541,23.073972602739726,34.87397260273973,28.646575342465752,40.202185792349724,49.07397260273972,51.04109589041096,50.12602739726027,46.91803278688525,51.05205479452055,59.03225806451613],\"type\":\"scatter\"},{\"mode\":\"lines\",\"name\":\"Iran\",\"x\":[1992,1993,1994,1995,1996,1997,1998,1999,2000,2001,2002,2003,2004,2005,2006,2007,2008,2009,2010,2011,2012,2013,2014,2015,2016,2017,2018,2019,2020,2021,2022],\"y\":[61.0,59.397260273972606,61.62739726027397,85.17808219178082,91.26502732240438,66.34520547945205,42.30958904109589,45.95616438356164,43.30874316939891,39.553424657534244,31.972602739726028,37.14794520547945,22.215846994535518,18.534246575342465,31.438356164383563,40.15890410958904,44.35245901639344,54.49041095890411,62.654794520547945,48.605479452054794,49.62841530054645,53.797260273972604,43.37534246575343,42.04657534246575,38.423497267759565,28.915068493150685,32.37808219178082,24.043835616438358,31.937158469945356,27.23835616438356,21.59856630824373],\"type\":\"scatter\"},{\"mode\":\"lines\",\"name\":\"Japan\",\"x\":[1992,1993,1994,1995,1996,1997,1998,1999,2000,2001,2002,2003,2004,2005,2006,2007,2008,2009,2010,2011,2012,2013,2014,2015,2016,2017,2018,2019,2020,2021,2022],\"y\":[66.0,56.87671232876713,42.0986301369863,34.99178082191781,25.969945355191257,18.221917808219178,16.87123287671233,41.8986301369863,50.23770491803279,35.47945205479452,29.627397260273973,24.306849315068494,22.991803278688526,16.698630136986303,31.471232876712328,39.4,35.322404371584696,37.558904109589044,37.78356164383562,16.5013698630137,24.653005464480874,34.320547945205476,48.016438356164386,53.057534246575344,53.46994535519126,46.50684931506849,53.53972602739726,30.742465753424657,27.806010928961747,26.926027397260274,23.810035842293907],\"type\":\"scatter\"},{\"mode\":\"lines\",\"name\":\"Mexico\",\"x\":[1992,1993,1994,1995,1996,1997,1998,1999,2000,2001,2002,2003,2004,2005,2006,2007,2008,2009,2010,2011,2012,2013,2014,2015,2016,2017,2018,2019,2020,2021,2022],\"y\":[25.0,21.394520547945206,15.627397260273973,10.638356164383561,12.0,10.780821917808218,7.347945205479452,11.4,10.6775956284153,11.931506849315069,7.235616438356164,7.624657534246575,6.6502732240437155,6.136986301369863,11.572602739726028,17.252054794520546,20.117486338797814,24.254794520547946,21.35890410958904,22.83013698630137,19.161202185792348,18.224657534246575,18.92876712328767,24.03287671232877,17.530054644808743,16.095890410958905,15.24931506849315,14.926027397260274,10.80327868852459,10.284931506849315,11.387096774193548],\"type\":\"scatter\"},{\"mode\":\"lines\",\"name\":\"Morocco\",\"x\":[1992,1993,1994,1995,1996,1997,1998,1999,2000,2001,2002,2003,2004,2005,2006,2007,2008,2009,2010,2011,2012,2013,2014,2015,2016,2017,2018,2019,2020,2021,2022],\"y\":[41.0,37.136986301369866,29.646575342465752,34.323287671232876,30.42622950819672,20.863013698630137,13.550684931506849,20.10958904109589,25.718579234972676,30.2986301369863,38.05205479452055,36.293150684931504,33.40163934426229,34.52876712328767,37.824657534246576,40.21643835616438,41.83606557377049,52.9013698630137,75.47945205479452,66.22191780821917,66.8360655737705,75.40273972602739,79.21369863013699,84.64657534246575,64.21857923497268,52.72054794520548,42.706849315068496,42.74794520547945,41.830601092896174,32.608219178082194,23.96415770609319],\"type\":\"scatter\"},{\"mode\":\"lines\",\"name\":\"Netherlands\",\"x\":[1992,1993,1994,1995,1996,1997,1998,1999,2000,2001,2002,2003,2004,2005,2006,2007,2008,2009,2010,2011,2012,2013,2014,2015,2016,2017,2018,2019,2020,2021,2022],\"y\":[7.0,8.068493150684931,5.972602739726027,9.498630136986302,7.912568306010929,8.561643835616438,14.441095890410958,11.717808219178082,14.450819672131148,8.594520547945205,10.205479452054794,5.427397260273972,4.953551912568306,4.183561643835616,4.627397260273972,6.96986301369863,6.879781420765028,2.9232876712328766,2.7424657534246575,1.9232876712328768,5.1775956284153,7.536986301369863,8.558904109589042,8.745205479452055,18.98087431693989,26.736986301369864,18.28219178082192,14.408219178082192,14.0,13.506849315068493,9.240143369175627],\"type\":\"scatter\"},{\"mode\":\"lines\",\"name\":\"Poland\",\"x\":[1992,1993,1994,1995,1996,1997,1998,1999,2000,2001,2002,2003,2004,2005,2006,2007,2008,2009,2010,2011,2012,2013,2014,2015,2016,2017,2018,2019,2020,2021,2022],\"y\":[20.0,21.145205479452056,29.835616438356166,31.101369863013698,45.3551912568306,52.087671232876716,46.35342465753425,28.745205479452054,36.81693989071038,29.18082191780822,35.723287671232875,30.96986301369863,27.02185792349727,23.367123287671234,27.40821917808219,20.904109589041095,27.846994535519126,40.40821917808219,61.038356164383565,68.43561643835616,61.03825136612022,66.02739726027397,64.32054794520548,36.013698630136986,23.401639344262296,9.197260273972603,12.832876712328767,20.08219178082192,18.904371584699454,22.202739726027396,26.49462365591398],\"type\":\"scatter\"},{\"mode\":\"lines\",\"name\":\"Portugal\",\"x\":[1992,1993,1994,1995,1996,1997,1998,1999,2000,2001,2002,2003,2004,2005,2006,2007,2008,2009,2010,2011,2012,2013,2014,2015,2016,2017,2018,2019,2020,2021,2022],\"y\":[33.0,28.257534246575343,21.997260273972604,16.589041095890412,15.579234972677595,20.28219178082192,38.33698630136986,15.863013698630137,11.032786885245901,5.506849315068493,7.260273972602739,14.386301369863014,14.166666666666666,9.093150684931507,8.63013698630137,7.808219178082192,9.155737704918034,11.972602739726028,5.983561643835617,7.605479452054794,5.565573770491803,7.542465753424658,6.610958904109589,6.328767123287672,7.295081967213115,5.931506849315069,4.641095890410959,6.079452054794521,6.420765027322404,6.071232876712329,8.379928315412187],\"type\":\"scatter\"},{\"mode\":\"lines\",\"name\":\"Qatar\",\"x\":[1992,1993,1994,1995,1996,1997,1998,1999,2000,2001,2002,2003,2004,2005,2006,2007,2008,2009,2010,2011,2012,2013,2014,2015,2016,2017,2018,2019,2020,2021,2022],\"y\":[52.0,52.19178082191781,62.10958904109589,67.97534246575343,79.90163934426229,77.5068493150685,71.13424657534246,79.3917808219178,96.3743169398907,87.73424657534247,72.78904109589041,72.30410958904109,59.314207650273225,72.14246575342466,72.94246575342466,80.72328767123288,83.4535519125683,88.93698630136986,98.41095890410959,93.43835616438356,94.45901639344262,104.66027397260274,95.75068493150685,95.8958904109589,83.42622950819673,87.7041095890411,98.11232876712329,60.78904109589041,55.52459016393443,53.175342465753424,49.83870967741935],\"type\":\"scatter\"},{\"mode\":\"lines\",\"name\":\"Saudi Arabia\",\"x\":[1992,1993,1994,1995,1996,1997,1998,1999,2000,2001,2002,2003,2004,2005,2006,2007,2008,2009,2010,2011,2012,2013,2014,2015,2016,2017,2018,2019,2020,2021,2022],\"y\":[48.0,45.846575342465755,32.295890410958904,31.994520547945207,39.521857923497265,33.88767123287671,32.50410958904109,37.68767123287671,45.5,30.912328767123288,35.50684931506849,39.654794520547945,26.311475409836067,29.956164383561642,50.83835616438356,59.413698630136984,51.97540983606557,59.07123287671233,66.59178082191781,88.84383561643835,99.07377049180327,107.04383561643836,83.66301369863014,93.07945205479452,60.33606557377049,56.48219178082192,68.2027397260274,69.4931506849315,66.90437158469945,61.07945205479452,51.50179211469534],\"type\":\"scatter\"},{\"mode\":\"lines\",\"name\":\"Senegal\",\"x\":[1992,1993,1994,1995,1996,1997,1998,1999,2000,2001,2002,2003,2004,2005,2006,2007,2008,2009,2010,2011,2012,2013,2014,2015,2016,2017,2018,2019,2020,2021,2022],\"y\":[51.0,54.06027397260274,55.54794520547945,48.57534246575342,55.950819672131146,68.34246575342466,81.14246575342466,86.16164383561645,80.97814207650273,75.82739726027397,39.76164383561644,28.84931506849315,30.34426229508197,33.6958904109589,32.56712328767123,40.8054794520548,44.74590163934426,73.33150684931506,81.63287671232877,51.4,65.61748633879782,76.51506849315068,57.57808219178082,37.556164383561644,40.75409836065574,29.487671232876714,25.073972602739726,21.726027397260275,20.095628415300546,20.791780821917808,18.88888888888889],\"type\":\"scatter\"},{\"mode\":\"lines\",\"name\":\"South Korea\",\"x\":[1992,1993,1994,1995,1996,1997,1998,1999,2000,2001,2002,2003,2004,2005,2006,2007,2008,2009,2010,2011,2012,2013,2014,2015,2016,2017,2018,2019,2020,2021,2022],\"y\":[49.0,44.27945205479452,37.989041095890414,38.391780821917806,50.704918032786885,36.016438356164386,21.53698630136986,36.26575342465753,42.98907103825137,40.87671232876713,31.03013698630137,23.553424657534247,21.989071038251367,23.394520547945206,39.92602739726028,49.29041095890411,48.73224043715847,46.90958904109589,45.93698630136986,30.936986301369863,30.2896174863388,46.704109589041096,59.38904109589041,56.00547945205479,49.202185792349724,47.583561643835615,56.443835616438356,39.3041095890411,39.51639344262295,37.136986301369866,29.193548387096776],\"type\":\"scatter\"},{\"mode\":\"lines\",\"name\":\"Spain\",\"x\":[1992,1993,1994,1995,1996,1997,1998,1999,2000,2001,2002,2003,2004,2005,2006,2007,2008,2009,2010,2011,2012,2013,2014,2015,2016,2017,2018,2019,2020,2021,2022],\"y\":[15.0,13.063013698630137,5.873972602739726,2.873972602739726,6.601092896174864,4.698630136986301,15.394520547945206,7.276712328767124,4.557377049180328,6.635616438356164,5.331506849315068,2.750684931506849,3.2704918032786887,6.854794520547945,7.243835616438356,8.287671232876713,2.5,1.389041095890411,1.210958904109589,1.0767123287671232,1.0,1.0,4.413698630136986,9.021917808219179,6.825136612021858,9.643835616438356,7.704109589041096,8.394520547945206,7.516393442622951,6.484931506849315,6.623655913978495],\"type\":\"scatter\"},{\"mode\":\"lines\",\"name\":\"Switzerland\",\"x\":[1992,1993,1994,1995,1996,1997,1998,1999,2000,2001,2002,2003,2004,2005,2006,2007,2008,2009,2010,2011,2012,2013,2014,2015,2016,2017,2018,2019,2020,2021,2022],\"y\":[12.0,10.504109589041096,8.906849315068493,11.61917808219178,27.773224043715846,57.391780821917806,74.12054794520547,56.18082191780822,56.44535519125683,59.92328767123288,59.797260273972604,42.16438356164384,45.77322404371585,43.31780821917808,25.528767123287672,30.16986301369863,41.57377049180328,17.353424657534248,20.334246575342465,23.268493150684932,18.008196721311474,12.835616438356164,8.67123287671233,12.517808219178082,14.153005464480874,8.583561643835617,7.561643835616438,9.712328767123287,13.062841530054644,14.156164383561643,14.612903225806452],\"type\":\"scatter\"},{\"mode\":\"lines\",\"name\":\"Tunisia\",\"x\":[1992,1993,1994,1995,1996,1997,1998,1999,2000,2001,2002,2003,2004,2005,2006,2007,2008,2009,2010,2011,2012,2013,2014,2015,2016,2017,2018,2019,2020,2021,2022],\"y\":[38.0,36.23561643835617,30.471232876712328,24.846575342465755,23.472677595628415,24.561643835616437,23.123287671232877,28.427397260273974,26.972677595628415,26.723287671232878,33.945205479452056,42.71232876712329,35.77049180327869,33.084931506849315,26.78904109589041,41.652054794520545,48.89071038251366,50.95068493150685,54.54520547945206,54.99178082191781,49.55191256830601,46.084931506849315,40.52054794520548,31.273972602739725,43.4207650273224,34.83013698630137,23.835616438356166,27.71232876712329,26.7103825136612,26.553424657534247,32.55913978494624],\"type\":\"scatter\"},{\"mode\":\"lines\",\"name\":\"United States\",\"x\":[1992,1993,1994,1995,1996,1997,1998,1999,2000,2001,2002,2003,2004,2005,2006,2007,2008,2009,2010,2011,2012,2013,2014,2015,2016,2017,2018,2019,2020,2021,2022],\"y\":[24.0,25.046575342465754,22.345205479452055,22.893150684931506,16.762295081967213,25.561643835616437,17.526027397260275,23.75890410958904,19.565573770491802,17.512328767123286,12.646575342465754,10.169863013698631,10.21584699453552,8.830136986301369,15.180821917808219,22.63013698630137,24.382513661202186,14.747945205479452,16.947945205479453,25.328767123287673,30.918032786885245,22.86027397260274,16.646575342465752,29.583561643835615,27.989071038251367,26.931506849315067,23.956164383561642,24.052054794520547,22.095628415300546,17.372602739726027,13.702508960573477],\"type\":\"scatter\"},{\"mode\":\"lines\",\"name\":\"Uruguay\",\"x\":[1992,1993,1994,1995,1996,1997,1998,1999,2000,2001,2002,2003,2004,2005,2006,2007,2008,2009,2010,2011,2012,2013,2014,2015,2016,2017,2018,2019,2020,2021,2022],\"y\":[16.0,16.964383561643835,23.671232876712327,31.027397260273972,40.91256830601093,46.273972602739725,39.775342465753425,56.57534246575342,39.2103825136612,30.205479452054796,23.323287671232876,25.85753424657534,22.185792349726775,18.361643835616437,19.76164383561644,23.91780821917808,25.098360655737704,21.172602739726027,12.893150684931507,6.698630136986301,5.191256830601093,12.67123287671233,6.786301369863014,11.997260273972604,10.046448087431694,14.854794520547944,13.501369863013698,6.136986301369863,5.581967213114754,10.827397260273973,14.10394265232975],\"type\":\"scatter\"},{\"mode\":\"lines\",\"name\":\"Wales\",\"x\":[1992,1993,1994,1995,1996,1997,1998,1999,2000,2001,2002,2003,2004,2005,2006,2007,2008,2009,2010,2011,2012,2013,2014,2015,2016,2017,2018,2019,2020,2021,2022],\"y\":[28.0,27.97808219178082,33.57534246575342,49.61369863013699,69.56830601092896,88.12054794520547,101.4931506849315,84.25479452054795,102.85519125683061,105.9945205479452,86.9972602739726,53.29041095890411,62.92622950819672,74.05753424657534,70.01095890410959,69.41369863013699,55.32513661202186,69.94246575342466,84.88219178082191,99.08219178082192,48.00273224043716,55.52876712328767,42.728767123287675,20.183561643835617,16.308743169398905,14.635616438356164,19.172602739726027,21.35890410958904,21.89344262295082,18.041095890410958,18.874551971326166],\"type\":\"scatter\"},{\"mode\":\"lines\",\"name\":\"Serbia\",\"x\":[2005,2006,2007,2008,2009,2010,2011,2012,2013,2014,2015,2016,2017,2018,2019,2020,2021,2022],\"y\":[47.0,40.46027397260274,26.26027397260274,32.669398907103826,22.268493150684932,16.923287671232877,22.526027397260275,33.49180327868852,36.85205479452055,33.087671232876716,49.172602739726024,50.049180327868854,43.73150684931507,33.9041095890411,31.747945205479454,29.385245901639344,26.75068493150685,24.698924731182796],\"type\":\"scatter\"}],                        {\"height\":800,\"template\":{\"data\":{\"barpolar\":[{\"marker\":{\"line\":{\"color\":\"#E5ECF6\",\"width\":0.5},\"pattern\":{\"fillmode\":\"overlay\",\"size\":10,\"solidity\":0.2}},\"type\":\"barpolar\"}],\"bar\":[{\"error_x\":{\"color\":\"#2a3f5f\"},\"error_y\":{\"color\":\"#2a3f5f\"},\"marker\":{\"line\":{\"color\":\"#E5ECF6\",\"width\":0.5},\"pattern\":{\"fillmode\":\"overlay\",\"size\":10,\"solidity\":0.2}},\"type\":\"bar\"}],\"carpet\":[{\"aaxis\":{\"endlinecolor\":\"#2a3f5f\",\"gridcolor\":\"white\",\"linecolor\":\"white\",\"minorgridcolor\":\"white\",\"startlinecolor\":\"#2a3f5f\"},\"baxis\":{\"endlinecolor\":\"#2a3f5f\",\"gridcolor\":\"white\",\"linecolor\":\"white\",\"minorgridcolor\":\"white\",\"startlinecolor\":\"#2a3f5f\"},\"type\":\"carpet\"}],\"choropleth\":[{\"colorbar\":{\"outlinewidth\":0,\"ticks\":\"\"},\"type\":\"choropleth\"}],\"contourcarpet\":[{\"colorbar\":{\"outlinewidth\":0,\"ticks\":\"\"},\"type\":\"contourcarpet\"}],\"contour\":[{\"colorbar\":{\"outlinewidth\":0,\"ticks\":\"\"},\"colorscale\":[[0.0,\"#0d0887\"],[0.1111111111111111,\"#46039f\"],[0.2222222222222222,\"#7201a8\"],[0.3333333333333333,\"#9c179e\"],[0.4444444444444444,\"#bd3786\"],[0.5555555555555556,\"#d8576b\"],[0.6666666666666666,\"#ed7953\"],[0.7777777777777778,\"#fb9f3a\"],[0.8888888888888888,\"#fdca26\"],[1.0,\"#f0f921\"]],\"type\":\"contour\"}],\"heatmapgl\":[{\"colorbar\":{\"outlinewidth\":0,\"ticks\":\"\"},\"colorscale\":[[0.0,\"#0d0887\"],[0.1111111111111111,\"#46039f\"],[0.2222222222222222,\"#7201a8\"],[0.3333333333333333,\"#9c179e\"],[0.4444444444444444,\"#bd3786\"],[0.5555555555555556,\"#d8576b\"],[0.6666666666666666,\"#ed7953\"],[0.7777777777777778,\"#fb9f3a\"],[0.8888888888888888,\"#fdca26\"],[1.0,\"#f0f921\"]],\"type\":\"heatmapgl\"}],\"heatmap\":[{\"colorbar\":{\"outlinewidth\":0,\"ticks\":\"\"},\"colorscale\":[[0.0,\"#0d0887\"],[0.1111111111111111,\"#46039f\"],[0.2222222222222222,\"#7201a8\"],[0.3333333333333333,\"#9c179e\"],[0.4444444444444444,\"#bd3786\"],[0.5555555555555556,\"#d8576b\"],[0.6666666666666666,\"#ed7953\"],[0.7777777777777778,\"#fb9f3a\"],[0.8888888888888888,\"#fdca26\"],[1.0,\"#f0f921\"]],\"type\":\"heatmap\"}],\"histogram2dcontour\":[{\"colorbar\":{\"outlinewidth\":0,\"ticks\":\"\"},\"colorscale\":[[0.0,\"#0d0887\"],[0.1111111111111111,\"#46039f\"],[0.2222222222222222,\"#7201a8\"],[0.3333333333333333,\"#9c179e\"],[0.4444444444444444,\"#bd3786\"],[0.5555555555555556,\"#d8576b\"],[0.6666666666666666,\"#ed7953\"],[0.7777777777777778,\"#fb9f3a\"],[0.8888888888888888,\"#fdca26\"],[1.0,\"#f0f921\"]],\"type\":\"histogram2dcontour\"}],\"histogram2d\":[{\"colorbar\":{\"outlinewidth\":0,\"ticks\":\"\"},\"colorscale\":[[0.0,\"#0d0887\"],[0.1111111111111111,\"#46039f\"],[0.2222222222222222,\"#7201a8\"],[0.3333333333333333,\"#9c179e\"],[0.4444444444444444,\"#bd3786\"],[0.5555555555555556,\"#d8576b\"],[0.6666666666666666,\"#ed7953\"],[0.7777777777777778,\"#fb9f3a\"],[0.8888888888888888,\"#fdca26\"],[1.0,\"#f0f921\"]],\"type\":\"histogram2d\"}],\"histogram\":[{\"marker\":{\"pattern\":{\"fillmode\":\"overlay\",\"size\":10,\"solidity\":0.2}},\"type\":\"histogram\"}],\"mesh3d\":[{\"colorbar\":{\"outlinewidth\":0,\"ticks\":\"\"},\"type\":\"mesh3d\"}],\"parcoords\":[{\"line\":{\"colorbar\":{\"outlinewidth\":0,\"ticks\":\"\"}},\"type\":\"parcoords\"}],\"pie\":[{\"automargin\":true,\"type\":\"pie\"}],\"scatter3d\":[{\"line\":{\"colorbar\":{\"outlinewidth\":0,\"ticks\":\"\"}},\"marker\":{\"colorbar\":{\"outlinewidth\":0,\"ticks\":\"\"}},\"type\":\"scatter3d\"}],\"scattercarpet\":[{\"marker\":{\"colorbar\":{\"outlinewidth\":0,\"ticks\":\"\"}},\"type\":\"scattercarpet\"}],\"scattergeo\":[{\"marker\":{\"colorbar\":{\"outlinewidth\":0,\"ticks\":\"\"}},\"type\":\"scattergeo\"}],\"scattergl\":[{\"marker\":{\"colorbar\":{\"outlinewidth\":0,\"ticks\":\"\"}},\"type\":\"scattergl\"}],\"scattermapbox\":[{\"marker\":{\"colorbar\":{\"outlinewidth\":0,\"ticks\":\"\"}},\"type\":\"scattermapbox\"}],\"scatterpolargl\":[{\"marker\":{\"colorbar\":{\"outlinewidth\":0,\"ticks\":\"\"}},\"type\":\"scatterpolargl\"}],\"scatterpolar\":[{\"marker\":{\"colorbar\":{\"outlinewidth\":0,\"ticks\":\"\"}},\"type\":\"scatterpolar\"}],\"scatter\":[{\"marker\":{\"colorbar\":{\"outlinewidth\":0,\"ticks\":\"\"}},\"type\":\"scatter\"}],\"scatterternary\":[{\"marker\":{\"colorbar\":{\"outlinewidth\":0,\"ticks\":\"\"}},\"type\":\"scatterternary\"}],\"surface\":[{\"colorbar\":{\"outlinewidth\":0,\"ticks\":\"\"},\"colorscale\":[[0.0,\"#0d0887\"],[0.1111111111111111,\"#46039f\"],[0.2222222222222222,\"#7201a8\"],[0.3333333333333333,\"#9c179e\"],[0.4444444444444444,\"#bd3786\"],[0.5555555555555556,\"#d8576b\"],[0.6666666666666666,\"#ed7953\"],[0.7777777777777778,\"#fb9f3a\"],[0.8888888888888888,\"#fdca26\"],[1.0,\"#f0f921\"]],\"type\":\"surface\"}],\"table\":[{\"cells\":{\"fill\":{\"color\":\"#EBF0F8\"},\"line\":{\"color\":\"white\"}},\"header\":{\"fill\":{\"color\":\"#C8D4E3\"},\"line\":{\"color\":\"white\"}},\"type\":\"table\"}]},\"layout\":{\"annotationdefaults\":{\"arrowcolor\":\"#2a3f5f\",\"arrowhead\":0,\"arrowwidth\":1},\"autotypenumbers\":\"strict\",\"coloraxis\":{\"colorbar\":{\"outlinewidth\":0,\"ticks\":\"\"}},\"colorscale\":{\"diverging\":[[0,\"#8e0152\"],[0.1,\"#c51b7d\"],[0.2,\"#de77ae\"],[0.3,\"#f1b6da\"],[0.4,\"#fde0ef\"],[0.5,\"#f7f7f7\"],[0.6,\"#e6f5d0\"],[0.7,\"#b8e186\"],[0.8,\"#7fbc41\"],[0.9,\"#4d9221\"],[1,\"#276419\"]],\"sequential\":[[0.0,\"#0d0887\"],[0.1111111111111111,\"#46039f\"],[0.2222222222222222,\"#7201a8\"],[0.3333333333333333,\"#9c179e\"],[0.4444444444444444,\"#bd3786\"],[0.5555555555555556,\"#d8576b\"],[0.6666666666666666,\"#ed7953\"],[0.7777777777777778,\"#fb9f3a\"],[0.8888888888888888,\"#fdca26\"],[1.0,\"#f0f921\"]],\"sequentialminus\":[[0.0,\"#0d0887\"],[0.1111111111111111,\"#46039f\"],[0.2222222222222222,\"#7201a8\"],[0.3333333333333333,\"#9c179e\"],[0.4444444444444444,\"#bd3786\"],[0.5555555555555556,\"#d8576b\"],[0.6666666666666666,\"#ed7953\"],[0.7777777777777778,\"#fb9f3a\"],[0.8888888888888888,\"#fdca26\"],[1.0,\"#f0f921\"]]},\"colorway\":[\"#636efa\",\"#EF553B\",\"#00cc96\",\"#ab63fa\",\"#FFA15A\",\"#19d3f3\",\"#FF6692\",\"#B6E880\",\"#FF97FF\",\"#FECB52\"],\"font\":{\"color\":\"#2a3f5f\"},\"geo\":{\"bgcolor\":\"white\",\"lakecolor\":\"white\",\"landcolor\":\"#E5ECF6\",\"showlakes\":true,\"showland\":true,\"subunitcolor\":\"white\"},\"hoverlabel\":{\"align\":\"left\"},\"hovermode\":\"closest\",\"mapbox\":{\"style\":\"light\"},\"paper_bgcolor\":\"white\",\"plot_bgcolor\":\"#E5ECF6\",\"polar\":{\"angularaxis\":{\"gridcolor\":\"white\",\"linecolor\":\"white\",\"ticks\":\"\"},\"bgcolor\":\"#E5ECF6\",\"radialaxis\":{\"gridcolor\":\"white\",\"linecolor\":\"white\",\"ticks\":\"\"}},\"scene\":{\"xaxis\":{\"backgroundcolor\":\"#E5ECF6\",\"gridcolor\":\"white\",\"gridwidth\":2,\"linecolor\":\"white\",\"showbackground\":true,\"ticks\":\"\",\"zerolinecolor\":\"white\"},\"yaxis\":{\"backgroundcolor\":\"#E5ECF6\",\"gridcolor\":\"white\",\"gridwidth\":2,\"linecolor\":\"white\",\"showbackground\":true,\"ticks\":\"\",\"zerolinecolor\":\"white\"},\"zaxis\":{\"backgroundcolor\":\"#E5ECF6\",\"gridcolor\":\"white\",\"gridwidth\":2,\"linecolor\":\"white\",\"showbackground\":true,\"ticks\":\"\",\"zerolinecolor\":\"white\"}},\"shapedefaults\":{\"line\":{\"color\":\"#2a3f5f\"}},\"ternary\":{\"aaxis\":{\"gridcolor\":\"white\",\"linecolor\":\"white\",\"ticks\":\"\"},\"baxis\":{\"gridcolor\":\"white\",\"linecolor\":\"white\",\"ticks\":\"\"},\"bgcolor\":\"#E5ECF6\",\"caxis\":{\"gridcolor\":\"white\",\"linecolor\":\"white\",\"ticks\":\"\"}},\"title\":{\"x\":0.05},\"xaxis\":{\"automargin\":true,\"gridcolor\":\"white\",\"linecolor\":\"white\",\"ticks\":\"\",\"title\":{\"standoff\":15},\"zerolinecolor\":\"white\",\"zerolinewidth\":2},\"yaxis\":{\"automargin\":true,\"gridcolor\":\"white\",\"linecolor\":\"white\",\"ticks\":\"\",\"title\":{\"standoff\":15},\"zerolinecolor\":\"white\",\"zerolinewidth\":2}}},\"title\":{\"text\":\"FIFA Rank of World Cup 2022 Participants From 1993-2022\"},\"xaxis\":{\"dtick\":6,\"title\":{\"text\":\"Rank Date\"}},\"yaxis\":{\"autorange\":\"reversed\",\"dtick\":10,\"title\":{\"text\":\"Rank\"}}},                        {\"responsive\": true}                    ).then(function(){\n",
       "                            \n",
       "var gd = document.getElementById('fcb69490-e458-46df-a5a2-4943976d7693');\n",
       "var x = new MutationObserver(function (mutations, observer) {{\n",
       "        var display = window.getComputedStyle(gd).display;\n",
       "        if (!display || display === 'none') {{\n",
       "            console.log([gd, 'removed!']);\n",
       "            Plotly.purge(gd);\n",
       "            observer.disconnect();\n",
       "        }}\n",
       "}});\n",
       "\n",
       "// Listen for the removal of the full notebook cells\n",
       "var notebookContainer = gd.closest('#notebook-container');\n",
       "if (notebookContainer) {{\n",
       "    x.observe(notebookContainer, {childList: true});\n",
       "}}\n",
       "\n",
       "// Listen for the clearing of the current output cell\n",
       "var outputEl = gd.closest('.output');\n",
       "if (outputEl) {{\n",
       "    x.observe(outputEl, {childList: true});\n",
       "}}\n",
       "\n",
       "                        })                };                });            </script>        </div>"
      ]
     },
     "metadata": {},
     "output_type": "display_data"
    }
   ],
   "source": [
    "world_cup_participants = historical_rankings_by_team[historical_rankings_by_team['country_full'].isin(world_cup.index.unique())]['country_full'].unique()\n",
    "trace = []\n",
    "for team in world_cup_participants:\n",
    "    trace.append(go.Scatter(\n",
    "            x = historical_rankings_by_team[historical_rankings_by_team['country_full'] == team]['rank_date'],\n",
    "            y = historical_rankings_by_team[historical_rankings_by_team['country_full'] == team]['rank'],\n",
    "            mode = \"lines\",\n",
    "            name = team))\n",
    "layout = dict(title = 'FIFA Rank of World Cup 2022 Participants From 1993-2022',\n",
    "             xaxis = dict(title= 'Rank Date', dtick=6,),\n",
    "             yaxis = dict(title= 'Rank', dtick=10, autorange='reversed'),\n",
    "             height = 800\n",
    "             )\n",
    "fig = dict(data = trace, layout = layout)\n",
    "iplot(fig)"
   ]
  },
  {
   "cell_type": "markdown",
   "metadata": {},
   "source": [
    "* ## Historical Matches data"
   ]
  },
  {
   "cell_type": "code",
   "execution_count": 10,
   "metadata": {},
   "outputs": [
    {
     "data": {
      "text/html": [
       "<div>\n",
       "<style scoped>\n",
       "    .dataframe tbody tr th:only-of-type {\n",
       "        vertical-align: middle;\n",
       "    }\n",
       "\n",
       "    .dataframe tbody tr th {\n",
       "        vertical-align: top;\n",
       "    }\n",
       "\n",
       "    .dataframe thead th {\n",
       "        text-align: right;\n",
       "    }\n",
       "</style>\n",
       "<table border=\"1\" class=\"dataframe\">\n",
       "  <thead>\n",
       "    <tr style=\"text-align: right;\">\n",
       "      <th></th>\n",
       "      <th>date</th>\n",
       "      <th>home_team</th>\n",
       "      <th>away_team</th>\n",
       "      <th>home_score</th>\n",
       "      <th>away_score</th>\n",
       "      <th>tournament</th>\n",
       "      <th>city</th>\n",
       "      <th>country</th>\n",
       "      <th>neutral</th>\n",
       "    </tr>\n",
       "  </thead>\n",
       "  <tbody>\n",
       "    <tr>\n",
       "      <th>0</th>\n",
       "      <td>1872-11-30</td>\n",
       "      <td>Scotland</td>\n",
       "      <td>England</td>\n",
       "      <td>0</td>\n",
       "      <td>0</td>\n",
       "      <td>Friendly</td>\n",
       "      <td>Glasgow</td>\n",
       "      <td>Scotland</td>\n",
       "      <td>False</td>\n",
       "    </tr>\n",
       "    <tr>\n",
       "      <th>1</th>\n",
       "      <td>1873-03-08</td>\n",
       "      <td>England</td>\n",
       "      <td>Scotland</td>\n",
       "      <td>4</td>\n",
       "      <td>2</td>\n",
       "      <td>Friendly</td>\n",
       "      <td>London</td>\n",
       "      <td>England</td>\n",
       "      <td>False</td>\n",
       "    </tr>\n",
       "    <tr>\n",
       "      <th>2</th>\n",
       "      <td>1874-03-07</td>\n",
       "      <td>Scotland</td>\n",
       "      <td>England</td>\n",
       "      <td>2</td>\n",
       "      <td>1</td>\n",
       "      <td>Friendly</td>\n",
       "      <td>Glasgow</td>\n",
       "      <td>Scotland</td>\n",
       "      <td>False</td>\n",
       "    </tr>\n",
       "    <tr>\n",
       "      <th>3</th>\n",
       "      <td>1875-03-06</td>\n",
       "      <td>England</td>\n",
       "      <td>Scotland</td>\n",
       "      <td>2</td>\n",
       "      <td>2</td>\n",
       "      <td>Friendly</td>\n",
       "      <td>London</td>\n",
       "      <td>England</td>\n",
       "      <td>False</td>\n",
       "    </tr>\n",
       "    <tr>\n",
       "      <th>4</th>\n",
       "      <td>1876-03-04</td>\n",
       "      <td>Scotland</td>\n",
       "      <td>England</td>\n",
       "      <td>3</td>\n",
       "      <td>0</td>\n",
       "      <td>Friendly</td>\n",
       "      <td>Glasgow</td>\n",
       "      <td>Scotland</td>\n",
       "      <td>False</td>\n",
       "    </tr>\n",
       "  </tbody>\n",
       "</table>\n",
       "</div>"
      ],
      "text/plain": [
       "        date home_team away_team  home_score  away_score tournament     city  \\\n",
       "0 1872-11-30  Scotland   England           0           0   Friendly  Glasgow   \n",
       "1 1873-03-08   England  Scotland           4           2   Friendly   London   \n",
       "2 1874-03-07  Scotland   England           2           1   Friendly  Glasgow   \n",
       "3 1875-03-06   England  Scotland           2           2   Friendly   London   \n",
       "4 1876-03-04  Scotland   England           3           0   Friendly  Glasgow   \n",
       "\n",
       "    country  neutral  \n",
       "0  Scotland    False  \n",
       "1   England    False  \n",
       "2  Scotland    False  \n",
       "3   England    False  \n",
       "4  Scotland    False  "
      ]
     },
     "execution_count": 10,
     "metadata": {},
     "output_type": "execute_result"
    }
   ],
   "source": [
    "# Processing matches data\n",
    "historical_matches['date'] = pd.to_datetime(historical_matches['date'])\n",
    "historical_matches.head()"
   ]
  },
  {
   "cell_type": "code",
   "execution_count": 11,
   "metadata": {},
   "outputs": [
    {
     "name": "stdout",
     "output_type": "stream",
     "text": [
      "Biggest score margin in history:\n"
     ]
    },
    {
     "data": {
      "text/html": [
       "<div>\n",
       "<style scoped>\n",
       "    .dataframe tbody tr th:only-of-type {\n",
       "        vertical-align: middle;\n",
       "    }\n",
       "\n",
       "    .dataframe tbody tr th {\n",
       "        vertical-align: top;\n",
       "    }\n",
       "\n",
       "    .dataframe thead th {\n",
       "        text-align: right;\n",
       "    }\n",
       "</style>\n",
       "<table border=\"1\" class=\"dataframe\">\n",
       "  <thead>\n",
       "    <tr style=\"text-align: right;\">\n",
       "      <th></th>\n",
       "      <th>date</th>\n",
       "      <th>home_team</th>\n",
       "      <th>away_team</th>\n",
       "      <th>home_score</th>\n",
       "      <th>away_score</th>\n",
       "      <th>tournament</th>\n",
       "      <th>city</th>\n",
       "      <th>country</th>\n",
       "      <th>neutral</th>\n",
       "      <th>score_diff</th>\n",
       "    </tr>\n",
       "  </thead>\n",
       "  <tbody>\n",
       "    <tr>\n",
       "      <th>24123</th>\n",
       "      <td>2001-04-11</td>\n",
       "      <td>Australia</td>\n",
       "      <td>American Samoa</td>\n",
       "      <td>31</td>\n",
       "      <td>0</td>\n",
       "      <td>FIFA World Cup qualification</td>\n",
       "      <td>Coffs Harbour</td>\n",
       "      <td>Australia</td>\n",
       "      <td>False</td>\n",
       "      <td>31</td>\n",
       "    </tr>\n",
       "  </tbody>\n",
       "</table>\n",
       "</div>"
      ],
      "text/plain": [
       "            date  home_team       away_team  home_score  away_score  \\\n",
       "24123 2001-04-11  Australia  American Samoa          31           0   \n",
       "\n",
       "                         tournament           city    country  neutral  \\\n",
       "24123  FIFA World Cup qualification  Coffs Harbour  Australia    False   \n",
       "\n",
       "       score_diff  \n",
       "24123          31  "
      ]
     },
     "execution_count": 11,
     "metadata": {},
     "output_type": "execute_result"
    }
   ],
   "source": [
    "print(\"Biggest score margin in history:\")\n",
    "historical_matches['score_diff'] = abs(historical_matches['home_score'] - historical_matches['away_score'])\n",
    "historical_matches[historical_matches['score_diff'] == historical_matches['score_diff'].max()].head()"
   ]
  },
  {
   "cell_type": "markdown",
   "metadata": {},
   "source": [
    "#### Calculating Elo Rating\n",
    "* [Elo Rating System](https://en.wikipedia.org/wiki/Elo_rating_system) is  is a method for calculating the relative skill levels of players in zero-sum games such as chess. It is named after its creator Arpad Elo, a Hungarian-American physics professor."
   ]
  },
  {
   "cell_type": "code",
   "execution_count": 12,
   "metadata": {},
   "outputs": [
    {
     "data": {
      "text/html": [
       "<div>\n",
       "<style scoped>\n",
       "    .dataframe tbody tr th:only-of-type {\n",
       "        vertical-align: middle;\n",
       "    }\n",
       "\n",
       "    .dataframe tbody tr th {\n",
       "        vertical-align: top;\n",
       "    }\n",
       "\n",
       "    .dataframe thead th {\n",
       "        text-align: right;\n",
       "    }\n",
       "</style>\n",
       "<table border=\"1\" class=\"dataframe\">\n",
       "  <thead>\n",
       "    <tr style=\"text-align: right;\">\n",
       "      <th></th>\n",
       "      <th>date</th>\n",
       "      <th>home_team</th>\n",
       "      <th>away_team</th>\n",
       "      <th>home_score</th>\n",
       "      <th>away_score</th>\n",
       "      <th>tournament</th>\n",
       "      <th>city</th>\n",
       "      <th>country</th>\n",
       "      <th>neutral</th>\n",
       "      <th>score_diff</th>\n",
       "      <th>result</th>\n",
       "    </tr>\n",
       "  </thead>\n",
       "  <tbody>\n",
       "    <tr>\n",
       "      <th>0</th>\n",
       "      <td>1872-11-30</td>\n",
       "      <td>Scotland</td>\n",
       "      <td>England</td>\n",
       "      <td>0</td>\n",
       "      <td>0</td>\n",
       "      <td>Friendly</td>\n",
       "      <td>Glasgow</td>\n",
       "      <td>Scotland</td>\n",
       "      <td>False</td>\n",
       "      <td>0</td>\n",
       "      <td>0.5</td>\n",
       "    </tr>\n",
       "    <tr>\n",
       "      <th>1</th>\n",
       "      <td>1873-03-08</td>\n",
       "      <td>England</td>\n",
       "      <td>Scotland</td>\n",
       "      <td>4</td>\n",
       "      <td>2</td>\n",
       "      <td>Friendly</td>\n",
       "      <td>London</td>\n",
       "      <td>England</td>\n",
       "      <td>False</td>\n",
       "      <td>2</td>\n",
       "      <td>1.0</td>\n",
       "    </tr>\n",
       "    <tr>\n",
       "      <th>2</th>\n",
       "      <td>1874-03-07</td>\n",
       "      <td>Scotland</td>\n",
       "      <td>England</td>\n",
       "      <td>2</td>\n",
       "      <td>1</td>\n",
       "      <td>Friendly</td>\n",
       "      <td>Glasgow</td>\n",
       "      <td>Scotland</td>\n",
       "      <td>False</td>\n",
       "      <td>1</td>\n",
       "      <td>1.0</td>\n",
       "    </tr>\n",
       "    <tr>\n",
       "      <th>3</th>\n",
       "      <td>1875-03-06</td>\n",
       "      <td>England</td>\n",
       "      <td>Scotland</td>\n",
       "      <td>2</td>\n",
       "      <td>2</td>\n",
       "      <td>Friendly</td>\n",
       "      <td>London</td>\n",
       "      <td>England</td>\n",
       "      <td>False</td>\n",
       "      <td>0</td>\n",
       "      <td>0.5</td>\n",
       "    </tr>\n",
       "    <tr>\n",
       "      <th>4</th>\n",
       "      <td>1876-03-04</td>\n",
       "      <td>Scotland</td>\n",
       "      <td>England</td>\n",
       "      <td>3</td>\n",
       "      <td>0</td>\n",
       "      <td>Friendly</td>\n",
       "      <td>Glasgow</td>\n",
       "      <td>Scotland</td>\n",
       "      <td>False</td>\n",
       "      <td>3</td>\n",
       "      <td>1.0</td>\n",
       "    </tr>\n",
       "    <tr>\n",
       "      <th>...</th>\n",
       "      <td>...</td>\n",
       "      <td>...</td>\n",
       "      <td>...</td>\n",
       "      <td>...</td>\n",
       "      <td>...</td>\n",
       "      <td>...</td>\n",
       "      <td>...</td>\n",
       "      <td>...</td>\n",
       "      <td>...</td>\n",
       "      <td>...</td>\n",
       "      <td>...</td>\n",
       "    </tr>\n",
       "    <tr>\n",
       "      <th>44153</th>\n",
       "      <td>2022-11-20</td>\n",
       "      <td>Slovenia</td>\n",
       "      <td>Montenegro</td>\n",
       "      <td>1</td>\n",
       "      <td>0</td>\n",
       "      <td>Friendly</td>\n",
       "      <td>Ljubljana</td>\n",
       "      <td>Slovenia</td>\n",
       "      <td>False</td>\n",
       "      <td>1</td>\n",
       "      <td>1.0</td>\n",
       "    </tr>\n",
       "    <tr>\n",
       "      <th>44154</th>\n",
       "      <td>2022-11-20</td>\n",
       "      <td>South Africa</td>\n",
       "      <td>Angola</td>\n",
       "      <td>1</td>\n",
       "      <td>1</td>\n",
       "      <td>Friendly</td>\n",
       "      <td>Mbombela</td>\n",
       "      <td>South Africa</td>\n",
       "      <td>False</td>\n",
       "      <td>0</td>\n",
       "      <td>0.5</td>\n",
       "    </tr>\n",
       "    <tr>\n",
       "      <th>44155</th>\n",
       "      <td>2022-11-20</td>\n",
       "      <td>Saint Lucia</td>\n",
       "      <td>San Marino</td>\n",
       "      <td>1</td>\n",
       "      <td>0</td>\n",
       "      <td>Friendly</td>\n",
       "      <td>Gros Islet</td>\n",
       "      <td>Saint Lucia</td>\n",
       "      <td>False</td>\n",
       "      <td>1</td>\n",
       "      <td>1.0</td>\n",
       "    </tr>\n",
       "    <tr>\n",
       "      <th>44156</th>\n",
       "      <td>2022-11-20</td>\n",
       "      <td>Syria</td>\n",
       "      <td>Venezuela</td>\n",
       "      <td>1</td>\n",
       "      <td>2</td>\n",
       "      <td>Friendly</td>\n",
       "      <td>Dubai</td>\n",
       "      <td>United Arab Emirates</td>\n",
       "      <td>True</td>\n",
       "      <td>1</td>\n",
       "      <td>0.0</td>\n",
       "    </tr>\n",
       "    <tr>\n",
       "      <th>44157</th>\n",
       "      <td>2022-11-20</td>\n",
       "      <td>Uzbekistan</td>\n",
       "      <td>Russia</td>\n",
       "      <td>0</td>\n",
       "      <td>0</td>\n",
       "      <td>Friendly</td>\n",
       "      <td>Tashkent</td>\n",
       "      <td>Uzbekistan</td>\n",
       "      <td>False</td>\n",
       "      <td>0</td>\n",
       "      <td>0.5</td>\n",
       "    </tr>\n",
       "  </tbody>\n",
       "</table>\n",
       "<p>44158 rows × 11 columns</p>\n",
       "</div>"
      ],
      "text/plain": [
       "            date     home_team   away_team  home_score  away_score tournament  \\\n",
       "0     1872-11-30      Scotland     England           0           0   Friendly   \n",
       "1     1873-03-08       England    Scotland           4           2   Friendly   \n",
       "2     1874-03-07      Scotland     England           2           1   Friendly   \n",
       "3     1875-03-06       England    Scotland           2           2   Friendly   \n",
       "4     1876-03-04      Scotland     England           3           0   Friendly   \n",
       "...          ...           ...         ...         ...         ...        ...   \n",
       "44153 2022-11-20      Slovenia  Montenegro           1           0   Friendly   \n",
       "44154 2022-11-20  South Africa      Angola           1           1   Friendly   \n",
       "44155 2022-11-20   Saint Lucia  San Marino           1           0   Friendly   \n",
       "44156 2022-11-20         Syria   Venezuela           1           2   Friendly   \n",
       "44157 2022-11-20    Uzbekistan      Russia           0           0   Friendly   \n",
       "\n",
       "             city               country  neutral  score_diff  result  \n",
       "0         Glasgow              Scotland    False           0     0.5  \n",
       "1          London               England    False           2     1.0  \n",
       "2         Glasgow              Scotland    False           1     1.0  \n",
       "3          London               England    False           0     0.5  \n",
       "4         Glasgow              Scotland    False           3     1.0  \n",
       "...           ...                   ...      ...         ...     ...  \n",
       "44153   Ljubljana              Slovenia    False           1     1.0  \n",
       "44154    Mbombela          South Africa    False           0     0.5  \n",
       "44155  Gros Islet           Saint Lucia    False           1     1.0  \n",
       "44156       Dubai  United Arab Emirates     True           1     0.0  \n",
       "44157    Tashkent            Uzbekistan    False           0     0.5  \n",
       "\n",
       "[44158 rows x 11 columns]"
      ]
     },
     "execution_count": 12,
     "metadata": {},
     "output_type": "execute_result"
    }
   ],
   "source": [
    "def get_result(df):\n",
    "    if df['home_score'] > df['away_score']:\n",
    "        return 1\n",
    "    elif df['home_score'] == df['away_score']:\n",
    "        return 0.5\n",
    "    else:\n",
    "        return 0\n",
    "historical_matches['result'] = historical_matches.apply(get_result, axis=1)\n",
    "historical_matches"
   ]
  },
  {
   "cell_type": "code",
   "execution_count": 13,
   "metadata": {},
   "outputs": [
    {
     "data": {
      "text/html": [
       "<div>\n",
       "<style scoped>\n",
       "    .dataframe tbody tr th:only-of-type {\n",
       "        vertical-align: middle;\n",
       "    }\n",
       "\n",
       "    .dataframe tbody tr th {\n",
       "        vertical-align: top;\n",
       "    }\n",
       "\n",
       "    .dataframe thead th {\n",
       "        text-align: right;\n",
       "    }\n",
       "</style>\n",
       "<table border=\"1\" class=\"dataframe\">\n",
       "  <thead>\n",
       "    <tr style=\"text-align: right;\">\n",
       "      <th></th>\n",
       "      <th>team</th>\n",
       "      <th>elo</th>\n",
       "    </tr>\n",
       "  </thead>\n",
       "  <tbody>\n",
       "    <tr>\n",
       "      <th>0</th>\n",
       "      <td>Scotland</td>\n",
       "      <td>1500</td>\n",
       "    </tr>\n",
       "    <tr>\n",
       "      <th>1</th>\n",
       "      <td>England</td>\n",
       "      <td>1500</td>\n",
       "    </tr>\n",
       "    <tr>\n",
       "      <th>2</th>\n",
       "      <td>Wales</td>\n",
       "      <td>1500</td>\n",
       "    </tr>\n",
       "    <tr>\n",
       "      <th>3</th>\n",
       "      <td>Northern Ireland</td>\n",
       "      <td>1500</td>\n",
       "    </tr>\n",
       "    <tr>\n",
       "      <th>4</th>\n",
       "      <td>United States</td>\n",
       "      <td>1500</td>\n",
       "    </tr>\n",
       "    <tr>\n",
       "      <th>...</th>\n",
       "      <td>...</td>\n",
       "      <td>...</td>\n",
       "    </tr>\n",
       "    <tr>\n",
       "      <th>311</th>\n",
       "      <td>Asturias</td>\n",
       "      <td>1500</td>\n",
       "    </tr>\n",
       "    <tr>\n",
       "      <th>312</th>\n",
       "      <td>Crimea</td>\n",
       "      <td>1500</td>\n",
       "    </tr>\n",
       "    <tr>\n",
       "      <th>313</th>\n",
       "      <td>Two Sicilies</td>\n",
       "      <td>1500</td>\n",
       "    </tr>\n",
       "    <tr>\n",
       "      <th>314</th>\n",
       "      <td>Surrey</td>\n",
       "      <td>1500</td>\n",
       "    </tr>\n",
       "    <tr>\n",
       "      <th>315</th>\n",
       "      <td>Maule Sur</td>\n",
       "      <td>1500</td>\n",
       "    </tr>\n",
       "  </tbody>\n",
       "</table>\n",
       "<p>316 rows × 2 columns</p>\n",
       "</div>"
      ],
      "text/plain": [
       "                 team   elo\n",
       "0            Scotland  1500\n",
       "1             England  1500\n",
       "2               Wales  1500\n",
       "3    Northern Ireland  1500\n",
       "4       United States  1500\n",
       "..                ...   ...\n",
       "311          Asturias  1500\n",
       "312            Crimea  1500\n",
       "313      Two Sicilies  1500\n",
       "314            Surrey  1500\n",
       "315         Maule Sur  1500\n",
       "\n",
       "[316 rows x 2 columns]"
      ]
     },
     "execution_count": 13,
     "metadata": {},
     "output_type": "execute_result"
    }
   ],
   "source": [
    "teams_df = pd.unique(historical_matches[['home_team', 'away_team']].values.ravel('K'))\n",
    "teams_df = pd.DataFrame({'team': teams_df})\n",
    "teams_df['elo'] = 1500\n",
    "#teams_df.loc[teams_df[\"team\"] == \"United States\", \"team\"] = \"USA\"\n",
    "#teams_df.loc[teams_df[\"team\"] == \"USA\"]\n",
    "#teams_df['team'] = teams_df['team'].replace('United States', 'USA')\n",
    "teams_df"
   ]
  },
  {
   "cell_type": "code",
   "execution_count": 14,
   "metadata": {},
   "outputs": [],
   "source": [
    "def expected(A, B):\n",
    "    \"\"\"\n",
    "    Calculate expected score of A in a match against B\n",
    "    :param A: Elo rating for player A\n",
    "    :param B: Elo rating for player B\n",
    "    \"\"\"\n",
    "    return 1 / (1 + 10 ** ((B - A) / 400))\n",
    "\n",
    "\n",
    "def elo(old, exp, score, k=30):\n",
    "    \"\"\"\n",
    "    Calculate the new Elo rating for a player\n",
    "    :param old: The previous Elo rating\n",
    "    :param exp: The expected score for this match\n",
    "    :param score: The actual score for this match\n",
    "    :param k: The k-factor for Elo (default: 30)\n",
    "    \"\"\"\n",
    "    return old + k * (score - exp)"
   ]
  },
  {
   "cell_type": "code",
   "execution_count": 15,
   "metadata": {},
   "outputs": [],
   "source": [
    "teams_df.set_index('team', inplace=True)\n",
    "elo_ratings_home, elo_ratings_away = [], []\n",
    "for index, row in historical_matches.iterrows():\n",
    "    elo_home = teams_df['elo'].loc[row['home_team']]\n",
    "    elo_away = teams_df['elo'].loc[row['away_team']]\n",
    "    \n",
    "    new_elo_home = elo(elo_home, expected(elo_home,elo_away),row['result'])\n",
    "    new_elo_away = elo(elo_away, expected(elo_away,elo_home),(row['result']-1)*-1)\n",
    "\n",
    "    teams_df['elo'].loc[row['home_team']] = new_elo_home\n",
    "    teams_df['elo'].loc[row['away_team']] = new_elo_away\n",
    "    \n",
    "    elo_ratings_home.append(new_elo_home)\n",
    "    elo_ratings_away.append(new_elo_away)\n",
    "    \n",
    "historical_matches['home_elo'] = elo_ratings_home\n",
    "historical_matches['away_elo'] = elo_ratings_away"
   ]
  },
  {
   "cell_type": "code",
   "execution_count": 16,
   "metadata": {},
   "outputs": [
    {
     "name": "stdout",
     "output_type": "stream",
     "text": [
      "Top 10 Teams Based on Elo Rating\n"
     ]
    },
    {
     "data": {
      "image/png": "[encoded data removed]",
      "text/plain": [
       "<Figure size 432x288 with 1 Axes>"
      ]
     },
     "metadata": {
      "needs_background": "light"
     },
     "output_type": "display_data"
    }
   ],
   "source": [
    "print(\"Top 10 Teams Based on Elo Rating\")\n",
    "elo_ratings_top10 = teams_df.sort_values(by=['elo'], ascending=False)[:10].reset_index()\n",
    "sns.barplot(x = 'team',\n",
    "            y = 'elo',\n",
    "            data = elo_ratings_top10)\n",
    "plt.xticks(rotation=90)\n",
    "plt.show()"
   ]
  },
  {
   "cell_type": "markdown",
   "metadata": {},
   "source": [
    "* ## World Cup 2018 Data"
   ]
  },
  {
   "cell_type": "code",
   "execution_count": 17,
   "metadata": {},
   "outputs": [
    {
     "data": {
      "text/html": [
       "<div>\n",
       "<style scoped>\n",
       "    .dataframe tbody tr th:only-of-type {\n",
       "        vertical-align: middle;\n",
       "    }\n",
       "\n",
       "    .dataframe tbody tr th {\n",
       "        vertical-align: top;\n",
       "    }\n",
       "\n",
       "    .dataframe thead th {\n",
       "        text-align: right;\n",
       "    }\n",
       "</style>\n",
       "<table border=\"1\" class=\"dataframe\">\n",
       "  <thead>\n",
       "    <tr style=\"text-align: right;\">\n",
       "      <th></th>\n",
       "      <th>Group</th>\n",
       "      <th>First match \\nagainst</th>\n",
       "      <th>Second match\\n against</th>\n",
       "      <th>Third match\\n against</th>\n",
       "    </tr>\n",
       "    <tr>\n",
       "      <th>Team</th>\n",
       "      <th></th>\n",
       "      <th></th>\n",
       "      <th></th>\n",
       "      <th></th>\n",
       "    </tr>\n",
       "  </thead>\n",
       "  <tbody>\n",
       "    <tr>\n",
       "      <th>Qatar</th>\n",
       "      <td>A</td>\n",
       "      <td>Ecuador</td>\n",
       "      <td>Senegal</td>\n",
       "      <td>Netherlands</td>\n",
       "    </tr>\n",
       "    <tr>\n",
       "      <th>Ecuador</th>\n",
       "      <td>A</td>\n",
       "      <td>Qatar</td>\n",
       "      <td>Netherlands</td>\n",
       "      <td>Senegal</td>\n",
       "    </tr>\n",
       "    <tr>\n",
       "      <th>Senegal</th>\n",
       "      <td>A</td>\n",
       "      <td>Netherlands</td>\n",
       "      <td>Qatar</td>\n",
       "      <td>Ecuador</td>\n",
       "    </tr>\n",
       "    <tr>\n",
       "      <th>Netherlands</th>\n",
       "      <td>A</td>\n",
       "      <td>Senegal</td>\n",
       "      <td>Ecuador</td>\n",
       "      <td>Qatar</td>\n",
       "    </tr>\n",
       "    <tr>\n",
       "      <th>England</th>\n",
       "      <td>B</td>\n",
       "      <td>Iran</td>\n",
       "      <td>United States</td>\n",
       "      <td>Wales</td>\n",
       "    </tr>\n",
       "    <tr>\n",
       "      <th>Iran</th>\n",
       "      <td>B</td>\n",
       "      <td>England</td>\n",
       "      <td>Wales</td>\n",
       "      <td>United States</td>\n",
       "    </tr>\n",
       "    <tr>\n",
       "      <th>United States</th>\n",
       "      <td>B</td>\n",
       "      <td>Wales</td>\n",
       "      <td>England</td>\n",
       "      <td>Iran</td>\n",
       "    </tr>\n",
       "    <tr>\n",
       "      <th>Wales</th>\n",
       "      <td>B</td>\n",
       "      <td>United States</td>\n",
       "      <td>Iran</td>\n",
       "      <td>England</td>\n",
       "    </tr>\n",
       "    <tr>\n",
       "      <th>Argentina</th>\n",
       "      <td>C</td>\n",
       "      <td>Saudi Arabia</td>\n",
       "      <td>Mexico</td>\n",
       "      <td>Poland</td>\n",
       "    </tr>\n",
       "    <tr>\n",
       "      <th>Saudi Arabia</th>\n",
       "      <td>C</td>\n",
       "      <td>Argentina</td>\n",
       "      <td>Poland</td>\n",
       "      <td>Mexico</td>\n",
       "    </tr>\n",
       "    <tr>\n",
       "      <th>Mexico</th>\n",
       "      <td>C</td>\n",
       "      <td>Poland</td>\n",
       "      <td>Argentina</td>\n",
       "      <td>Saudi Arabia</td>\n",
       "    </tr>\n",
       "    <tr>\n",
       "      <th>Poland</th>\n",
       "      <td>C</td>\n",
       "      <td>Mexico</td>\n",
       "      <td>Saudi Arabia</td>\n",
       "      <td>Argentina</td>\n",
       "    </tr>\n",
       "    <tr>\n",
       "      <th>France</th>\n",
       "      <td>D</td>\n",
       "      <td>Australia</td>\n",
       "      <td>Denmark</td>\n",
       "      <td>Tunisia</td>\n",
       "    </tr>\n",
       "    <tr>\n",
       "      <th>Australia</th>\n",
       "      <td>D</td>\n",
       "      <td>France</td>\n",
       "      <td>Tunisia</td>\n",
       "      <td>Denmark</td>\n",
       "    </tr>\n",
       "    <tr>\n",
       "      <th>Denmark</th>\n",
       "      <td>D</td>\n",
       "      <td>Tunisia</td>\n",
       "      <td>France</td>\n",
       "      <td>Australia</td>\n",
       "    </tr>\n",
       "    <tr>\n",
       "      <th>Tunisia</th>\n",
       "      <td>D</td>\n",
       "      <td>Denmark</td>\n",
       "      <td>Australia</td>\n",
       "      <td>France</td>\n",
       "    </tr>\n",
       "    <tr>\n",
       "      <th>Spain</th>\n",
       "      <td>E</td>\n",
       "      <td>Costa Rica</td>\n",
       "      <td>Germany</td>\n",
       "      <td>Japan</td>\n",
       "    </tr>\n",
       "    <tr>\n",
       "      <th>Costa Rica</th>\n",
       "      <td>E</td>\n",
       "      <td>Spain</td>\n",
       "      <td>Japan</td>\n",
       "      <td>Germany</td>\n",
       "    </tr>\n",
       "    <tr>\n",
       "      <th>Germany</th>\n",
       "      <td>E</td>\n",
       "      <td>Japan</td>\n",
       "      <td>Spain</td>\n",
       "      <td>Costa Rica</td>\n",
       "    </tr>\n",
       "    <tr>\n",
       "      <th>Japan</th>\n",
       "      <td>E</td>\n",
       "      <td>Germany</td>\n",
       "      <td>Costa Rica</td>\n",
       "      <td>Spain</td>\n",
       "    </tr>\n",
       "    <tr>\n",
       "      <th>Belgium</th>\n",
       "      <td>F</td>\n",
       "      <td>Canada</td>\n",
       "      <td>Morocco</td>\n",
       "      <td>Croatia</td>\n",
       "    </tr>\n",
       "    <tr>\n",
       "      <th>Canada</th>\n",
       "      <td>F</td>\n",
       "      <td>Belgium</td>\n",
       "      <td>Croatia</td>\n",
       "      <td>Morocco</td>\n",
       "    </tr>\n",
       "    <tr>\n",
       "      <th>Morocco</th>\n",
       "      <td>F</td>\n",
       "      <td>Croatia</td>\n",
       "      <td>Belgium</td>\n",
       "      <td>Canada</td>\n",
       "    </tr>\n",
       "    <tr>\n",
       "      <th>Croatia</th>\n",
       "      <td>F</td>\n",
       "      <td>Morocco</td>\n",
       "      <td>Canada</td>\n",
       "      <td>Belgium</td>\n",
       "    </tr>\n",
       "    <tr>\n",
       "      <th>Brazil</th>\n",
       "      <td>G</td>\n",
       "      <td>Serbia</td>\n",
       "      <td>Switzerland</td>\n",
       "      <td>Cameroon</td>\n",
       "    </tr>\n",
       "    <tr>\n",
       "      <th>Serbia</th>\n",
       "      <td>G</td>\n",
       "      <td>Brazil</td>\n",
       "      <td>Cameroon</td>\n",
       "      <td>Switzerland</td>\n",
       "    </tr>\n",
       "    <tr>\n",
       "      <th>Switzerland</th>\n",
       "      <td>G</td>\n",
       "      <td>Cameroon</td>\n",
       "      <td>Brazil</td>\n",
       "      <td>Serbia</td>\n",
       "    </tr>\n",
       "    <tr>\n",
       "      <th>Cameroon</th>\n",
       "      <td>G</td>\n",
       "      <td>Switzerland</td>\n",
       "      <td>Serbia</td>\n",
       "      <td>Brazil</td>\n",
       "    </tr>\n",
       "    <tr>\n",
       "      <th>Portugal</th>\n",
       "      <td>H</td>\n",
       "      <td>Ghana</td>\n",
       "      <td>Uruguay</td>\n",
       "      <td>South Korea</td>\n",
       "    </tr>\n",
       "    <tr>\n",
       "      <th>Ghana</th>\n",
       "      <td>H</td>\n",
       "      <td>Portugal</td>\n",
       "      <td>South Korea</td>\n",
       "      <td>Uruguay</td>\n",
       "    </tr>\n",
       "    <tr>\n",
       "      <th>Uruguay</th>\n",
       "      <td>H</td>\n",
       "      <td>South Korea</td>\n",
       "      <td>Portugal</td>\n",
       "      <td>Ghana</td>\n",
       "    </tr>\n",
       "    <tr>\n",
       "      <th>South Korea</th>\n",
       "      <td>H</td>\n",
       "      <td>Uruguay</td>\n",
       "      <td>Ghana</td>\n",
       "      <td>Portugal</td>\n",
       "    </tr>\n",
       "  </tbody>\n",
       "</table>\n",
       "</div>"
      ],
      "text/plain": [
       "              Group First match \\nagainst Second match\\n against  \\\n",
       "Team                                                               \n",
       "Qatar             A               Ecuador                Senegal   \n",
       "Ecuador           A                 Qatar            Netherlands   \n",
       "Senegal           A           Netherlands                  Qatar   \n",
       "Netherlands       A               Senegal                Ecuador   \n",
       "England           B                  Iran          United States   \n",
       "Iran              B               England                  Wales   \n",
       "United States     B                 Wales                England   \n",
       "Wales             B         United States                   Iran   \n",
       "Argentina         C          Saudi Arabia                 Mexico   \n",
       "Saudi Arabia      C             Argentina                 Poland   \n",
       "Mexico            C                Poland              Argentina   \n",
       "Poland            C                Mexico           Saudi Arabia   \n",
       "France            D             Australia                Denmark   \n",
       "Australia         D                France                Tunisia   \n",
       "Denmark           D               Tunisia                 France   \n",
       "Tunisia           D               Denmark              Australia   \n",
       "Spain             E            Costa Rica                Germany   \n",
       "Costa Rica        E                 Spain                  Japan   \n",
       "Germany           E                 Japan                  Spain   \n",
       "Japan             E               Germany             Costa Rica   \n",
       "Belgium           F                Canada                Morocco   \n",
       "Canada            F               Belgium                Croatia   \n",
       "Morocco           F               Croatia                Belgium   \n",
       "Croatia           F               Morocco                 Canada   \n",
       "Brazil            G                Serbia            Switzerland   \n",
       "Serbia            G                Brazil               Cameroon   \n",
       "Switzerland       G              Cameroon                 Brazil   \n",
       "Cameroon          G           Switzerland                 Serbia   \n",
       "Portugal          H                 Ghana                Uruguay   \n",
       "Ghana             H              Portugal            South Korea   \n",
       "Uruguay           H           South Korea               Portugal   \n",
       "South Korea       H               Uruguay                  Ghana   \n",
       "\n",
       "              Third match\\n against  \n",
       "Team                                 \n",
       "Qatar                   Netherlands  \n",
       "Ecuador                     Senegal  \n",
       "Senegal                     Ecuador  \n",
       "Netherlands                   Qatar  \n",
       "England                       Wales  \n",
       "Iran                  United States  \n",
       "United States                  Iran  \n",
       "Wales                       England  \n",
       "Argentina                    Poland  \n",
       "Saudi Arabia                 Mexico  \n",
       "Mexico                 Saudi Arabia  \n",
       "Poland                    Argentina  \n",
       "France                      Tunisia  \n",
       "Australia                   Denmark  \n",
       "Denmark                   Australia  \n",
       "Tunisia                      France  \n",
       "Spain                         Japan  \n",
       "Costa Rica                  Germany  \n",
       "Germany                  Costa Rica  \n",
       "Japan                         Spain  \n",
       "Belgium                     Croatia  \n",
       "Canada                      Morocco  \n",
       "Morocco                      Canada  \n",
       "Croatia                     Belgium  \n",
       "Brazil                     Cameroon  \n",
       "Serbia                  Switzerland  \n",
       "Switzerland                  Serbia  \n",
       "Cameroon                     Brazil  \n",
       "Portugal                South Korea  \n",
       "Ghana                       Uruguay  \n",
       "Uruguay                       Ghana  \n",
       "South Korea                Portugal  "
      ]
     },
     "execution_count": 17,
     "metadata": {},
     "output_type": "execute_result"
    }
   ],
   "source": [
    "# Processing world cup data\n",
    "world_cup = world_cup.reset_index()\n",
    "world_cup = world_cup.loc[:, ['Team', 'Group', 'First match \\nagainst', 'Second match\\n against', 'Third match\\n against']]\n",
    "world_cup = world_cup.dropna(how='all')\n",
    "world_cup = world_cup.set_index('Team')\n",
    "world_cup"
   ]
  },
  {
   "cell_type": "code",
   "execution_count": 18,
   "metadata": {},
   "outputs": [
    {
     "name": "stdout",
     "output_type": "stream",
     "text": [
      "World Cup 2022 Data\n",
      "<class 'pandas.core.frame.DataFrame'>\n",
      "Index: 32 entries, Qatar to South Korea\n",
      "Data columns (total 4 columns):\n",
      " #   Column                 Non-Null Count  Dtype \n",
      "---  ------                 --------------  ----- \n",
      " 0   Group                  32 non-null     object\n",
      " 1   First match \n",
      "against   32 non-null     object\n",
      " 2   Second match\n",
      " against  32 non-null     object\n",
      " 3   Third match\n",
      " against   32 non-null     object\n",
      "dtypes: object(4)\n",
      "memory usage: 1.2+ KB\n",
      "None\n"
     ]
    }
   ],
   "source": [
    "print(\"World Cup 2022 Data\")\n",
    "print(world_cup.info())"
   ]
  },
  {
   "cell_type": "code",
   "execution_count": 19,
   "metadata": {},
   "outputs": [
    {
     "name": "stdout",
     "output_type": "stream",
     "text": [
      "World Cup 2022 Participant Latest FIFA Rank\n"
     ]
    },
    {
     "data": {
      "text/html": [
       "<div>\n",
       "<style scoped>\n",
       "    .dataframe tbody tr th:only-of-type {\n",
       "        vertical-align: middle;\n",
       "    }\n",
       "\n",
       "    .dataframe tbody tr th {\n",
       "        vertical-align: top;\n",
       "    }\n",
       "\n",
       "    .dataframe thead th {\n",
       "        text-align: right;\n",
       "    }\n",
       "</style>\n",
       "<table border=\"1\" class=\"dataframe\">\n",
       "  <thead>\n",
       "    <tr style=\"text-align: right;\">\n",
       "      <th></th>\n",
       "      <th>rank_date</th>\n",
       "      <th>rank</th>\n",
       "      <th>country_abrv</th>\n",
       "      <th>total_points</th>\n",
       "      <th>confederation</th>\n",
       "    </tr>\n",
       "    <tr>\n",
       "      <th>country_full</th>\n",
       "      <th></th>\n",
       "      <th></th>\n",
       "      <th></th>\n",
       "      <th></th>\n",
       "      <th></th>\n",
       "    </tr>\n",
       "  </thead>\n",
       "  <tbody>\n",
       "    <tr>\n",
       "      <th>Brazil</th>\n",
       "      <td>2022-10-06</td>\n",
       "      <td>1.0</td>\n",
       "      <td>BRA</td>\n",
       "      <td>1841.30</td>\n",
       "      <td>CONMEBOL</td>\n",
       "    </tr>\n",
       "    <tr>\n",
       "      <th>Belgium</th>\n",
       "      <td>2022-10-06</td>\n",
       "      <td>2.0</td>\n",
       "      <td>BEL</td>\n",
       "      <td>1816.71</td>\n",
       "      <td>UEFA</td>\n",
       "    </tr>\n",
       "    <tr>\n",
       "      <th>Argentina</th>\n",
       "      <td>2022-10-06</td>\n",
       "      <td>3.0</td>\n",
       "      <td>ARG</td>\n",
       "      <td>1773.88</td>\n",
       "      <td>CONMEBOL</td>\n",
       "    </tr>\n",
       "    <tr>\n",
       "      <th>France</th>\n",
       "      <td>2022-10-06</td>\n",
       "      <td>4.0</td>\n",
       "      <td>FRA</td>\n",
       "      <td>1759.78</td>\n",
       "      <td>UEFA</td>\n",
       "    </tr>\n",
       "    <tr>\n",
       "      <th>England</th>\n",
       "      <td>2022-10-06</td>\n",
       "      <td>5.0</td>\n",
       "      <td>ENG</td>\n",
       "      <td>1728.47</td>\n",
       "      <td>UEFA</td>\n",
       "    </tr>\n",
       "    <tr>\n",
       "      <th>Spain</th>\n",
       "      <td>2022-10-06</td>\n",
       "      <td>7.0</td>\n",
       "      <td>ESP</td>\n",
       "      <td>1715.22</td>\n",
       "      <td>UEFA</td>\n",
       "    </tr>\n",
       "    <tr>\n",
       "      <th>Netherlands</th>\n",
       "      <td>2022-10-06</td>\n",
       "      <td>8.0</td>\n",
       "      <td>NED</td>\n",
       "      <td>1694.51</td>\n",
       "      <td>UEFA</td>\n",
       "    </tr>\n",
       "    <tr>\n",
       "      <th>Portugal</th>\n",
       "      <td>2022-10-06</td>\n",
       "      <td>9.0</td>\n",
       "      <td>POR</td>\n",
       "      <td>1676.56</td>\n",
       "      <td>UEFA</td>\n",
       "    </tr>\n",
       "    <tr>\n",
       "      <th>Denmark</th>\n",
       "      <td>2022-10-06</td>\n",
       "      <td>10.0</td>\n",
       "      <td>DEN</td>\n",
       "      <td>1666.57</td>\n",
       "      <td>UEFA</td>\n",
       "    </tr>\n",
       "    <tr>\n",
       "      <th>Germany</th>\n",
       "      <td>2022-10-06</td>\n",
       "      <td>11.0</td>\n",
       "      <td>GER</td>\n",
       "      <td>1650.21</td>\n",
       "      <td>UEFA</td>\n",
       "    </tr>\n",
       "    <tr>\n",
       "      <th>Croatia</th>\n",
       "      <td>2022-10-06</td>\n",
       "      <td>12.0</td>\n",
       "      <td>CRO</td>\n",
       "      <td>1645.64</td>\n",
       "      <td>UEFA</td>\n",
       "    </tr>\n",
       "    <tr>\n",
       "      <th>Mexico</th>\n",
       "      <td>2022-10-06</td>\n",
       "      <td>13.0</td>\n",
       "      <td>MEX</td>\n",
       "      <td>1644.89</td>\n",
       "      <td>CONCACAF</td>\n",
       "    </tr>\n",
       "    <tr>\n",
       "      <th>Uruguay</th>\n",
       "      <td>2022-10-06</td>\n",
       "      <td>14.0</td>\n",
       "      <td>URU</td>\n",
       "      <td>1638.71</td>\n",
       "      <td>CONMEBOL</td>\n",
       "    </tr>\n",
       "    <tr>\n",
       "      <th>Switzerland</th>\n",
       "      <td>2022-10-06</td>\n",
       "      <td>15.0</td>\n",
       "      <td>SUI</td>\n",
       "      <td>1635.92</td>\n",
       "      <td>UEFA</td>\n",
       "    </tr>\n",
       "    <tr>\n",
       "      <th>United States</th>\n",
       "      <td>2022-10-06</td>\n",
       "      <td>16.0</td>\n",
       "      <td>USA</td>\n",
       "      <td>1627.48</td>\n",
       "      <td>CONCACAF</td>\n",
       "    </tr>\n",
       "    <tr>\n",
       "      <th>Senegal</th>\n",
       "      <td>2022-10-06</td>\n",
       "      <td>18.0</td>\n",
       "      <td>SEN</td>\n",
       "      <td>1584.38</td>\n",
       "      <td>CAF</td>\n",
       "    </tr>\n",
       "    <tr>\n",
       "      <th>Wales</th>\n",
       "      <td>2022-10-06</td>\n",
       "      <td>19.0</td>\n",
       "      <td>WAL</td>\n",
       "      <td>1569.82</td>\n",
       "      <td>UEFA</td>\n",
       "    </tr>\n",
       "    <tr>\n",
       "      <th>Iran</th>\n",
       "      <td>2022-10-06</td>\n",
       "      <td>20.0</td>\n",
       "      <td>IRN</td>\n",
       "      <td>1564.61</td>\n",
       "      <td>AFC</td>\n",
       "    </tr>\n",
       "    <tr>\n",
       "      <th>Serbia</th>\n",
       "      <td>2022-10-06</td>\n",
       "      <td>21.0</td>\n",
       "      <td>SRB</td>\n",
       "      <td>1563.62</td>\n",
       "      <td>UEFA</td>\n",
       "    </tr>\n",
       "    <tr>\n",
       "      <th>Morocco</th>\n",
       "      <td>2022-10-06</td>\n",
       "      <td>22.0</td>\n",
       "      <td>MAR</td>\n",
       "      <td>1563.50</td>\n",
       "      <td>CAF</td>\n",
       "    </tr>\n",
       "    <tr>\n",
       "      <th>Japan</th>\n",
       "      <td>2022-10-06</td>\n",
       "      <td>24.0</td>\n",
       "      <td>JPN</td>\n",
       "      <td>1559.54</td>\n",
       "      <td>AFC</td>\n",
       "    </tr>\n",
       "    <tr>\n",
       "      <th>Poland</th>\n",
       "      <td>2022-10-06</td>\n",
       "      <td>26.0</td>\n",
       "      <td>POL</td>\n",
       "      <td>1548.59</td>\n",
       "      <td>UEFA</td>\n",
       "    </tr>\n",
       "    <tr>\n",
       "      <th>South Korea</th>\n",
       "      <td>2022-10-06</td>\n",
       "      <td>28.0</td>\n",
       "      <td>KOR</td>\n",
       "      <td>1530.30</td>\n",
       "      <td>AFC</td>\n",
       "    </tr>\n",
       "    <tr>\n",
       "      <th>Tunisia</th>\n",
       "      <td>2022-10-06</td>\n",
       "      <td>30.0</td>\n",
       "      <td>TUN</td>\n",
       "      <td>1507.54</td>\n",
       "      <td>CAF</td>\n",
       "    </tr>\n",
       "    <tr>\n",
       "      <th>Costa Rica</th>\n",
       "      <td>2022-10-06</td>\n",
       "      <td>31.0</td>\n",
       "      <td>CRC</td>\n",
       "      <td>1503.59</td>\n",
       "      <td>CONCACAF</td>\n",
       "    </tr>\n",
       "    <tr>\n",
       "      <th>Australia</th>\n",
       "      <td>2022-10-06</td>\n",
       "      <td>38.0</td>\n",
       "      <td>AUS</td>\n",
       "      <td>1488.72</td>\n",
       "      <td>AFC</td>\n",
       "    </tr>\n",
       "    <tr>\n",
       "      <th>Canada</th>\n",
       "      <td>2022-10-06</td>\n",
       "      <td>41.0</td>\n",
       "      <td>CAN</td>\n",
       "      <td>1475.00</td>\n",
       "      <td>CONCACAF</td>\n",
       "    </tr>\n",
       "    <tr>\n",
       "      <th>Cameroon</th>\n",
       "      <td>2022-10-06</td>\n",
       "      <td>43.0</td>\n",
       "      <td>CMR</td>\n",
       "      <td>1471.44</td>\n",
       "      <td>CAF</td>\n",
       "    </tr>\n",
       "    <tr>\n",
       "      <th>Ecuador</th>\n",
       "      <td>2022-10-06</td>\n",
       "      <td>44.0</td>\n",
       "      <td>ECU</td>\n",
       "      <td>1464.39</td>\n",
       "      <td>CONMEBOL</td>\n",
       "    </tr>\n",
       "    <tr>\n",
       "      <th>Qatar</th>\n",
       "      <td>2022-10-06</td>\n",
       "      <td>50.0</td>\n",
       "      <td>QAT</td>\n",
       "      <td>1439.89</td>\n",
       "      <td>AFC</td>\n",
       "    </tr>\n",
       "    <tr>\n",
       "      <th>Saudi Arabia</th>\n",
       "      <td>2022-10-06</td>\n",
       "      <td>51.0</td>\n",
       "      <td>KSA</td>\n",
       "      <td>1437.78</td>\n",
       "      <td>AFC</td>\n",
       "    </tr>\n",
       "    <tr>\n",
       "      <th>Ghana</th>\n",
       "      <td>2022-10-06</td>\n",
       "      <td>61.0</td>\n",
       "      <td>GHA</td>\n",
       "      <td>1393.00</td>\n",
       "      <td>CAF</td>\n",
       "    </tr>\n",
       "  </tbody>\n",
       "</table>\n",
       "</div>"
      ],
      "text/plain": [
       "               rank_date  rank country_abrv  total_points confederation\n",
       "country_full                                                           \n",
       "Brazil        2022-10-06   1.0          BRA       1841.30      CONMEBOL\n",
       "Belgium       2022-10-06   2.0          BEL       1816.71          UEFA\n",
       "Argentina     2022-10-06   3.0          ARG       1773.88      CONMEBOL\n",
       "France        2022-10-06   4.0          FRA       1759.78          UEFA\n",
       "England       2022-10-06   5.0          ENG       1728.47          UEFA\n",
       "Spain         2022-10-06   7.0          ESP       1715.22          UEFA\n",
       "Netherlands   2022-10-06   8.0          NED       1694.51          UEFA\n",
       "Portugal      2022-10-06   9.0          POR       1676.56          UEFA\n",
       "Denmark       2022-10-06  10.0          DEN       1666.57          UEFA\n",
       "Germany       2022-10-06  11.0          GER       1650.21          UEFA\n",
       "Croatia       2022-10-06  12.0          CRO       1645.64          UEFA\n",
       "Mexico        2022-10-06  13.0          MEX       1644.89      CONCACAF\n",
       "Uruguay       2022-10-06  14.0          URU       1638.71      CONMEBOL\n",
       "Switzerland   2022-10-06  15.0          SUI       1635.92          UEFA\n",
       "United States 2022-10-06  16.0          USA       1627.48      CONCACAF\n",
       "Senegal       2022-10-06  18.0          SEN       1584.38           CAF\n",
       "Wales         2022-10-06  19.0          WAL       1569.82          UEFA\n",
       "Iran          2022-10-06  20.0          IRN       1564.61           AFC\n",
       "Serbia        2022-10-06  21.0          SRB       1563.62          UEFA\n",
       "Morocco       2022-10-06  22.0          MAR       1563.50           CAF\n",
       "Japan         2022-10-06  24.0          JPN       1559.54           AFC\n",
       "Poland        2022-10-06  26.0          POL       1548.59          UEFA\n",
       "South Korea   2022-10-06  28.0          KOR       1530.30           AFC\n",
       "Tunisia       2022-10-06  30.0          TUN       1507.54           CAF\n",
       "Costa Rica    2022-10-06  31.0          CRC       1503.59      CONCACAF\n",
       "Australia     2022-10-06  38.0          AUS       1488.72           AFC\n",
       "Canada        2022-10-06  41.0          CAN       1475.00      CONCACAF\n",
       "Cameroon      2022-10-06  43.0          CMR       1471.44           CAF\n",
       "Ecuador       2022-10-06  44.0          ECU       1464.39      CONMEBOL\n",
       "Qatar         2022-10-06  50.0          QAT       1439.89           AFC\n",
       "Saudi Arabia  2022-10-06  51.0          KSA       1437.78           AFC\n",
       "Ghana         2022-10-06  61.0          GHA       1393.00           CAF"
      ]
     },
     "execution_count": 19,
     "metadata": {},
     "output_type": "execute_result"
    }
   ],
   "source": [
    "world_cup_rankings = historical_rankings.loc[(historical_rankings['rank_date'] == historical_rankings['rank_date'].max()) & \n",
    "                                    historical_rankings['country_full'].isin(world_cup.index.unique())]\n",
    "world_cup_rankings = world_cup_rankings.set_index(['country_full'])\n",
    "print('World Cup 2022 Participant Latest FIFA Rank')\n",
    "world_cup_rankings.sort_values(by='rank')"
   ]
  },
  {
   "cell_type": "code",
   "execution_count": 20,
   "metadata": {},
   "outputs": [
    {
     "name": "stdout",
     "output_type": "stream",
     "text": [
      "Averaged FIFA Points Group By Confederation\n"
     ]
    },
    {
     "data": {
      "application/vnd.plotly.v1+json": {
       "config": {
        "linkText": "Export to plot.ly",
        "plotlyServerURL": "https://plot.ly",
        "showLink": false
       },
       "data": [
        {
         "text": [
          "AFC",
          "CAF",
          "CONCACAF",
          "UEFA",
          "CONMEBOL"
         ],
         "type": "bar",
         "x": [
          "AFC",
          "CAF",
          "CONCACAF",
          "UEFA",
          "CONMEBOL"
         ],
         "y": [
          1503.4733333333334,
          1503.9720000000002,
          1562.74,
          1667.0476923076922,
          1679.5700000000002
         ]
        }
       ],
       "layout": {
        "template": {
         "data": {
          "bar": [
           {
            "error_x": {
             "color": "#2a3f5f"
            },
            "error_y": {
             "color": "#2a3f5f"
            },
            "marker": {
             "line": {
              "color": "#E5ECF6",
              "width": 0.5
             },
             "pattern": {
              "fillmode": "overlay",
              "size": 10,
              "solidity": 0.2
             }
            },
            "type": "bar"
           }
          ],
          "barpolar": [
           {
            "marker": {
             "line": {
              "color": "#E5ECF6",
              "width": 0.5
             },
             "pattern": {
              "fillmode": "overlay",
              "size": 10,
              "solidity": 0.2
             }
            },
            "type": "barpolar"
           }
          ],
          "carpet": [
           {
            "aaxis": {
             "endlinecolor": "#2a3f5f",
             "gridcolor": "white",
             "linecolor": "white",
             "minorgridcolor": "white",
             "startlinecolor": "#2a3f5f"
            },
            "baxis": {
             "endlinecolor": "#2a3f5f",
             "gridcolor": "white",
             "linecolor": "white",
             "minorgridcolor": "white",
             "startlinecolor": "#2a3f5f"
            },
            "type": "carpet"
           }
          ],
          "choropleth": [
           {
            "colorbar": {
             "outlinewidth": 0,
             "ticks": ""
            },
            "type": "choropleth"
           }
          ],
          "contour": [
           {
            "colorbar": {
             "outlinewidth": 0,
             "ticks": ""
            },
            "colorscale": [
             [
              0,
              "#0d0887"
             ],
             [
              0.1111111111111111,
              "#46039f"
             ],
             [
              0.2222222222222222,
              "#7201a8"
             ],
             [
              0.3333333333333333,
              "#9c179e"
             ],
             [
              0.4444444444444444,
              "#bd3786"
             ],
             [
              0.5555555555555556,
              "#d8576b"
             ],
             [
              0.6666666666666666,
              "#ed7953"
             ],
             [
              0.7777777777777778,
              "#fb9f3a"
             ],
             [
              0.8888888888888888,
              "#fdca26"
             ],
             [
              1,
              "#f0f921"
             ]
            ],
            "type": "contour"
           }
          ],
          "contourcarpet": [
           {
            "colorbar": {
             "outlinewidth": 0,
             "ticks": ""
            },
            "type": "contourcarpet"
           }
          ],
          "heatmap": [
           {
            "colorbar": {
             "outlinewidth": 0,
             "ticks": ""
            },
            "colorscale": [
             [
              0,
              "#0d0887"
             ],
             [
              0.1111111111111111,
              "#46039f"
             ],
             [
              0.2222222222222222,
              "#7201a8"
             ],
             [
              0.3333333333333333,
              "#9c179e"
             ],
             [
              0.4444444444444444,
              "#bd3786"
             ],
             [
              0.5555555555555556,
              "#d8576b"
             ],
             [
              0.6666666666666666,
              "#ed7953"
             ],
             [
              0.7777777777777778,
              "#fb9f3a"
             ],
             [
              0.8888888888888888,
              "#fdca26"
             ],
             [
              1,
              "#f0f921"
             ]
            ],
            "type": "heatmap"
           }
          ],
          "heatmapgl": [
           {
            "colorbar": {
             "outlinewidth": 0,
             "ticks": ""
            },
            "colorscale": [
             [
              0,
              "#0d0887"
             ],
             [
              0.1111111111111111,
              "#46039f"
             ],
             [
              0.2222222222222222,
              "#7201a8"
             ],
             [
              0.3333333333333333,
              "#9c179e"
             ],
             [
              0.4444444444444444,
              "#bd3786"
             ],
             [
              0.5555555555555556,
              "#d8576b"
             ],
             [
              0.6666666666666666,
              "#ed7953"
             ],
             [
              0.7777777777777778,
              "#fb9f3a"
             ],
             [
              0.8888888888888888,
              "#fdca26"
             ],
             [
              1,
              "#f0f921"
             ]
            ],
            "type": "heatmapgl"
           }
          ],
          "histogram": [
           {
            "marker": {
             "pattern": {
              "fillmode": "overlay",
              "size": 10,
              "solidity": 0.2
             }
            },
            "type": "histogram"
           }
          ],
          "histogram2d": [
           {
            "colorbar": {
             "outlinewidth": 0,
             "ticks": ""
            },
            "colorscale": [
             [
              0,
              "#0d0887"
             ],
             [
              0.1111111111111111,
              "#46039f"
             ],
             [
              0.2222222222222222,
              "#7201a8"
             ],
             [
              0.3333333333333333,
              "#9c179e"
             ],
             [
              0.4444444444444444,
              "#bd3786"
             ],
             [
              0.5555555555555556,
              "#d8576b"
             ],
             [
              0.6666666666666666,
              "#ed7953"
             ],
             [
              0.7777777777777778,
              "#fb9f3a"
             ],
             [
              0.8888888888888888,
              "#fdca26"
             ],
             [
              1,
              "#f0f921"
             ]
            ],
            "type": "histogram2d"
           }
          ],
          "histogram2dcontour": [
           {
            "colorbar": {
             "outlinewidth": 0,
             "ticks": ""
            },
            "colorscale": [
             [
              0,
              "#0d0887"
             ],
             [
              0.1111111111111111,
              "#46039f"
             ],
             [
              0.2222222222222222,
              "#7201a8"
             ],
             [
              0.3333333333333333,
              "#9c179e"
             ],
             [
              0.4444444444444444,
              "#bd3786"
             ],
             [
              0.5555555555555556,
              "#d8576b"
             ],
             [
              0.6666666666666666,
              "#ed7953"
             ],
             [
              0.7777777777777778,
              "#fb9f3a"
             ],
             [
              0.8888888888888888,
              "#fdca26"
             ],
             [
              1,
              "#f0f921"
             ]
            ],
            "type": "histogram2dcontour"
           }
          ],
          "mesh3d": [
           {
            "colorbar": {
             "outlinewidth": 0,
             "ticks": ""
            },
            "type": "mesh3d"
           }
          ],
          "parcoords": [
           {
            "line": {
             "colorbar": {
              "outlinewidth": 0,
              "ticks": ""
             }
            },
            "type": "parcoords"
           }
          ],
          "pie": [
           {
            "automargin": true,
            "type": "pie"
           }
          ],
          "scatter": [
           {
            "marker": {
             "colorbar": {
              "outlinewidth": 0,
              "ticks": ""
             }
            },
            "type": "scatter"
           }
          ],
          "scatter3d": [
           {
            "line": {
             "colorbar": {
              "outlinewidth": 0,
              "ticks": ""
             }
            },
            "marker": {
             "colorbar": {
              "outlinewidth": 0,
              "ticks": ""
             }
            },
            "type": "scatter3d"
           }
          ],
          "scattercarpet": [
           {
            "marker": {
             "colorbar": {
              "outlinewidth": 0,
              "ticks": ""
             }
            },
            "type": "scattercarpet"
           }
          ],
          "scattergeo": [
           {
            "marker": {
             "colorbar": {
              "outlinewidth": 0,
              "ticks": ""
             }
            },
            "type": "scattergeo"
           }
          ],
          "scattergl": [
           {
            "marker": {
             "colorbar": {
              "outlinewidth": 0,
              "ticks": ""
             }
            },
            "type": "scattergl"
           }
          ],
          "scattermapbox": [
           {
            "marker": {
             "colorbar": {
              "outlinewidth": 0,
              "ticks": ""
             }
            },
            "type": "scattermapbox"
           }
          ],
          "scatterpolar": [
           {
            "marker": {
             "colorbar": {
              "outlinewidth": 0,
              "ticks": ""
             }
            },
            "type": "scatterpolar"
           }
          ],
          "scatterpolargl": [
           {
            "marker": {
             "colorbar": {
              "outlinewidth": 0,
              "ticks": ""
             }
            },
            "type": "scatterpolargl"
           }
          ],
          "scatterternary": [
           {
            "marker": {
             "colorbar": {
              "outlinewidth": 0,
              "ticks": ""
             }
            },
            "type": "scatterternary"
           }
          ],
          "surface": [
           {
            "colorbar": {
             "outlinewidth": 0,
             "ticks": ""
            },
            "colorscale": [
             [
              0,
              "#0d0887"
             ],
             [
              0.1111111111111111,
              "#46039f"
             ],
             [
              0.2222222222222222,
              "#7201a8"
             ],
             [
              0.3333333333333333,
              "#9c179e"
             ],
             [
              0.4444444444444444,
              "#bd3786"
             ],
             [
              0.5555555555555556,
              "#d8576b"
             ],
             [
              0.6666666666666666,
              "#ed7953"
             ],
             [
              0.7777777777777778,
              "#fb9f3a"
             ],
             [
              0.8888888888888888,
              "#fdca26"
             ],
             [
              1,
              "#f0f921"
             ]
            ],
            "type": "surface"
           }
          ],
          "table": [
           {
            "cells": {
             "fill": {
              "color": "#EBF0F8"
             },
             "line": {
              "color": "white"
             }
            },
            "header": {
             "fill": {
              "color": "#C8D4E3"
             },
             "line": {
              "color": "white"
             }
            },
            "type": "table"
           }
          ]
         },
         "layout": {
          "annotationdefaults": {
           "arrowcolor": "#2a3f5f",
           "arrowhead": 0,
           "arrowwidth": 1
          },
          "autotypenumbers": "strict",
          "coloraxis": {
           "colorbar": {
            "outlinewidth": 0,
            "ticks": ""
           }
          },
          "colorscale": {
           "diverging": [
            [
             0,
             "#8e0152"
            ],
            [
             0.1,
             "#c51b7d"
            ],
            [
             0.2,
             "#de77ae"
            ],
            [
             0.3,
             "#f1b6da"
            ],
            [
             0.4,
             "#fde0ef"
            ],
            [
             0.5,
             "#f7f7f7"
            ],
            [
             0.6,
             "#e6f5d0"
            ],
            [
             0.7,
             "#b8e186"
            ],
            [
             0.8,
             "#7fbc41"
            ],
            [
             0.9,
             "#4d9221"
            ],
            [
             1,
             "#276419"
            ]
           ],
           "sequential": [
            [
             0,
             "#0d0887"
            ],
            [
             0.1111111111111111,
             "#46039f"
            ],
            [
             0.2222222222222222,
             "#7201a8"
            ],
            [
             0.3333333333333333,
             "#9c179e"
            ],
            [
             0.4444444444444444,
             "#bd3786"
            ],
            [
             0.5555555555555556,
             "#d8576b"
            ],
            [
             0.6666666666666666,
             "#ed7953"
            ],
            [
             0.7777777777777778,
             "#fb9f3a"
            ],
            [
             0.8888888888888888,
             "#fdca26"
            ],
            [
             1,
             "#f0f921"
            ]
           ],
           "sequentialminus": [
            [
             0,
             "#0d0887"
            ],
            [
             0.1111111111111111,
             "#46039f"
            ],
            [
             0.2222222222222222,
             "#7201a8"
            ],
            [
             0.3333333333333333,
             "#9c179e"
            ],
            [
             0.4444444444444444,
             "#bd3786"
            ],
            [
             0.5555555555555556,
             "#d8576b"
            ],
            [
             0.6666666666666666,
             "#ed7953"
            ],
            [
             0.7777777777777778,
             "#fb9f3a"
            ],
            [
             0.8888888888888888,
             "#fdca26"
            ],
            [
             1,
             "#f0f921"
            ]
           ]
          },
          "colorway": [
           "#636efa",
           "#EF553B",
           "#00cc96",
           "#ab63fa",
           "#FFA15A",
           "#19d3f3",
           "#FF6692",
           "#B6E880",
           "#FF97FF",
           "#FECB52"
          ],
          "font": {
           "color": "#2a3f5f"
          },
          "geo": {
           "bgcolor": "white",
           "lakecolor": "white",
           "landcolor": "#E5ECF6",
           "showlakes": true,
           "showland": true,
           "subunitcolor": "white"
          },
          "hoverlabel": {
           "align": "left"
          },
          "hovermode": "closest",
          "mapbox": {
           "style": "light"
          },
          "paper_bgcolor": "white",
          "plot_bgcolor": "#E5ECF6",
          "polar": {
           "angularaxis": {
            "gridcolor": "white",
            "linecolor": "white",
            "ticks": ""
           },
           "bgcolor": "#E5ECF6",
           "radialaxis": {
            "gridcolor": "white",
            "linecolor": "white",
            "ticks": ""
           }
          },
          "scene": {
           "xaxis": {
            "backgroundcolor": "#E5ECF6",
            "gridcolor": "white",
            "gridwidth": 2,
            "linecolor": "white",
            "showbackground": true,
            "ticks": "",
            "zerolinecolor": "white"
           },
           "yaxis": {
            "backgroundcolor": "#E5ECF6",
            "gridcolor": "white",
            "gridwidth": 2,
            "linecolor": "white",
            "showbackground": true,
            "ticks": "",
            "zerolinecolor": "white"
           },
           "zaxis": {
            "backgroundcolor": "#E5ECF6",
            "gridcolor": "white",
            "gridwidth": 2,
            "linecolor": "white",
            "showbackground": true,
            "ticks": "",
            "zerolinecolor": "white"
           }
          },
          "shapedefaults": {
           "line": {
            "color": "#2a3f5f"
           }
          },
          "ternary": {
           "aaxis": {
            "gridcolor": "white",
            "linecolor": "white",
            "ticks": ""
           },
           "baxis": {
            "gridcolor": "white",
            "linecolor": "white",
            "ticks": ""
           },
           "bgcolor": "#E5ECF6",
           "caxis": {
            "gridcolor": "white",
            "linecolor": "white",
            "ticks": ""
           }
          },
          "title": {
           "x": 0.05
          },
          "xaxis": {
           "automargin": true,
           "gridcolor": "white",
           "linecolor": "white",
           "ticks": "",
           "title": {
            "standoff": 15
           },
           "zerolinecolor": "white",
           "zerolinewidth": 2
          },
          "yaxis": {
           "automargin": true,
           "gridcolor": "white",
           "linecolor": "white",
           "ticks": "",
           "title": {
            "standoff": 15
           },
           "zerolinecolor": "white",
           "zerolinewidth": 2
          }
         }
        }
       }
      },
      "text/html": [
       "<div>                            <div id=\"182a0473-2d42-4f81-8da2-38893d0a94ad\" class=\"plotly-graph-div\" style=\"height:525px; width:100%;\"></div>            <script type=\"text/javascript\">                require([\"plotly\"], function(Plotly) {                    window.PLOTLYENV=window.PLOTLYENV || {};                                    if (document.getElementById(\"182a0473-2d42-4f81-8da2-38893d0a94ad\")) {                    Plotly.newPlot(                        \"182a0473-2d42-4f81-8da2-38893d0a94ad\",                        [{\"text\":[\"AFC\",\"CAF\",\"CONCACAF\",\"UEFA\",\"CONMEBOL\"],\"x\":[\"AFC\",\"CAF\",\"CONCACAF\",\"UEFA\",\"CONMEBOL\"],\"y\":[1503.4733333333334,1503.9720000000002,1562.74,1667.0476923076922,1679.5700000000002],\"type\":\"bar\"}],                        {\"template\":{\"data\":{\"barpolar\":[{\"marker\":{\"line\":{\"color\":\"#E5ECF6\",\"width\":0.5},\"pattern\":{\"fillmode\":\"overlay\",\"size\":10,\"solidity\":0.2}},\"type\":\"barpolar\"}],\"bar\":[{\"error_x\":{\"color\":\"#2a3f5f\"},\"error_y\":{\"color\":\"#2a3f5f\"},\"marker\":{\"line\":{\"color\":\"#E5ECF6\",\"width\":0.5},\"pattern\":{\"fillmode\":\"overlay\",\"size\":10,\"solidity\":0.2}},\"type\":\"bar\"}],\"carpet\":[{\"aaxis\":{\"endlinecolor\":\"#2a3f5f\",\"gridcolor\":\"white\",\"linecolor\":\"white\",\"minorgridcolor\":\"white\",\"startlinecolor\":\"#2a3f5f\"},\"baxis\":{\"endlinecolor\":\"#2a3f5f\",\"gridcolor\":\"white\",\"linecolor\":\"white\",\"minorgridcolor\":\"white\",\"startlinecolor\":\"#2a3f5f\"},\"type\":\"carpet\"}],\"choropleth\":[{\"colorbar\":{\"outlinewidth\":0,\"ticks\":\"\"},\"type\":\"choropleth\"}],\"contourcarpet\":[{\"colorbar\":{\"outlinewidth\":0,\"ticks\":\"\"},\"type\":\"contourcarpet\"}],\"contour\":[{\"colorbar\":{\"outlinewidth\":0,\"ticks\":\"\"},\"colorscale\":[[0.0,\"#0d0887\"],[0.1111111111111111,\"#46039f\"],[0.2222222222222222,\"#7201a8\"],[0.3333333333333333,\"#9c179e\"],[0.4444444444444444,\"#bd3786\"],[0.5555555555555556,\"#d8576b\"],[0.6666666666666666,\"#ed7953\"],[0.7777777777777778,\"#fb9f3a\"],[0.8888888888888888,\"#fdca26\"],[1.0,\"#f0f921\"]],\"type\":\"contour\"}],\"heatmapgl\":[{\"colorbar\":{\"outlinewidth\":0,\"ticks\":\"\"},\"colorscale\":[[0.0,\"#0d0887\"],[0.1111111111111111,\"#46039f\"],[0.2222222222222222,\"#7201a8\"],[0.3333333333333333,\"#9c179e\"],[0.4444444444444444,\"#bd3786\"],[0.5555555555555556,\"#d8576b\"],[0.6666666666666666,\"#ed7953\"],[0.7777777777777778,\"#fb9f3a\"],[0.8888888888888888,\"#fdca26\"],[1.0,\"#f0f921\"]],\"type\":\"heatmapgl\"}],\"heatmap\":[{\"colorbar\":{\"outlinewidth\":0,\"ticks\":\"\"},\"colorscale\":[[0.0,\"#0d0887\"],[0.1111111111111111,\"#46039f\"],[0.2222222222222222,\"#7201a8\"],[0.3333333333333333,\"#9c179e\"],[0.4444444444444444,\"#bd3786\"],[0.5555555555555556,\"#d8576b\"],[0.6666666666666666,\"#ed7953\"],[0.7777777777777778,\"#fb9f3a\"],[0.8888888888888888,\"#fdca26\"],[1.0,\"#f0f921\"]],\"type\":\"heatmap\"}],\"histogram2dcontour\":[{\"colorbar\":{\"outlinewidth\":0,\"ticks\":\"\"},\"colorscale\":[[0.0,\"#0d0887\"],[0.1111111111111111,\"#46039f\"],[0.2222222222222222,\"#7201a8\"],[0.3333333333333333,\"#9c179e\"],[0.4444444444444444,\"#bd3786\"],[0.5555555555555556,\"#d8576b\"],[0.6666666666666666,\"#ed7953\"],[0.7777777777777778,\"#fb9f3a\"],[0.8888888888888888,\"#fdca26\"],[1.0,\"#f0f921\"]],\"type\":\"histogram2dcontour\"}],\"histogram2d\":[{\"colorbar\":{\"outlinewidth\":0,\"ticks\":\"\"},\"colorscale\":[[0.0,\"#0d0887\"],[0.1111111111111111,\"#46039f\"],[0.2222222222222222,\"#7201a8\"],[0.3333333333333333,\"#9c179e\"],[0.4444444444444444,\"#bd3786\"],[0.5555555555555556,\"#d8576b\"],[0.6666666666666666,\"#ed7953\"],[0.7777777777777778,\"#fb9f3a\"],[0.8888888888888888,\"#fdca26\"],[1.0,\"#f0f921\"]],\"type\":\"histogram2d\"}],\"histogram\":[{\"marker\":{\"pattern\":{\"fillmode\":\"overlay\",\"size\":10,\"solidity\":0.2}},\"type\":\"histogram\"}],\"mesh3d\":[{\"colorbar\":{\"outlinewidth\":0,\"ticks\":\"\"},\"type\":\"mesh3d\"}],\"parcoords\":[{\"line\":{\"colorbar\":{\"outlinewidth\":0,\"ticks\":\"\"}},\"type\":\"parcoords\"}],\"pie\":[{\"automargin\":true,\"type\":\"pie\"}],\"scatter3d\":[{\"line\":{\"colorbar\":{\"outlinewidth\":0,\"ticks\":\"\"}},\"marker\":{\"colorbar\":{\"outlinewidth\":0,\"ticks\":\"\"}},\"type\":\"scatter3d\"}],\"scattercarpet\":[{\"marker\":{\"colorbar\":{\"outlinewidth\":0,\"ticks\":\"\"}},\"type\":\"scattercarpet\"}],\"scattergeo\":[{\"marker\":{\"colorbar\":{\"outlinewidth\":0,\"ticks\":\"\"}},\"type\":\"scattergeo\"}],\"scattergl\":[{\"marker\":{\"colorbar\":{\"outlinewidth\":0,\"ticks\":\"\"}},\"type\":\"scattergl\"}],\"scattermapbox\":[{\"marker\":{\"colorbar\":{\"outlinewidth\":0,\"ticks\":\"\"}},\"type\":\"scattermapbox\"}],\"scatterpolargl\":[{\"marker\":{\"colorbar\":{\"outlinewidth\":0,\"ticks\":\"\"}},\"type\":\"scatterpolargl\"}],\"scatterpolar\":[{\"marker\":{\"colorbar\":{\"outlinewidth\":0,\"ticks\":\"\"}},\"type\":\"scatterpolar\"}],\"scatter\":[{\"marker\":{\"colorbar\":{\"outlinewidth\":0,\"ticks\":\"\"}},\"type\":\"scatter\"}],\"scatterternary\":[{\"marker\":{\"colorbar\":{\"outlinewidth\":0,\"ticks\":\"\"}},\"type\":\"scatterternary\"}],\"surface\":[{\"colorbar\":{\"outlinewidth\":0,\"ticks\":\"\"},\"colorscale\":[[0.0,\"#0d0887\"],[0.1111111111111111,\"#46039f\"],[0.2222222222222222,\"#7201a8\"],[0.3333333333333333,\"#9c179e\"],[0.4444444444444444,\"#bd3786\"],[0.5555555555555556,\"#d8576b\"],[0.6666666666666666,\"#ed7953\"],[0.7777777777777778,\"#fb9f3a\"],[0.8888888888888888,\"#fdca26\"],[1.0,\"#f0f921\"]],\"type\":\"surface\"}],\"table\":[{\"cells\":{\"fill\":{\"color\":\"#EBF0F8\"},\"line\":{\"color\":\"white\"}},\"header\":{\"fill\":{\"color\":\"#C8D4E3\"},\"line\":{\"color\":\"white\"}},\"type\":\"table\"}]},\"layout\":{\"annotationdefaults\":{\"arrowcolor\":\"#2a3f5f\",\"arrowhead\":0,\"arrowwidth\":1},\"autotypenumbers\":\"strict\",\"coloraxis\":{\"colorbar\":{\"outlinewidth\":0,\"ticks\":\"\"}},\"colorscale\":{\"diverging\":[[0,\"#8e0152\"],[0.1,\"#c51b7d\"],[0.2,\"#de77ae\"],[0.3,\"#f1b6da\"],[0.4,\"#fde0ef\"],[0.5,\"#f7f7f7\"],[0.6,\"#e6f5d0\"],[0.7,\"#b8e186\"],[0.8,\"#7fbc41\"],[0.9,\"#4d9221\"],[1,\"#276419\"]],\"sequential\":[[0.0,\"#0d0887\"],[0.1111111111111111,\"#46039f\"],[0.2222222222222222,\"#7201a8\"],[0.3333333333333333,\"#9c179e\"],[0.4444444444444444,\"#bd3786\"],[0.5555555555555556,\"#d8576b\"],[0.6666666666666666,\"#ed7953\"],[0.7777777777777778,\"#fb9f3a\"],[0.8888888888888888,\"#fdca26\"],[1.0,\"#f0f921\"]],\"sequentialminus\":[[0.0,\"#0d0887\"],[0.1111111111111111,\"#46039f\"],[0.2222222222222222,\"#7201a8\"],[0.3333333333333333,\"#9c179e\"],[0.4444444444444444,\"#bd3786\"],[0.5555555555555556,\"#d8576b\"],[0.6666666666666666,\"#ed7953\"],[0.7777777777777778,\"#fb9f3a\"],[0.8888888888888888,\"#fdca26\"],[1.0,\"#f0f921\"]]},\"colorway\":[\"#636efa\",\"#EF553B\",\"#00cc96\",\"#ab63fa\",\"#FFA15A\",\"#19d3f3\",\"#FF6692\",\"#B6E880\",\"#FF97FF\",\"#FECB52\"],\"font\":{\"color\":\"#2a3f5f\"},\"geo\":{\"bgcolor\":\"white\",\"lakecolor\":\"white\",\"landcolor\":\"#E5ECF6\",\"showlakes\":true,\"showland\":true,\"subunitcolor\":\"white\"},\"hoverlabel\":{\"align\":\"left\"},\"hovermode\":\"closest\",\"mapbox\":{\"style\":\"light\"},\"paper_bgcolor\":\"white\",\"plot_bgcolor\":\"#E5ECF6\",\"polar\":{\"angularaxis\":{\"gridcolor\":\"white\",\"linecolor\":\"white\",\"ticks\":\"\"},\"bgcolor\":\"#E5ECF6\",\"radialaxis\":{\"gridcolor\":\"white\",\"linecolor\":\"white\",\"ticks\":\"\"}},\"scene\":{\"xaxis\":{\"backgroundcolor\":\"#E5ECF6\",\"gridcolor\":\"white\",\"gridwidth\":2,\"linecolor\":\"white\",\"showbackground\":true,\"ticks\":\"\",\"zerolinecolor\":\"white\"},\"yaxis\":{\"backgroundcolor\":\"#E5ECF6\",\"gridcolor\":\"white\",\"gridwidth\":2,\"linecolor\":\"white\",\"showbackground\":true,\"ticks\":\"\",\"zerolinecolor\":\"white\"},\"zaxis\":{\"backgroundcolor\":\"#E5ECF6\",\"gridcolor\":\"white\",\"gridwidth\":2,\"linecolor\":\"white\",\"showbackground\":true,\"ticks\":\"\",\"zerolinecolor\":\"white\"}},\"shapedefaults\":{\"line\":{\"color\":\"#2a3f5f\"}},\"ternary\":{\"aaxis\":{\"gridcolor\":\"white\",\"linecolor\":\"white\",\"ticks\":\"\"},\"baxis\":{\"gridcolor\":\"white\",\"linecolor\":\"white\",\"ticks\":\"\"},\"bgcolor\":\"#E5ECF6\",\"caxis\":{\"gridcolor\":\"white\",\"linecolor\":\"white\",\"ticks\":\"\"}},\"title\":{\"x\":0.05},\"xaxis\":{\"automargin\":true,\"gridcolor\":\"white\",\"linecolor\":\"white\",\"ticks\":\"\",\"title\":{\"standoff\":15},\"zerolinecolor\":\"white\",\"zerolinewidth\":2},\"yaxis\":{\"automargin\":true,\"gridcolor\":\"white\",\"linecolor\":\"white\",\"ticks\":\"\",\"title\":{\"standoff\":15},\"zerolinecolor\":\"white\",\"zerolinewidth\":2}}}},                        {\"responsive\": true}                    ).then(function(){\n",
       "                            \n",
       "var gd = document.getElementById('182a0473-2d42-4f81-8da2-38893d0a94ad');\n",
       "var x = new MutationObserver(function (mutations, observer) {{\n",
       "        var display = window.getComputedStyle(gd).display;\n",
       "        if (!display || display === 'none') {{\n",
       "            console.log([gd, 'removed!']);\n",
       "            Plotly.purge(gd);\n",
       "            observer.disconnect();\n",
       "        }}\n",
       "}});\n",
       "\n",
       "// Listen for the removal of the full notebook cells\n",
       "var notebookContainer = gd.closest('#notebook-container');\n",
       "if (notebookContainer) {{\n",
       "    x.observe(notebookContainer, {childList: true});\n",
       "}}\n",
       "\n",
       "// Listen for the clearing of the current output cell\n",
       "var outputEl = gd.closest('.output');\n",
       "if (outputEl) {{\n",
       "    x.observe(outputEl, {childList: true});\n",
       "}}\n",
       "\n",
       "                        })                };                });            </script>        </div>"
      ]
     },
     "metadata": {},
     "output_type": "display_data"
    }
   ],
   "source": [
    "by_confederation = world_cup_rankings.groupby('confederation').mean().reset_index().sort_values(by='total_points')\n",
    "traces = go.Bar(\n",
    "            x = by_confederation['confederation'],\n",
    "            y = by_confederation['total_points'],\n",
    "            text = by_confederation['confederation'])\n",
    "data = [traces]\n",
    "layout = go.Layout()\n",
    "fig = go.Figure(data = data, layout = layout)\n",
    "print(\"Averaged FIFA Points Group By Confederation\")\n",
    "iplot(fig)"
   ]
  },
  {
   "cell_type": "code",
   "execution_count": 21,
   "metadata": {},
   "outputs": [
    {
     "data": {
      "text/html": [
       "<div>\n",
       "<style scoped>\n",
       "    .dataframe tbody tr th:only-of-type {\n",
       "        vertical-align: middle;\n",
       "    }\n",
       "\n",
       "    .dataframe tbody tr th {\n",
       "        vertical-align: top;\n",
       "    }\n",
       "\n",
       "    .dataframe thead th {\n",
       "        text-align: right;\n",
       "    }\n",
       "</style>\n",
       "<table border=\"1\" class=\"dataframe\">\n",
       "  <thead>\n",
       "    <tr style=\"text-align: right;\">\n",
       "      <th></th>\n",
       "      <th>rank_date</th>\n",
       "      <th>rank</th>\n",
       "      <th>country_abrv</th>\n",
       "      <th>total_points</th>\n",
       "      <th>confederation</th>\n",
       "    </tr>\n",
       "    <tr>\n",
       "      <th>country_full</th>\n",
       "      <th></th>\n",
       "      <th></th>\n",
       "      <th></th>\n",
       "      <th></th>\n",
       "      <th></th>\n",
       "    </tr>\n",
       "  </thead>\n",
       "  <tbody>\n",
       "    <tr>\n",
       "      <th>Argentina</th>\n",
       "      <td>2022-10-06</td>\n",
       "      <td>3.0</td>\n",
       "      <td>ARG</td>\n",
       "      <td>1773.88</td>\n",
       "      <td>CONMEBOL</td>\n",
       "    </tr>\n",
       "    <tr>\n",
       "      <th>Australia</th>\n",
       "      <td>2022-10-06</td>\n",
       "      <td>38.0</td>\n",
       "      <td>AUS</td>\n",
       "      <td>1488.72</td>\n",
       "      <td>AFC</td>\n",
       "    </tr>\n",
       "    <tr>\n",
       "      <th>Belgium</th>\n",
       "      <td>2022-10-06</td>\n",
       "      <td>2.0</td>\n",
       "      <td>BEL</td>\n",
       "      <td>1816.71</td>\n",
       "      <td>UEFA</td>\n",
       "    </tr>\n",
       "    <tr>\n",
       "      <th>Brazil</th>\n",
       "      <td>2022-10-06</td>\n",
       "      <td>1.0</td>\n",
       "      <td>BRA</td>\n",
       "      <td>1841.30</td>\n",
       "      <td>CONMEBOL</td>\n",
       "    </tr>\n",
       "    <tr>\n",
       "      <th>Cameroon</th>\n",
       "      <td>2022-10-06</td>\n",
       "      <td>43.0</td>\n",
       "      <td>CMR</td>\n",
       "      <td>1471.44</td>\n",
       "      <td>CAF</td>\n",
       "    </tr>\n",
       "    <tr>\n",
       "      <th>Canada</th>\n",
       "      <td>2022-10-06</td>\n",
       "      <td>41.0</td>\n",
       "      <td>CAN</td>\n",
       "      <td>1475.00</td>\n",
       "      <td>CONCACAF</td>\n",
       "    </tr>\n",
       "    <tr>\n",
       "      <th>Costa Rica</th>\n",
       "      <td>2022-10-06</td>\n",
       "      <td>31.0</td>\n",
       "      <td>CRC</td>\n",
       "      <td>1503.59</td>\n",
       "      <td>CONCACAF</td>\n",
       "    </tr>\n",
       "    <tr>\n",
       "      <th>Croatia</th>\n",
       "      <td>2022-10-06</td>\n",
       "      <td>12.0</td>\n",
       "      <td>CRO</td>\n",
       "      <td>1645.64</td>\n",
       "      <td>UEFA</td>\n",
       "    </tr>\n",
       "    <tr>\n",
       "      <th>Denmark</th>\n",
       "      <td>2022-10-06</td>\n",
       "      <td>10.0</td>\n",
       "      <td>DEN</td>\n",
       "      <td>1666.57</td>\n",
       "      <td>UEFA</td>\n",
       "    </tr>\n",
       "    <tr>\n",
       "      <th>Ecuador</th>\n",
       "      <td>2022-10-06</td>\n",
       "      <td>44.0</td>\n",
       "      <td>ECU</td>\n",
       "      <td>1464.39</td>\n",
       "      <td>CONMEBOL</td>\n",
       "    </tr>\n",
       "    <tr>\n",
       "      <th>England</th>\n",
       "      <td>2022-10-06</td>\n",
       "      <td>5.0</td>\n",
       "      <td>ENG</td>\n",
       "      <td>1728.47</td>\n",
       "      <td>UEFA</td>\n",
       "    </tr>\n",
       "    <tr>\n",
       "      <th>France</th>\n",
       "      <td>2022-10-06</td>\n",
       "      <td>4.0</td>\n",
       "      <td>FRA</td>\n",
       "      <td>1759.78</td>\n",
       "      <td>UEFA</td>\n",
       "    </tr>\n",
       "    <tr>\n",
       "      <th>Germany</th>\n",
       "      <td>2022-10-06</td>\n",
       "      <td>11.0</td>\n",
       "      <td>GER</td>\n",
       "      <td>1650.21</td>\n",
       "      <td>UEFA</td>\n",
       "    </tr>\n",
       "    <tr>\n",
       "      <th>Ghana</th>\n",
       "      <td>2022-10-06</td>\n",
       "      <td>61.0</td>\n",
       "      <td>GHA</td>\n",
       "      <td>1393.00</td>\n",
       "      <td>CAF</td>\n",
       "    </tr>\n",
       "    <tr>\n",
       "      <th>Iran</th>\n",
       "      <td>2022-10-06</td>\n",
       "      <td>20.0</td>\n",
       "      <td>IRN</td>\n",
       "      <td>1564.61</td>\n",
       "      <td>AFC</td>\n",
       "    </tr>\n",
       "    <tr>\n",
       "      <th>Japan</th>\n",
       "      <td>2022-10-06</td>\n",
       "      <td>24.0</td>\n",
       "      <td>JPN</td>\n",
       "      <td>1559.54</td>\n",
       "      <td>AFC</td>\n",
       "    </tr>\n",
       "    <tr>\n",
       "      <th>Mexico</th>\n",
       "      <td>2022-10-06</td>\n",
       "      <td>13.0</td>\n",
       "      <td>MEX</td>\n",
       "      <td>1644.89</td>\n",
       "      <td>CONCACAF</td>\n",
       "    </tr>\n",
       "    <tr>\n",
       "      <th>Morocco</th>\n",
       "      <td>2022-10-06</td>\n",
       "      <td>22.0</td>\n",
       "      <td>MAR</td>\n",
       "      <td>1563.50</td>\n",
       "      <td>CAF</td>\n",
       "    </tr>\n",
       "    <tr>\n",
       "      <th>Netherlands</th>\n",
       "      <td>2022-10-06</td>\n",
       "      <td>8.0</td>\n",
       "      <td>NED</td>\n",
       "      <td>1694.51</td>\n",
       "      <td>UEFA</td>\n",
       "    </tr>\n",
       "    <tr>\n",
       "      <th>Poland</th>\n",
       "      <td>2022-10-06</td>\n",
       "      <td>26.0</td>\n",
       "      <td>POL</td>\n",
       "      <td>1548.59</td>\n",
       "      <td>UEFA</td>\n",
       "    </tr>\n",
       "    <tr>\n",
       "      <th>Portugal</th>\n",
       "      <td>2022-10-06</td>\n",
       "      <td>9.0</td>\n",
       "      <td>POR</td>\n",
       "      <td>1676.56</td>\n",
       "      <td>UEFA</td>\n",
       "    </tr>\n",
       "    <tr>\n",
       "      <th>Qatar</th>\n",
       "      <td>2022-10-06</td>\n",
       "      <td>50.0</td>\n",
       "      <td>QAT</td>\n",
       "      <td>1439.89</td>\n",
       "      <td>AFC</td>\n",
       "    </tr>\n",
       "    <tr>\n",
       "      <th>Saudi Arabia</th>\n",
       "      <td>2022-10-06</td>\n",
       "      <td>51.0</td>\n",
       "      <td>KSA</td>\n",
       "      <td>1437.78</td>\n",
       "      <td>AFC</td>\n",
       "    </tr>\n",
       "    <tr>\n",
       "      <th>Senegal</th>\n",
       "      <td>2022-10-06</td>\n",
       "      <td>18.0</td>\n",
       "      <td>SEN</td>\n",
       "      <td>1584.38</td>\n",
       "      <td>CAF</td>\n",
       "    </tr>\n",
       "    <tr>\n",
       "      <th>Serbia</th>\n",
       "      <td>2022-10-06</td>\n",
       "      <td>21.0</td>\n",
       "      <td>SRB</td>\n",
       "      <td>1563.62</td>\n",
       "      <td>UEFA</td>\n",
       "    </tr>\n",
       "    <tr>\n",
       "      <th>South Korea</th>\n",
       "      <td>2022-10-06</td>\n",
       "      <td>28.0</td>\n",
       "      <td>KOR</td>\n",
       "      <td>1530.30</td>\n",
       "      <td>AFC</td>\n",
       "    </tr>\n",
       "    <tr>\n",
       "      <th>Spain</th>\n",
       "      <td>2022-10-06</td>\n",
       "      <td>7.0</td>\n",
       "      <td>ESP</td>\n",
       "      <td>1715.22</td>\n",
       "      <td>UEFA</td>\n",
       "    </tr>\n",
       "    <tr>\n",
       "      <th>Switzerland</th>\n",
       "      <td>2022-10-06</td>\n",
       "      <td>15.0</td>\n",
       "      <td>SUI</td>\n",
       "      <td>1635.92</td>\n",
       "      <td>UEFA</td>\n",
       "    </tr>\n",
       "    <tr>\n",
       "      <th>Tunisia</th>\n",
       "      <td>2022-10-06</td>\n",
       "      <td>30.0</td>\n",
       "      <td>TUN</td>\n",
       "      <td>1507.54</td>\n",
       "      <td>CAF</td>\n",
       "    </tr>\n",
       "    <tr>\n",
       "      <th>United States</th>\n",
       "      <td>2022-10-06</td>\n",
       "      <td>16.0</td>\n",
       "      <td>USA</td>\n",
       "      <td>1627.48</td>\n",
       "      <td>CONCACAF</td>\n",
       "    </tr>\n",
       "    <tr>\n",
       "      <th>Uruguay</th>\n",
       "      <td>2022-10-06</td>\n",
       "      <td>14.0</td>\n",
       "      <td>URU</td>\n",
       "      <td>1638.71</td>\n",
       "      <td>CONMEBOL</td>\n",
       "    </tr>\n",
       "    <tr>\n",
       "      <th>Wales</th>\n",
       "      <td>2022-10-06</td>\n",
       "      <td>19.0</td>\n",
       "      <td>WAL</td>\n",
       "      <td>1569.82</td>\n",
       "      <td>UEFA</td>\n",
       "    </tr>\n",
       "  </tbody>\n",
       "</table>\n",
       "</div>"
      ],
      "text/plain": [
       "               rank_date  rank country_abrv  total_points confederation\n",
       "country_full                                                           \n",
       "Argentina     2022-10-06   3.0          ARG       1773.88      CONMEBOL\n",
       "Australia     2022-10-06  38.0          AUS       1488.72           AFC\n",
       "Belgium       2022-10-06   2.0          BEL       1816.71          UEFA\n",
       "Brazil        2022-10-06   1.0          BRA       1841.30      CONMEBOL\n",
       "Cameroon      2022-10-06  43.0          CMR       1471.44           CAF\n",
       "Canada        2022-10-06  41.0          CAN       1475.00      CONCACAF\n",
       "Costa Rica    2022-10-06  31.0          CRC       1503.59      CONCACAF\n",
       "Croatia       2022-10-06  12.0          CRO       1645.64          UEFA\n",
       "Denmark       2022-10-06  10.0          DEN       1666.57          UEFA\n",
       "Ecuador       2022-10-06  44.0          ECU       1464.39      CONMEBOL\n",
       "England       2022-10-06   5.0          ENG       1728.47          UEFA\n",
       "France        2022-10-06   4.0          FRA       1759.78          UEFA\n",
       "Germany       2022-10-06  11.0          GER       1650.21          UEFA\n",
       "Ghana         2022-10-06  61.0          GHA       1393.00           CAF\n",
       "Iran          2022-10-06  20.0          IRN       1564.61           AFC\n",
       "Japan         2022-10-06  24.0          JPN       1559.54           AFC\n",
       "Mexico        2022-10-06  13.0          MEX       1644.89      CONCACAF\n",
       "Morocco       2022-10-06  22.0          MAR       1563.50           CAF\n",
       "Netherlands   2022-10-06   8.0          NED       1694.51          UEFA\n",
       "Poland        2022-10-06  26.0          POL       1548.59          UEFA\n",
       "Portugal      2022-10-06   9.0          POR       1676.56          UEFA\n",
       "Qatar         2022-10-06  50.0          QAT       1439.89           AFC\n",
       "Saudi Arabia  2022-10-06  51.0          KSA       1437.78           AFC\n",
       "Senegal       2022-10-06  18.0          SEN       1584.38           CAF\n",
       "Serbia        2022-10-06  21.0          SRB       1563.62          UEFA\n",
       "South Korea   2022-10-06  28.0          KOR       1530.30           AFC\n",
       "Spain         2022-10-06   7.0          ESP       1715.22          UEFA\n",
       "Switzerland   2022-10-06  15.0          SUI       1635.92          UEFA\n",
       "Tunisia       2022-10-06  30.0          TUN       1507.54           CAF\n",
       "United States 2022-10-06  16.0          USA       1627.48      CONCACAF\n",
       "Uruguay       2022-10-06  14.0          URU       1638.71      CONMEBOL\n",
       "Wales         2022-10-06  19.0          WAL       1569.82          UEFA"
      ]
     },
     "execution_count": 21,
     "metadata": {},
     "output_type": "execute_result"
    }
   ],
   "source": [
    "world_cup_rankings = historical_rankings.loc[(historical_rankings['rank_date'] == historical_rankings['rank_date'].max()) & \n",
    "                                    historical_rankings['country_full'].isin(world_cup.index.unique())]\n",
    "world_cup_rankings = world_cup_rankings.set_index(['country_full'])\n",
    "world_cup_rankings\n"
   ]
  },
  {
   "cell_type": "code",
   "execution_count": 22,
   "metadata": {},
   "outputs": [
    {
     "name": "stdout",
     "output_type": "stream",
     "text": [
      "Group Competitiveness\n"
     ]
    },
    {
     "data": {
      "text/html": [
       "<div>\n",
       "<style scoped>\n",
       "    .dataframe tbody tr th:only-of-type {\n",
       "        vertical-align: middle;\n",
       "    }\n",
       "\n",
       "    .dataframe tbody tr th {\n",
       "        vertical-align: top;\n",
       "    }\n",
       "\n",
       "    .dataframe thead th {\n",
       "        text-align: right;\n",
       "    }\n",
       "</style>\n",
       "<table border=\"1\" class=\"dataframe\">\n",
       "  <thead>\n",
       "    <tr style=\"text-align: right;\">\n",
       "      <th></th>\n",
       "      <th>rank</th>\n",
       "      <th>total_points</th>\n",
       "      <th>elo_ratings</th>\n",
       "      <th>total</th>\n",
       "    </tr>\n",
       "    <tr>\n",
       "      <th>Group</th>\n",
       "      <th></th>\n",
       "      <th></th>\n",
       "      <th></th>\n",
       "      <th></th>\n",
       "    </tr>\n",
       "  </thead>\n",
       "  <tbody>\n",
       "    <tr>\n",
       "      <th>B</th>\n",
       "      <td>6.879922</td>\n",
       "      <td>76.115788</td>\n",
       "      <td>67.204311</td>\n",
       "      <td>0.887082</td>\n",
       "    </tr>\n",
       "    <tr>\n",
       "      <th>E</th>\n",
       "      <td>11.176612</td>\n",
       "      <td>94.029559</td>\n",
       "      <td>102.208234</td>\n",
       "      <td>1.210958</td>\n",
       "    </tr>\n",
       "    <tr>\n",
       "      <th>A</th>\n",
       "      <td>20.199010</td>\n",
       "      <td>117.540910</td>\n",
       "      <td>102.522929</td>\n",
       "      <td>1.362329</td>\n",
       "    </tr>\n",
       "    <tr>\n",
       "      <th>F</th>\n",
       "      <td>16.640813</td>\n",
       "      <td>145.442776</td>\n",
       "      <td>79.440311</td>\n",
       "      <td>1.401258</td>\n",
       "    </tr>\n",
       "    <tr>\n",
       "      <th>D</th>\n",
       "      <td>16.114176</td>\n",
       "      <td>130.083948</td>\n",
       "      <td>102.941728</td>\n",
       "      <td>1.444588</td>\n",
       "    </tr>\n",
       "    <tr>\n",
       "      <th>H</th>\n",
       "      <td>23.423635</td>\n",
       "      <td>127.216451</td>\n",
       "      <td>123.805096</td>\n",
       "      <td>1.551513</td>\n",
       "    </tr>\n",
       "    <tr>\n",
       "      <th>C</th>\n",
       "      <td>20.758532</td>\n",
       "      <td>142.829827</td>\n",
       "      <td>138.412560</td>\n",
       "      <td>1.738408</td>\n",
       "    </tr>\n",
       "    <tr>\n",
       "      <th>G</th>\n",
       "      <td>17.473790</td>\n",
       "      <td>157.284683</td>\n",
       "      <td>166.699706</td>\n",
       "      <td>2.000000</td>\n",
       "    </tr>\n",
       "  </tbody>\n",
       "</table>\n",
       "</div>"
      ],
      "text/plain": [
       "            rank  total_points  elo_ratings     total\n",
       "Group                                                \n",
       "B       6.879922     76.115788    67.204311  0.887082\n",
       "E      11.176612     94.029559   102.208234  1.210958\n",
       "A      20.199010    117.540910   102.522929  1.362329\n",
       "F      16.640813    145.442776    79.440311  1.401258\n",
       "D      16.114176    130.083948   102.941728  1.444588\n",
       "H      23.423635    127.216451   123.805096  1.551513\n",
       "C      20.758532    142.829827   138.412560  1.738408\n",
       "G      17.473790    157.284683   166.699706  2.000000"
      ]
     },
     "execution_count": 22,
     "metadata": {},
     "output_type": "execute_result"
    }
   ],
   "source": [
    "world_cup_elo = teams_df.loc[teams_df.index.isin(world_cup.index)].sort_values(by=['team'])\n",
    "world_cup_rankings['elo_ratings'] = world_cup_elo.loc[:,['elo']] \n",
    "world_cup_rankings = world_cup_rankings.merge(world_cup.loc[:,['Group']], left_index=True, right_index=True)\n",
    "world_cup_rankings.sort_values(by=['Group','elo_ratings'],ascending=False)[['Group', 'elo_ratings']]\n",
    "by_group = world_cup_rankings.groupby('Group').std()\n",
    "by_group['total'] = (by_group['total_points'] / by_group['total_points'].max()) + (by_group['elo_ratings'] / by_group['elo_ratings'].max())\n",
    "print(\"Group Competitiveness\")\n",
    "by_group.sort_values(by='total')"
   ]
  },
  {
   "cell_type": "markdown",
   "metadata": {},
   "source": [
    "* We can measure the competitiveness by calculating the standard deviation of the scaled parameter(rank_average, total_points_average, and elo_ratings_average) in each group \n",
    "Group with smaller deviation should be more competitive than the other"
   ]
  },
  {
   "cell_type": "code",
   "execution_count": null,
   "metadata": {},
   "outputs": [],
   "source": []
  },
  {
   "cell_type": "code",
   "execution_count": 23,
   "metadata": {},
   "outputs": [
    {
     "data": {
      "text/html": [
       "<div>\n",
       "<style scoped>\n",
       "    .dataframe tbody tr th:only-of-type {\n",
       "        vertical-align: middle;\n",
       "    }\n",
       "\n",
       "    .dataframe tbody tr th {\n",
       "        vertical-align: top;\n",
       "    }\n",
       "\n",
       "    .dataframe thead th {\n",
       "        text-align: right;\n",
       "    }\n",
       "</style>\n",
       "<table border=\"1\" class=\"dataframe\">\n",
       "  <thead>\n",
       "    <tr style=\"text-align: right;\">\n",
       "      <th></th>\n",
       "      <th>date</th>\n",
       "      <th>home_team</th>\n",
       "      <th>away_team</th>\n",
       "      <th>home_score</th>\n",
       "      <th>away_score</th>\n",
       "      <th>tournament</th>\n",
       "      <th>city</th>\n",
       "      <th>country</th>\n",
       "      <th>neutral</th>\n",
       "      <th>score_diff</th>\n",
       "      <th>result</th>\n",
       "      <th>home_elo</th>\n",
       "      <th>away_elo</th>\n",
       "    </tr>\n",
       "  </thead>\n",
       "  <tbody>\n",
       "    <tr>\n",
       "      <th>0</th>\n",
       "      <td>1872-11-30</td>\n",
       "      <td>Scotland</td>\n",
       "      <td>England</td>\n",
       "      <td>0</td>\n",
       "      <td>0</td>\n",
       "      <td>Friendly</td>\n",
       "      <td>Glasgow</td>\n",
       "      <td>Scotland</td>\n",
       "      <td>False</td>\n",
       "      <td>0</td>\n",
       "      <td>0.5</td>\n",
       "      <td>1500.000000</td>\n",
       "      <td>1500.000000</td>\n",
       "    </tr>\n",
       "    <tr>\n",
       "      <th>1</th>\n",
       "      <td>1873-03-08</td>\n",
       "      <td>England</td>\n",
       "      <td>Scotland</td>\n",
       "      <td>4</td>\n",
       "      <td>2</td>\n",
       "      <td>Friendly</td>\n",
       "      <td>London</td>\n",
       "      <td>England</td>\n",
       "      <td>False</td>\n",
       "      <td>2</td>\n",
       "      <td>1.0</td>\n",
       "      <td>1515.000000</td>\n",
       "      <td>1485.000000</td>\n",
       "    </tr>\n",
       "    <tr>\n",
       "      <th>2</th>\n",
       "      <td>1874-03-07</td>\n",
       "      <td>Scotland</td>\n",
       "      <td>England</td>\n",
       "      <td>2</td>\n",
       "      <td>1</td>\n",
       "      <td>Friendly</td>\n",
       "      <td>Glasgow</td>\n",
       "      <td>Scotland</td>\n",
       "      <td>False</td>\n",
       "      <td>1</td>\n",
       "      <td>1.0</td>\n",
       "      <td>1501.291995</td>\n",
       "      <td>1498.708005</td>\n",
       "    </tr>\n",
       "    <tr>\n",
       "      <th>3</th>\n",
       "      <td>1875-03-06</td>\n",
       "      <td>England</td>\n",
       "      <td>Scotland</td>\n",
       "      <td>2</td>\n",
       "      <td>2</td>\n",
       "      <td>Friendly</td>\n",
       "      <td>London</td>\n",
       "      <td>England</td>\n",
       "      <td>False</td>\n",
       "      <td>0</td>\n",
       "      <td>0.5</td>\n",
       "      <td>1498.819563</td>\n",
       "      <td>1501.180437</td>\n",
       "    </tr>\n",
       "    <tr>\n",
       "      <th>4</th>\n",
       "      <td>1876-03-04</td>\n",
       "      <td>Scotland</td>\n",
       "      <td>England</td>\n",
       "      <td>3</td>\n",
       "      <td>0</td>\n",
       "      <td>Friendly</td>\n",
       "      <td>Glasgow</td>\n",
       "      <td>Scotland</td>\n",
       "      <td>False</td>\n",
       "      <td>3</td>\n",
       "      <td>1.0</td>\n",
       "      <td>1516.078511</td>\n",
       "      <td>1483.921489</td>\n",
       "    </tr>\n",
       "    <tr>\n",
       "      <th>...</th>\n",
       "      <td>...</td>\n",
       "      <td>...</td>\n",
       "      <td>...</td>\n",
       "      <td>...</td>\n",
       "      <td>...</td>\n",
       "      <td>...</td>\n",
       "      <td>...</td>\n",
       "      <td>...</td>\n",
       "      <td>...</td>\n",
       "      <td>...</td>\n",
       "      <td>...</td>\n",
       "      <td>...</td>\n",
       "      <td>...</td>\n",
       "    </tr>\n",
       "    <tr>\n",
       "      <th>44153</th>\n",
       "      <td>2022-11-20</td>\n",
       "      <td>Slovenia</td>\n",
       "      <td>Montenegro</td>\n",
       "      <td>1</td>\n",
       "      <td>0</td>\n",
       "      <td>Friendly</td>\n",
       "      <td>Ljubljana</td>\n",
       "      <td>Slovenia</td>\n",
       "      <td>False</td>\n",
       "      <td>1</td>\n",
       "      <td>1.0</td>\n",
       "      <td>1668.796534</td>\n",
       "      <td>1553.900260</td>\n",
       "    </tr>\n",
       "    <tr>\n",
       "      <th>44154</th>\n",
       "      <td>2022-11-20</td>\n",
       "      <td>South Africa</td>\n",
       "      <td>Angola</td>\n",
       "      <td>1</td>\n",
       "      <td>1</td>\n",
       "      <td>Friendly</td>\n",
       "      <td>Mbombela</td>\n",
       "      <td>South Africa</td>\n",
       "      <td>False</td>\n",
       "      <td>0</td>\n",
       "      <td>0.5</td>\n",
       "      <td>1618.267375</td>\n",
       "      <td>1511.069532</td>\n",
       "    </tr>\n",
       "    <tr>\n",
       "      <th>44155</th>\n",
       "      <td>2022-11-20</td>\n",
       "      <td>Saint Lucia</td>\n",
       "      <td>San Marino</td>\n",
       "      <td>1</td>\n",
       "      <td>0</td>\n",
       "      <td>Friendly</td>\n",
       "      <td>Gros Islet</td>\n",
       "      <td>Saint Lucia</td>\n",
       "      <td>False</td>\n",
       "      <td>1</td>\n",
       "      <td>1.0</td>\n",
       "      <td>1321.147586</td>\n",
       "      <td>1005.532763</td>\n",
       "    </tr>\n",
       "    <tr>\n",
       "      <th>44156</th>\n",
       "      <td>2022-11-20</td>\n",
       "      <td>Syria</td>\n",
       "      <td>Venezuela</td>\n",
       "      <td>1</td>\n",
       "      <td>2</td>\n",
       "      <td>Friendly</td>\n",
       "      <td>Dubai</td>\n",
       "      <td>United Arab Emirates</td>\n",
       "      <td>True</td>\n",
       "      <td>1</td>\n",
       "      <td>0.0</td>\n",
       "      <td>1499.389849</td>\n",
       "      <td>1681.219568</td>\n",
       "    </tr>\n",
       "    <tr>\n",
       "      <th>44157</th>\n",
       "      <td>2022-11-20</td>\n",
       "      <td>Uzbekistan</td>\n",
       "      <td>Russia</td>\n",
       "      <td>0</td>\n",
       "      <td>0</td>\n",
       "      <td>Friendly</td>\n",
       "      <td>Tashkent</td>\n",
       "      <td>Uzbekistan</td>\n",
       "      <td>False</td>\n",
       "      <td>0</td>\n",
       "      <td>0.5</td>\n",
       "      <td>1654.025979</td>\n",
       "      <td>1739.365347</td>\n",
       "    </tr>\n",
       "  </tbody>\n",
       "</table>\n",
       "<p>44158 rows × 13 columns</p>\n",
       "</div>"
      ],
      "text/plain": [
       "            date     home_team   away_team  home_score  away_score tournament  \\\n",
       "0     1872-11-30      Scotland     England           0           0   Friendly   \n",
       "1     1873-03-08       England    Scotland           4           2   Friendly   \n",
       "2     1874-03-07      Scotland     England           2           1   Friendly   \n",
       "3     1875-03-06       England    Scotland           2           2   Friendly   \n",
       "4     1876-03-04      Scotland     England           3           0   Friendly   \n",
       "...          ...           ...         ...         ...         ...        ...   \n",
       "44153 2022-11-20      Slovenia  Montenegro           1           0   Friendly   \n",
       "44154 2022-11-20  South Africa      Angola           1           1   Friendly   \n",
       "44155 2022-11-20   Saint Lucia  San Marino           1           0   Friendly   \n",
       "44156 2022-11-20         Syria   Venezuela           1           2   Friendly   \n",
       "44157 2022-11-20    Uzbekistan      Russia           0           0   Friendly   \n",
       "\n",
       "             city               country  neutral  score_diff  result  \\\n",
       "0         Glasgow              Scotland    False           0     0.5   \n",
       "1          London               England    False           2     1.0   \n",
       "2         Glasgow              Scotland    False           1     1.0   \n",
       "3          London               England    False           0     0.5   \n",
       "4         Glasgow              Scotland    False           3     1.0   \n",
       "...           ...                   ...      ...         ...     ...   \n",
       "44153   Ljubljana              Slovenia    False           1     1.0   \n",
       "44154    Mbombela          South Africa    False           0     0.5   \n",
       "44155  Gros Islet           Saint Lucia    False           1     1.0   \n",
       "44156       Dubai  United Arab Emirates     True           1     0.0   \n",
       "44157    Tashkent            Uzbekistan    False           0     0.5   \n",
       "\n",
       "          home_elo     away_elo  \n",
       "0      1500.000000  1500.000000  \n",
       "1      1515.000000  1485.000000  \n",
       "2      1501.291995  1498.708005  \n",
       "3      1498.819563  1501.180437  \n",
       "4      1516.078511  1483.921489  \n",
       "...            ...          ...  \n",
       "44153  1668.796534  1553.900260  \n",
       "44154  1618.267375  1511.069532  \n",
       "44155  1321.147586  1005.532763  \n",
       "44156  1499.389849  1681.219568  \n",
       "44157  1654.025979  1739.365347  \n",
       "\n",
       "[44158 rows x 13 columns]"
      ]
     },
     "execution_count": 23,
     "metadata": {},
     "output_type": "execute_result"
    }
   ],
   "source": [
    "# Merging historical matches and historical rank\n",
    "historical_matches"
   ]
  },
  {
   "cell_type": "code",
   "execution_count": 24,
   "metadata": {},
   "outputs": [],
   "source": [
    "historical_matches = historical_matches.merge(historical_rankings, \n",
    "                        left_on=['date', 'home_team'], \n",
    "                        right_on=['rank_date', 'country_full'])\n",
    "historical_matches = historical_matches.merge(historical_rankings, \n",
    "                        left_on=['date', 'away_team'], \n",
    "                        right_on=['rank_date', 'country_full'], \n",
    "                        suffixes=('_home', '_away'))\n"
   ]
  },
  {
   "cell_type": "code",
   "execution_count": 25,
   "metadata": {},
   "outputs": [
    {
     "data": {
      "text/html": [
       "<div>\n",
       "<style scoped>\n",
       "    .dataframe tbody tr th:only-of-type {\n",
       "        vertical-align: middle;\n",
       "    }\n",
       "\n",
       "    .dataframe tbody tr th {\n",
       "        vertical-align: top;\n",
       "    }\n",
       "\n",
       "    .dataframe thead th {\n",
       "        text-align: right;\n",
       "    }\n",
       "</style>\n",
       "<table border=\"1\" class=\"dataframe\">\n",
       "  <thead>\n",
       "    <tr style=\"text-align: right;\">\n",
       "      <th></th>\n",
       "      <th>date</th>\n",
       "      <th>home_team</th>\n",
       "      <th>away_team</th>\n",
       "      <th>home_score</th>\n",
       "      <th>away_score</th>\n",
       "      <th>tournament</th>\n",
       "      <th>city</th>\n",
       "      <th>country</th>\n",
       "      <th>neutral</th>\n",
       "      <th>score_diff</th>\n",
       "      <th>...</th>\n",
       "      <th>country_full_home</th>\n",
       "      <th>country_abrv_home</th>\n",
       "      <th>total_points_home</th>\n",
       "      <th>confederation_home</th>\n",
       "      <th>rank_date_away</th>\n",
       "      <th>rank_away</th>\n",
       "      <th>country_full_away</th>\n",
       "      <th>country_abrv_away</th>\n",
       "      <th>total_points_away</th>\n",
       "      <th>confederation_away</th>\n",
       "    </tr>\n",
       "  </thead>\n",
       "  <tbody>\n",
       "    <tr>\n",
       "      <th>0</th>\n",
       "      <td>2000-02-03</td>\n",
       "      <td>Scotland</td>\n",
       "      <td>Wales</td>\n",
       "      <td>5</td>\n",
       "      <td>2</td>\n",
       "      <td>British Home Championship</td>\n",
       "      <td>Aberdeen</td>\n",
       "      <td>Scotland</td>\n",
       "      <td>False</td>\n",
       "      <td>3</td>\n",
       "      <td>...</td>\n",
       "      <td>Scotland</td>\n",
       "      <td>SCO</td>\n",
       "      <td>638.00</td>\n",
       "      <td>UEFA</td>\n",
       "      <td>2000-02-03</td>\n",
       "      <td>98.0</td>\n",
       "      <td>Wales</td>\n",
       "      <td>WAL</td>\n",
       "      <td>389.00</td>\n",
       "      <td>UEFA</td>\n",
       "    </tr>\n",
       "    <tr>\n",
       "      <th>1</th>\n",
       "      <td>2000-02-24</td>\n",
       "      <td>Wales</td>\n",
       "      <td>Northern Ireland</td>\n",
       "      <td>2</td>\n",
       "      <td>0</td>\n",
       "      <td>British Home Championship</td>\n",
       "      <td>Llandudno</td>\n",
       "      <td>Wales</td>\n",
       "      <td>False</td>\n",
       "      <td>2</td>\n",
       "      <td>...</td>\n",
       "      <td>Wales</td>\n",
       "      <td>WAL</td>\n",
       "      <td>388.00</td>\n",
       "      <td>UEFA</td>\n",
       "      <td>2000-02-24</td>\n",
       "      <td>88.0</td>\n",
       "      <td>Northern Ireland</td>\n",
       "      <td>NIR</td>\n",
       "      <td>425.00</td>\n",
       "      <td>UEFA</td>\n",
       "    </tr>\n",
       "    <tr>\n",
       "      <th>2</th>\n",
       "      <td>2000-03-03</td>\n",
       "      <td>Northern Ireland</td>\n",
       "      <td>Scotland</td>\n",
       "      <td>0</td>\n",
       "      <td>3</td>\n",
       "      <td>British Home Championship</td>\n",
       "      <td>Belfast</td>\n",
       "      <td>Ireland</td>\n",
       "      <td>False</td>\n",
       "      <td>3</td>\n",
       "      <td>...</td>\n",
       "      <td>Northern Ireland</td>\n",
       "      <td>NIR</td>\n",
       "      <td>425.00</td>\n",
       "      <td>UEFA</td>\n",
       "      <td>2000-03-03</td>\n",
       "      <td>20.0</td>\n",
       "      <td>Scotland</td>\n",
       "      <td>SCO</td>\n",
       "      <td>636.00</td>\n",
       "      <td>UEFA</td>\n",
       "    </tr>\n",
       "    <tr>\n",
       "      <th>3</th>\n",
       "      <td>2000-03-17</td>\n",
       "      <td>Northern Ireland</td>\n",
       "      <td>England</td>\n",
       "      <td>0</td>\n",
       "      <td>2</td>\n",
       "      <td>British Home Championship</td>\n",
       "      <td>Dublin</td>\n",
       "      <td>Ireland</td>\n",
       "      <td>False</td>\n",
       "      <td>2</td>\n",
       "      <td>...</td>\n",
       "      <td>Northern Ireland</td>\n",
       "      <td>NIR</td>\n",
       "      <td>431.00</td>\n",
       "      <td>UEFA</td>\n",
       "      <td>2000-03-17</td>\n",
       "      <td>11.0</td>\n",
       "      <td>England</td>\n",
       "      <td>ENG</td>\n",
       "      <td>693.00</td>\n",
       "      <td>UEFA</td>\n",
       "    </tr>\n",
       "    <tr>\n",
       "      <th>4</th>\n",
       "      <td>2000-03-26</td>\n",
       "      <td>Wales</td>\n",
       "      <td>England</td>\n",
       "      <td>1</td>\n",
       "      <td>1</td>\n",
       "      <td>British Home Championship</td>\n",
       "      <td>Cardiff</td>\n",
       "      <td>Wales</td>\n",
       "      <td>False</td>\n",
       "      <td>0</td>\n",
       "      <td>...</td>\n",
       "      <td>Wales</td>\n",
       "      <td>WAL</td>\n",
       "      <td>399.00</td>\n",
       "      <td>UEFA</td>\n",
       "      <td>2000-03-26</td>\n",
       "      <td>11.0</td>\n",
       "      <td>England</td>\n",
       "      <td>ENG</td>\n",
       "      <td>693.00</td>\n",
       "      <td>UEFA</td>\n",
       "    </tr>\n",
       "    <tr>\n",
       "      <th>...</th>\n",
       "      <td>...</td>\n",
       "      <td>...</td>\n",
       "      <td>...</td>\n",
       "      <td>...</td>\n",
       "      <td>...</td>\n",
       "      <td>...</td>\n",
       "      <td>...</td>\n",
       "      <td>...</td>\n",
       "      <td>...</td>\n",
       "      <td>...</td>\n",
       "      <td>...</td>\n",
       "      <td>...</td>\n",
       "      <td>...</td>\n",
       "      <td>...</td>\n",
       "      <td>...</td>\n",
       "      <td>...</td>\n",
       "      <td>...</td>\n",
       "      <td>...</td>\n",
       "      <td>...</td>\n",
       "      <td>...</td>\n",
       "      <td>...</td>\n",
       "    </tr>\n",
       "    <tr>\n",
       "      <th>23197</th>\n",
       "      <td>2022-09-27</td>\n",
       "      <td>Norway</td>\n",
       "      <td>Serbia</td>\n",
       "      <td>0</td>\n",
       "      <td>2</td>\n",
       "      <td>UEFA Nations League</td>\n",
       "      <td>Oslo</td>\n",
       "      <td>Norway</td>\n",
       "      <td>False</td>\n",
       "      <td>2</td>\n",
       "      <td>...</td>\n",
       "      <td>Norway</td>\n",
       "      <td>NOR</td>\n",
       "      <td>1488.57</td>\n",
       "      <td>UEFA</td>\n",
       "      <td>2022-09-27</td>\n",
       "      <td>25.0</td>\n",
       "      <td>Serbia</td>\n",
       "      <td>SRB</td>\n",
       "      <td>1549.53</td>\n",
       "      <td>UEFA</td>\n",
       "    </tr>\n",
       "    <tr>\n",
       "      <th>23198</th>\n",
       "      <td>2022-09-27</td>\n",
       "      <td>Sweden</td>\n",
       "      <td>Slovenia</td>\n",
       "      <td>1</td>\n",
       "      <td>1</td>\n",
       "      <td>UEFA Nations League</td>\n",
       "      <td>Stockholm</td>\n",
       "      <td>Sweden</td>\n",
       "      <td>False</td>\n",
       "      <td>0</td>\n",
       "      <td>...</td>\n",
       "      <td>Sweden</td>\n",
       "      <td>SWE</td>\n",
       "      <td>1563.44</td>\n",
       "      <td>UEFA</td>\n",
       "      <td>2022-09-27</td>\n",
       "      <td>65.0</td>\n",
       "      <td>Slovenia</td>\n",
       "      <td>SVN</td>\n",
       "      <td>1372.48</td>\n",
       "      <td>UEFA</td>\n",
       "    </tr>\n",
       "    <tr>\n",
       "      <th>23199</th>\n",
       "      <td>2022-09-27</td>\n",
       "      <td>Kosovo</td>\n",
       "      <td>Cyprus</td>\n",
       "      <td>5</td>\n",
       "      <td>1</td>\n",
       "      <td>UEFA Nations League</td>\n",
       "      <td>Pristina</td>\n",
       "      <td>Kosovo</td>\n",
       "      <td>False</td>\n",
       "      <td>4</td>\n",
       "      <td>...</td>\n",
       "      <td>Kosovo</td>\n",
       "      <td>KOS</td>\n",
       "      <td>1183.90</td>\n",
       "      <td>UEFA</td>\n",
       "      <td>2022-09-27</td>\n",
       "      <td>108.0</td>\n",
       "      <td>Cyprus</td>\n",
       "      <td>CYP</td>\n",
       "      <td>1180.52</td>\n",
       "      <td>UEFA</td>\n",
       "    </tr>\n",
       "    <tr>\n",
       "      <th>23200</th>\n",
       "      <td>2022-09-27</td>\n",
       "      <td>Greece</td>\n",
       "      <td>Northern Ireland</td>\n",
       "      <td>3</td>\n",
       "      <td>1</td>\n",
       "      <td>UEFA Nations League</td>\n",
       "      <td>Athens</td>\n",
       "      <td>Greece</td>\n",
       "      <td>False</td>\n",
       "      <td>2</td>\n",
       "      <td>...</td>\n",
       "      <td>Greece</td>\n",
       "      <td>GRE</td>\n",
       "      <td>1441.45</td>\n",
       "      <td>UEFA</td>\n",
       "      <td>2022-09-27</td>\n",
       "      <td>58.0</td>\n",
       "      <td>Northern Ireland</td>\n",
       "      <td>NIR</td>\n",
       "      <td>1399.10</td>\n",
       "      <td>UEFA</td>\n",
       "    </tr>\n",
       "    <tr>\n",
       "      <th>23201</th>\n",
       "      <td>2022-09-30</td>\n",
       "      <td>Fiji</td>\n",
       "      <td>Solomon Islands</td>\n",
       "      <td>1</td>\n",
       "      <td>0</td>\n",
       "      <td>MSG Prime Minister's Cup</td>\n",
       "      <td>Luganville</td>\n",
       "      <td>Vanuatu</td>\n",
       "      <td>True</td>\n",
       "      <td>1</td>\n",
       "      <td>...</td>\n",
       "      <td>Fiji</td>\n",
       "      <td>FIJ</td>\n",
       "      <td>993.37</td>\n",
       "      <td>OFC</td>\n",
       "      <td>2022-09-30</td>\n",
       "      <td>137.0</td>\n",
       "      <td>Solomon Islands</td>\n",
       "      <td>SOL</td>\n",
       "      <td>1092.56</td>\n",
       "      <td>OFC</td>\n",
       "    </tr>\n",
       "  </tbody>\n",
       "</table>\n",
       "<p>23202 rows × 25 columns</p>\n",
       "</div>"
      ],
      "text/plain": [
       "            date         home_team         away_team  home_score  away_score  \\\n",
       "0     2000-02-03          Scotland             Wales           5           2   \n",
       "1     2000-02-24             Wales  Northern Ireland           2           0   \n",
       "2     2000-03-03  Northern Ireland          Scotland           0           3   \n",
       "3     2000-03-17  Northern Ireland           England           0           2   \n",
       "4     2000-03-26             Wales           England           1           1   \n",
       "...          ...               ...               ...         ...         ...   \n",
       "23197 2022-09-27            Norway            Serbia           0           2   \n",
       "23198 2022-09-27            Sweden          Slovenia           1           1   \n",
       "23199 2022-09-27            Kosovo            Cyprus           5           1   \n",
       "23200 2022-09-27            Greece  Northern Ireland           3           1   \n",
       "23201 2022-09-30              Fiji   Solomon Islands           1           0   \n",
       "\n",
       "                      tournament        city   country  neutral  score_diff  \\\n",
       "0      British Home Championship    Aberdeen  Scotland    False           3   \n",
       "1      British Home Championship   Llandudno     Wales    False           2   \n",
       "2      British Home Championship     Belfast   Ireland    False           3   \n",
       "3      British Home Championship      Dublin   Ireland    False           2   \n",
       "4      British Home Championship     Cardiff     Wales    False           0   \n",
       "...                          ...         ...       ...      ...         ...   \n",
       "23197        UEFA Nations League        Oslo    Norway    False           2   \n",
       "23198        UEFA Nations League   Stockholm    Sweden    False           0   \n",
       "23199        UEFA Nations League    Pristina    Kosovo    False           4   \n",
       "23200        UEFA Nations League      Athens    Greece    False           2   \n",
       "23201   MSG Prime Minister's Cup  Luganville   Vanuatu     True           1   \n",
       "\n",
       "       ...  country_full_home  country_abrv_home  total_points_home  \\\n",
       "0      ...           Scotland                SCO             638.00   \n",
       "1      ...              Wales                WAL             388.00   \n",
       "2      ...   Northern Ireland                NIR             425.00   \n",
       "3      ...   Northern Ireland                NIR             431.00   \n",
       "4      ...              Wales                WAL             399.00   \n",
       "...    ...                ...                ...                ...   \n",
       "23197  ...             Norway                NOR            1488.57   \n",
       "23198  ...             Sweden                SWE            1563.44   \n",
       "23199  ...             Kosovo                KOS            1183.90   \n",
       "23200  ...             Greece                GRE            1441.45   \n",
       "23201  ...               Fiji                FIJ             993.37   \n",
       "\n",
       "      confederation_home  rank_date_away rank_away country_full_away  \\\n",
       "0                   UEFA      2000-02-03      98.0             Wales   \n",
       "1                   UEFA      2000-02-24      88.0  Northern Ireland   \n",
       "2                   UEFA      2000-03-03      20.0          Scotland   \n",
       "3                   UEFA      2000-03-17      11.0           England   \n",
       "4                   UEFA      2000-03-26      11.0           England   \n",
       "...                  ...             ...       ...               ...   \n",
       "23197               UEFA      2022-09-27      25.0            Serbia   \n",
       "23198               UEFA      2022-09-27      65.0          Slovenia   \n",
       "23199               UEFA      2022-09-27     108.0            Cyprus   \n",
       "23200               UEFA      2022-09-27      58.0  Northern Ireland   \n",
       "23201                OFC      2022-09-30     137.0   Solomon Islands   \n",
       "\n",
       "       country_abrv_away total_points_away confederation_away  \n",
       "0                    WAL            389.00               UEFA  \n",
       "1                    NIR            425.00               UEFA  \n",
       "2                    SCO            636.00               UEFA  \n",
       "3                    ENG            693.00               UEFA  \n",
       "4                    ENG            693.00               UEFA  \n",
       "...                  ...               ...                ...  \n",
       "23197                SRB           1549.53               UEFA  \n",
       "23198                SVN           1372.48               UEFA  \n",
       "23199                CYP           1180.52               UEFA  \n",
       "23200                NIR           1399.10               UEFA  \n",
       "23201                SOL           1092.56                OFC  \n",
       "\n",
       "[23202 rows x 25 columns]"
      ]
     },
     "execution_count": 25,
     "metadata": {},
     "output_type": "execute_result"
    }
   ],
   "source": [
    "historical_matches"
   ]
  },
  {
   "cell_type": "code",
   "execution_count": 26,
   "metadata": {},
   "outputs": [],
   "source": [
    "historical_matches['rank_difference'] = historical_matches['rank_home'] - historical_matches['rank_away']\n",
    "historical_matches['average_rank'] = (historical_matches['rank_home'] + historical_matches['rank_away'])/2\n",
    "historical_matches['point_difference'] = historical_matches['total_points_home'] - historical_matches['total_points_away']\n",
    "historical_matches['score_difference'] = historical_matches['home_score'] - historical_matches['away_score']\n",
    "historical_matches['is_won'] = historical_matches['score_difference'] > 0 # take draw as lost\n",
    "historical_matches['is_stake'] = historical_matches['tournament'] != 'Friendly'\n",
    "historical_matches['elo_difference'] = historical_matches['home_elo'] - historical_matches['away_elo']\n",
    "# I tried earlier rest days but it did not turn to be useful\n",
    "max_rest = 30\n",
    "#historical_matches['rest_days'] = historical_matches.groupby('home_team').diff()['date'].dt.days.clip(0,max_rest).fillna(max_rest)\n",
    "\n",
    "# I tried earlier the team as well but that did not make a difference either\n",
    "historical_matches['wc_participant'] = historical_matches['home_team'] * historical_matches['home_team'].isin(world_cup.index.tolist())\n",
    "historical_matches['wc_participant'] = historical_matches['wc_participant'].replace({'':'Other'})\n",
    "historical_matches = historical_matches.join(pd.get_dummies(historical_matches['wc_participant']))"
   ]
  },
  {
   "cell_type": "code",
   "execution_count": 27,
   "metadata": {},
   "outputs": [
    {
     "data": {
      "text/html": [
       "<div>\n",
       "<style scoped>\n",
       "    .dataframe tbody tr th:only-of-type {\n",
       "        vertical-align: middle;\n",
       "    }\n",
       "\n",
       "    .dataframe tbody tr th {\n",
       "        vertical-align: top;\n",
       "    }\n",
       "\n",
       "    .dataframe thead th {\n",
       "        text-align: right;\n",
       "    }\n",
       "</style>\n",
       "<table border=\"1\" class=\"dataframe\">\n",
       "  <thead>\n",
       "    <tr style=\"text-align: right;\">\n",
       "      <th></th>\n",
       "      <th>date</th>\n",
       "      <th>home_team</th>\n",
       "      <th>away_team</th>\n",
       "      <th>home_score</th>\n",
       "      <th>away_score</th>\n",
       "      <th>tournament</th>\n",
       "      <th>city</th>\n",
       "      <th>country</th>\n",
       "      <th>neutral</th>\n",
       "      <th>score_diff</th>\n",
       "      <th>...</th>\n",
       "      <th>Saudi Arabia</th>\n",
       "      <th>Senegal</th>\n",
       "      <th>Serbia</th>\n",
       "      <th>South Korea</th>\n",
       "      <th>Spain</th>\n",
       "      <th>Switzerland</th>\n",
       "      <th>Tunisia</th>\n",
       "      <th>United States</th>\n",
       "      <th>Uruguay</th>\n",
       "      <th>Wales</th>\n",
       "    </tr>\n",
       "  </thead>\n",
       "  <tbody>\n",
       "    <tr>\n",
       "      <th>0</th>\n",
       "      <td>2000-02-03</td>\n",
       "      <td>Scotland</td>\n",
       "      <td>Wales</td>\n",
       "      <td>5</td>\n",
       "      <td>2</td>\n",
       "      <td>British Home Championship</td>\n",
       "      <td>Aberdeen</td>\n",
       "      <td>Scotland</td>\n",
       "      <td>False</td>\n",
       "      <td>3</td>\n",
       "      <td>...</td>\n",
       "      <td>0</td>\n",
       "      <td>0</td>\n",
       "      <td>0</td>\n",
       "      <td>0</td>\n",
       "      <td>0</td>\n",
       "      <td>0</td>\n",
       "      <td>0</td>\n",
       "      <td>0</td>\n",
       "      <td>0</td>\n",
       "      <td>0</td>\n",
       "    </tr>\n",
       "    <tr>\n",
       "      <th>1</th>\n",
       "      <td>2000-02-24</td>\n",
       "      <td>Wales</td>\n",
       "      <td>Northern Ireland</td>\n",
       "      <td>2</td>\n",
       "      <td>0</td>\n",
       "      <td>British Home Championship</td>\n",
       "      <td>Llandudno</td>\n",
       "      <td>Wales</td>\n",
       "      <td>False</td>\n",
       "      <td>2</td>\n",
       "      <td>...</td>\n",
       "      <td>0</td>\n",
       "      <td>0</td>\n",
       "      <td>0</td>\n",
       "      <td>0</td>\n",
       "      <td>0</td>\n",
       "      <td>0</td>\n",
       "      <td>0</td>\n",
       "      <td>0</td>\n",
       "      <td>0</td>\n",
       "      <td>1</td>\n",
       "    </tr>\n",
       "    <tr>\n",
       "      <th>2</th>\n",
       "      <td>2000-03-03</td>\n",
       "      <td>Northern Ireland</td>\n",
       "      <td>Scotland</td>\n",
       "      <td>0</td>\n",
       "      <td>3</td>\n",
       "      <td>British Home Championship</td>\n",
       "      <td>Belfast</td>\n",
       "      <td>Ireland</td>\n",
       "      <td>False</td>\n",
       "      <td>3</td>\n",
       "      <td>...</td>\n",
       "      <td>0</td>\n",
       "      <td>0</td>\n",
       "      <td>0</td>\n",
       "      <td>0</td>\n",
       "      <td>0</td>\n",
       "      <td>0</td>\n",
       "      <td>0</td>\n",
       "      <td>0</td>\n",
       "      <td>0</td>\n",
       "      <td>0</td>\n",
       "    </tr>\n",
       "    <tr>\n",
       "      <th>3</th>\n",
       "      <td>2000-03-17</td>\n",
       "      <td>Northern Ireland</td>\n",
       "      <td>England</td>\n",
       "      <td>0</td>\n",
       "      <td>2</td>\n",
       "      <td>British Home Championship</td>\n",
       "      <td>Dublin</td>\n",
       "      <td>Ireland</td>\n",
       "      <td>False</td>\n",
       "      <td>2</td>\n",
       "      <td>...</td>\n",
       "      <td>0</td>\n",
       "      <td>0</td>\n",
       "      <td>0</td>\n",
       "      <td>0</td>\n",
       "      <td>0</td>\n",
       "      <td>0</td>\n",
       "      <td>0</td>\n",
       "      <td>0</td>\n",
       "      <td>0</td>\n",
       "      <td>0</td>\n",
       "    </tr>\n",
       "    <tr>\n",
       "      <th>4</th>\n",
       "      <td>2000-03-26</td>\n",
       "      <td>Wales</td>\n",
       "      <td>England</td>\n",
       "      <td>1</td>\n",
       "      <td>1</td>\n",
       "      <td>British Home Championship</td>\n",
       "      <td>Cardiff</td>\n",
       "      <td>Wales</td>\n",
       "      <td>False</td>\n",
       "      <td>0</td>\n",
       "      <td>...</td>\n",
       "      <td>0</td>\n",
       "      <td>0</td>\n",
       "      <td>0</td>\n",
       "      <td>0</td>\n",
       "      <td>0</td>\n",
       "      <td>0</td>\n",
       "      <td>0</td>\n",
       "      <td>0</td>\n",
       "      <td>0</td>\n",
       "      <td>1</td>\n",
       "    </tr>\n",
       "    <tr>\n",
       "      <th>...</th>\n",
       "      <td>...</td>\n",
       "      <td>...</td>\n",
       "      <td>...</td>\n",
       "      <td>...</td>\n",
       "      <td>...</td>\n",
       "      <td>...</td>\n",
       "      <td>...</td>\n",
       "      <td>...</td>\n",
       "      <td>...</td>\n",
       "      <td>...</td>\n",
       "      <td>...</td>\n",
       "      <td>...</td>\n",
       "      <td>...</td>\n",
       "      <td>...</td>\n",
       "      <td>...</td>\n",
       "      <td>...</td>\n",
       "      <td>...</td>\n",
       "      <td>...</td>\n",
       "      <td>...</td>\n",
       "      <td>...</td>\n",
       "      <td>...</td>\n",
       "    </tr>\n",
       "    <tr>\n",
       "      <th>23197</th>\n",
       "      <td>2022-09-27</td>\n",
       "      <td>Norway</td>\n",
       "      <td>Serbia</td>\n",
       "      <td>0</td>\n",
       "      <td>2</td>\n",
       "      <td>UEFA Nations League</td>\n",
       "      <td>Oslo</td>\n",
       "      <td>Norway</td>\n",
       "      <td>False</td>\n",
       "      <td>2</td>\n",
       "      <td>...</td>\n",
       "      <td>0</td>\n",
       "      <td>0</td>\n",
       "      <td>0</td>\n",
       "      <td>0</td>\n",
       "      <td>0</td>\n",
       "      <td>0</td>\n",
       "      <td>0</td>\n",
       "      <td>0</td>\n",
       "      <td>0</td>\n",
       "      <td>0</td>\n",
       "    </tr>\n",
       "    <tr>\n",
       "      <th>23198</th>\n",
       "      <td>2022-09-27</td>\n",
       "      <td>Sweden</td>\n",
       "      <td>Slovenia</td>\n",
       "      <td>1</td>\n",
       "      <td>1</td>\n",
       "      <td>UEFA Nations League</td>\n",
       "      <td>Stockholm</td>\n",
       "      <td>Sweden</td>\n",
       "      <td>False</td>\n",
       "      <td>0</td>\n",
       "      <td>...</td>\n",
       "      <td>0</td>\n",
       "      <td>0</td>\n",
       "      <td>0</td>\n",
       "      <td>0</td>\n",
       "      <td>0</td>\n",
       "      <td>0</td>\n",
       "      <td>0</td>\n",
       "      <td>0</td>\n",
       "      <td>0</td>\n",
       "      <td>0</td>\n",
       "    </tr>\n",
       "    <tr>\n",
       "      <th>23199</th>\n",
       "      <td>2022-09-27</td>\n",
       "      <td>Kosovo</td>\n",
       "      <td>Cyprus</td>\n",
       "      <td>5</td>\n",
       "      <td>1</td>\n",
       "      <td>UEFA Nations League</td>\n",
       "      <td>Pristina</td>\n",
       "      <td>Kosovo</td>\n",
       "      <td>False</td>\n",
       "      <td>4</td>\n",
       "      <td>...</td>\n",
       "      <td>0</td>\n",
       "      <td>0</td>\n",
       "      <td>0</td>\n",
       "      <td>0</td>\n",
       "      <td>0</td>\n",
       "      <td>0</td>\n",
       "      <td>0</td>\n",
       "      <td>0</td>\n",
       "      <td>0</td>\n",
       "      <td>0</td>\n",
       "    </tr>\n",
       "    <tr>\n",
       "      <th>23200</th>\n",
       "      <td>2022-09-27</td>\n",
       "      <td>Greece</td>\n",
       "      <td>Northern Ireland</td>\n",
       "      <td>3</td>\n",
       "      <td>1</td>\n",
       "      <td>UEFA Nations League</td>\n",
       "      <td>Athens</td>\n",
       "      <td>Greece</td>\n",
       "      <td>False</td>\n",
       "      <td>2</td>\n",
       "      <td>...</td>\n",
       "      <td>0</td>\n",
       "      <td>0</td>\n",
       "      <td>0</td>\n",
       "      <td>0</td>\n",
       "      <td>0</td>\n",
       "      <td>0</td>\n",
       "      <td>0</td>\n",
       "      <td>0</td>\n",
       "      <td>0</td>\n",
       "      <td>0</td>\n",
       "    </tr>\n",
       "    <tr>\n",
       "      <th>23201</th>\n",
       "      <td>2022-09-30</td>\n",
       "      <td>Fiji</td>\n",
       "      <td>Solomon Islands</td>\n",
       "      <td>1</td>\n",
       "      <td>0</td>\n",
       "      <td>MSG Prime Minister's Cup</td>\n",
       "      <td>Luganville</td>\n",
       "      <td>Vanuatu</td>\n",
       "      <td>True</td>\n",
       "      <td>1</td>\n",
       "      <td>...</td>\n",
       "      <td>0</td>\n",
       "      <td>0</td>\n",
       "      <td>0</td>\n",
       "      <td>0</td>\n",
       "      <td>0</td>\n",
       "      <td>0</td>\n",
       "      <td>0</td>\n",
       "      <td>0</td>\n",
       "      <td>0</td>\n",
       "      <td>0</td>\n",
       "    </tr>\n",
       "  </tbody>\n",
       "</table>\n",
       "<p>23202 rows × 66 columns</p>\n",
       "</div>"
      ],
      "text/plain": [
       "            date         home_team         away_team  home_score  away_score  \\\n",
       "0     2000-02-03          Scotland             Wales           5           2   \n",
       "1     2000-02-24             Wales  Northern Ireland           2           0   \n",
       "2     2000-03-03  Northern Ireland          Scotland           0           3   \n",
       "3     2000-03-17  Northern Ireland           England           0           2   \n",
       "4     2000-03-26             Wales           England           1           1   \n",
       "...          ...               ...               ...         ...         ...   \n",
       "23197 2022-09-27            Norway            Serbia           0           2   \n",
       "23198 2022-09-27            Sweden          Slovenia           1           1   \n",
       "23199 2022-09-27            Kosovo            Cyprus           5           1   \n",
       "23200 2022-09-27            Greece  Northern Ireland           3           1   \n",
       "23201 2022-09-30              Fiji   Solomon Islands           1           0   \n",
       "\n",
       "                      tournament        city   country  neutral  score_diff  \\\n",
       "0      British Home Championship    Aberdeen  Scotland    False           3   \n",
       "1      British Home Championship   Llandudno     Wales    False           2   \n",
       "2      British Home Championship     Belfast   Ireland    False           3   \n",
       "3      British Home Championship      Dublin   Ireland    False           2   \n",
       "4      British Home Championship     Cardiff     Wales    False           0   \n",
       "...                          ...         ...       ...      ...         ...   \n",
       "23197        UEFA Nations League        Oslo    Norway    False           2   \n",
       "23198        UEFA Nations League   Stockholm    Sweden    False           0   \n",
       "23199        UEFA Nations League    Pristina    Kosovo    False           4   \n",
       "23200        UEFA Nations League      Athens    Greece    False           2   \n",
       "23201   MSG Prime Minister's Cup  Luganville   Vanuatu     True           1   \n",
       "\n",
       "       ...  Saudi Arabia  Senegal  Serbia South Korea  Spain Switzerland  \\\n",
       "0      ...             0        0       0           0      0           0   \n",
       "1      ...             0        0       0           0      0           0   \n",
       "2      ...             0        0       0           0      0           0   \n",
       "3      ...             0        0       0           0      0           0   \n",
       "4      ...             0        0       0           0      0           0   \n",
       "...    ...           ...      ...     ...         ...    ...         ...   \n",
       "23197  ...             0        0       0           0      0           0   \n",
       "23198  ...             0        0       0           0      0           0   \n",
       "23199  ...             0        0       0           0      0           0   \n",
       "23200  ...             0        0       0           0      0           0   \n",
       "23201  ...             0        0       0           0      0           0   \n",
       "\n",
       "      Tunisia  United States Uruguay Wales  \n",
       "0           0              0       0     0  \n",
       "1           0              0       0     1  \n",
       "2           0              0       0     0  \n",
       "3           0              0       0     0  \n",
       "4           0              0       0     1  \n",
       "...       ...            ...     ...   ...  \n",
       "23197       0              0       0     0  \n",
       "23198       0              0       0     0  \n",
       "23199       0              0       0     0  \n",
       "23200       0              0       0     0  \n",
       "23201       0              0       0     0  \n",
       "\n",
       "[23202 rows x 66 columns]"
      ]
     },
     "execution_count": 27,
     "metadata": {},
     "output_type": "execute_result"
    }
   ],
   "source": [
    "historical_matches"
   ]
  },
  {
   "cell_type": "code",
   "execution_count": 28,
   "metadata": {},
   "outputs": [],
   "source": [
    "historical_matches.to_excel(\"historical_matches.xlsx\")"
   ]
  },
  {
   "cell_type": "markdown",
   "metadata": {},
   "source": [
    "### Modelling"
   ]
  },
  {
   "cell_type": "code",
   "execution_count": 29,
   "metadata": {},
   "outputs": [
    {
     "name": "stderr",
     "output_type": "stream",
     "text": [
      "/opt/anaconda3/lib/python3.7/site-packages/sklearn/svm/base.py:193: FutureWarning:\n",
      "\n",
      "The default value of gamma will change from 'auto' to 'scale' in version 0.22 to account better for unscaled features. Set gamma explicitly to 'auto' or 'scale' to avoid this warning.\n",
      "\n",
      "/opt/anaconda3/lib/python3.7/site-packages/sklearn/ensemble/forest.py:245: FutureWarning:\n",
      "\n",
      "The default value of n_estimators will change from 10 in version 0.20 to 100 in 0.22.\n",
      "\n",
      "/opt/anaconda3/lib/python3.7/site-packages/sklearn/linear_model/logistic.py:432: FutureWarning:\n",
      "\n",
      "Default solver will be changed to 'lbfgs' in 0.22. Specify a solver to silence this warning.\n",
      "\n"
     ]
    },
    {
     "data": {
      "image/png": "[encoded data removed]",
      "text/plain": [
       "<Figure size 1080x360 with 3 Axes>"
      ]
     },
     "metadata": {
      "needs_background": "light"
     },
     "output_type": "display_data"
    },
    {
     "data": {
      "image/png": "[encoded data removed]",
      "text/plain": [
       "<Figure size 1080x360 with 3 Axes>"
      ]
     },
     "metadata": {
      "needs_background": "light"
     },
     "output_type": "display_data"
    },
    {
     "data": {
      "image/png": "[encoded data removed]",
      "text/plain": [
       "<Figure size 1080x360 with 3 Axes>"
      ]
     },
     "metadata": {
      "needs_background": "light"
     },
     "output_type": "display_data"
    },
    {
     "data": {
      "image/png": "[encoded data removed]",
      "text/plain": [
       "<Figure size 1080x360 with 3 Axes>"
      ]
     },
     "metadata": {
      "needs_background": "light"
     },
     "output_type": "display_data"
    },
    {
     "data": {
      "image/png": "[encoded data removed]",
      "text/plain": [
       "<Figure size 1080x360 with 3 Axes>"
      ]
     },
     "metadata": {
      "needs_background": "light"
     },
     "output_type": "display_data"
    },
    {
     "data": {
      "image/png": "[encoded data removed]",
      "text/plain": [
       "<Figure size 1080x360 with 3 Axes>"
      ]
     },
     "metadata": {
      "needs_background": "light"
     },
     "output_type": "display_data"
    },
    {
     "data": {
      "image/png": "[encoded data removed]",
      "text/plain": [
       "<Figure size 1080x360 with 3 Axes>"
      ]
     },
     "metadata": {
      "needs_background": "light"
     },
     "output_type": "display_data"
    },
    {
     "data": {
      "image/png": "[encoded data removed]",
      "text/plain": [
       "<Figure size 1080x360 with 3 Axes>"
      ]
     },
     "metadata": {
      "needs_background": "light"
     },
     "output_type": "display_data"
    },
    {
     "data": {
      "image/png": "[encoded data removed]",
      "text/plain": [
       "<Figure size 1080x360 with 3 Axes>"
      ]
     },
     "metadata": {
      "needs_background": "light"
     },
     "output_type": "display_data"
    },
    {
     "data": {
      "image/png": "[encoded data removed]",
      "text/plain": [
       "<Figure size 1080x360 with 3 Axes>"
      ]
     },
     "metadata": {
      "needs_background": "light"
     },
     "output_type": "display_data"
    },
    {
     "data": {
      "image/png": "[encoded data removed]",
      "text/plain": [
       "<Figure size 1080x360 with 3 Axes>"
      ]
     },
     "metadata": {
      "needs_background": "light"
     },
     "output_type": "display_data"
    }
   ],
   "source": [
    "from sklearn.metrics import accuracy_score, log_loss,confusion_matrix, roc_curve, roc_auc_score\n",
    "from sklearn.neighbors import KNeighborsClassifier\n",
    "from sklearn.svm import SVC\n",
    "from sklearn.tree import DecisionTreeClassifier\n",
    "from sklearn.ensemble import RandomForestClassifier, AdaBoostClassifier, GradientBoostingClassifier\n",
    "from sklearn.naive_bayes import GaussianNB\n",
    "from sklearn.discriminant_analysis import LinearDiscriminantAnalysis, QuadraticDiscriminantAnalysis\n",
    "from sklearn.linear_model import LogisticRegression\n",
    "from xgboost import XGBClassifier, XGBRegressor\n",
    "#from lightgbm import LGBMRegressor, LGBMClassifier\n",
    "from sklearn import linear_model\n",
    "from sklearn.model_selection import train_test_split\n",
    "from sklearn.pipeline import Pipeline\n",
    "from sklearn.preprocessing import PolynomialFeatures\n",
    "\n",
    "classifiers = [\n",
    "    KNeighborsClassifier(3),\n",
    "    SVC(probability=True),\n",
    "    DecisionTreeClassifier(),\n",
    "    RandomForestClassifier(),\n",
    "    AdaBoostClassifier(),\n",
    "    GradientBoostingClassifier(),\n",
    "    GaussianNB(),\n",
    "    LinearDiscriminantAnalysis(),\n",
    "    QuadraticDiscriminantAnalysis(),\n",
    "    LogisticRegression(),\n",
    "    XGBClassifier(),\n",
    "    #LGBMClassifier(),\n",
    "]\n",
    "\n",
    "X, y = historical_matches.loc[:,['average_rank', 'rank_difference', 'point_difference','elo_difference', 'is_stake']], historical_matches['is_won']\n",
    "X_train, X_test, y_train, y_test = train_test_split(\n",
    "    X, y, test_size=0.2, random_state=42)\n",
    "\n",
    "log_cols = [\"Classifier\", \"Accuracy\"]\n",
    "log = pd.DataFrame(columns=log_cols)\n",
    "\n",
    "acc_dict = {}\n",
    "\n",
    "# Loop to do fit and predictions of each classifier into the dataset\n",
    "for clf in classifiers:\n",
    "    name = clf.__class__.__name__\n",
    "    clf.fit(X_train, y_train)\n",
    "    train_predictions = clf.predict(X_test)\n",
    "    acc = accuracy_score(y_test, train_predictions)\n",
    "    # figures \n",
    "    fpr, tpr, _ = roc_curve(y_test, clf.predict_proba(X_test)[:,1])\n",
    "    plt.figure(figsize=(15,5))\n",
    "    ax = plt.subplot(1,3,1)\n",
    "    ax.plot([0, 1], [0, 1], 'k--')\n",
    "    ax.plot(fpr, tpr)\n",
    "    ax.set_title('AUC score is {0:0.2}'.format(roc_auc_score(y_test, clf.predict_proba(X_test)[:,1])))\n",
    "    ax.set_aspect(1)\n",
    "\n",
    "    ax = plt.subplot(1,3,2)\n",
    "    cm = confusion_matrix(y_test, clf.predict(X_test))\n",
    "    ax.imshow(cm, cmap='Blues', clim = (0, cm.max())) \n",
    "\n",
    "    ax.set_xlabel('Predicted label using ' + name)\n",
    "    ax.set_title('Performance on the Test set')\n",
    "\n",
    "    ax = plt.subplot(1,3,3)\n",
    "    cm = confusion_matrix(y_train, clf.predict(X_train))\n",
    "    ax.imshow(cm, cmap='Blues', clim = (0, cm.max())) \n",
    "    ax.set_xlabel('Predicted label using ' + name)\n",
    "    ax.set_title('Performance on the Training set')\n",
    "    pass\n",
    "    \n",
    "    # Storing each score into a dict\n",
    "    if name in acc_dict:\n",
    "        acc_dict[name] += acc\n",
    "    else:\n",
    "        acc_dict[name] = acc\n",
    "\n",
    "# Storing the results in a DataFrame to be visualized\n",
    "for clf in acc_dict:\n",
    "    acc_dict[clf] = acc_dict[clf] / 10.0\n",
    "    log_entry = pd.DataFrame([[clf, acc_dict[clf]]], columns=log_cols)\n",
    "    log = log.append(log_entry)"
   ]
  },
  {
   "cell_type": "code",
   "execution_count": 30,
   "metadata": {},
   "outputs": [
    {
     "data": {
      "text/plain": [
       "<AxesSubplot:title={'center':'Classifier Accuracy'}, xlabel='Accuracy', ylabel='Classifier'>"
      ]
     },
     "execution_count": 30,
     "metadata": {},
     "output_type": "execute_result"
    },
    {
     "data": {
      "image/png": "[encoded data removed]",
      "text/plain": [
       "<Figure size 432x288 with 1 Axes>"
      ]
     },
     "metadata": {
      "needs_background": "light"
     },
     "output_type": "display_data"
    }
   ],
   "source": [
    "plt.xlabel('Accuracy')\n",
    "plt.title('Classifier Accuracy')\n",
    "\n",
    "sns.set_color_codes(\"muted\")\n",
    "sns.barplot(x='Accuracy', y='Classifier', data=log, color=\"b\")"
   ]
  },
  {
   "cell_type": "code",
   "execution_count": 31,
   "metadata": {},
   "outputs": [
    {
     "data": {
      "text/html": [
       "<div>\n",
       "<style scoped>\n",
       "    .dataframe tbody tr th:only-of-type {\n",
       "        vertical-align: middle;\n",
       "    }\n",
       "\n",
       "    .dataframe tbody tr th {\n",
       "        vertical-align: top;\n",
       "    }\n",
       "\n",
       "    .dataframe thead th {\n",
       "        text-align: right;\n",
       "    }\n",
       "</style>\n",
       "<table border=\"1\" class=\"dataframe\">\n",
       "  <thead>\n",
       "    <tr style=\"text-align: right;\">\n",
       "      <th></th>\n",
       "      <th>Classifier</th>\n",
       "      <th>Accuracy</th>\n",
       "    </tr>\n",
       "  </thead>\n",
       "  <tbody>\n",
       "    <tr>\n",
       "      <th>0</th>\n",
       "      <td>XGBClassifier</td>\n",
       "      <td>0.074790</td>\n",
       "    </tr>\n",
       "    <tr>\n",
       "      <th>0</th>\n",
       "      <td>GradientBoostingClassifier</td>\n",
       "      <td>0.074661</td>\n",
       "    </tr>\n",
       "    <tr>\n",
       "      <th>0</th>\n",
       "      <td>LinearDiscriminantAnalysis</td>\n",
       "      <td>0.074294</td>\n",
       "    </tr>\n",
       "    <tr>\n",
       "      <th>0</th>\n",
       "      <td>LogisticRegression</td>\n",
       "      <td>0.074079</td>\n",
       "    </tr>\n",
       "    <tr>\n",
       "      <th>0</th>\n",
       "      <td>QuadraticDiscriminantAnalysis</td>\n",
       "      <td>0.073993</td>\n",
       "    </tr>\n",
       "    <tr>\n",
       "      <th>0</th>\n",
       "      <td>AdaBoostClassifier</td>\n",
       "      <td>0.073648</td>\n",
       "    </tr>\n",
       "    <tr>\n",
       "      <th>0</th>\n",
       "      <td>RandomForestClassifier</td>\n",
       "      <td>0.070933</td>\n",
       "    </tr>\n",
       "    <tr>\n",
       "      <th>0</th>\n",
       "      <td>KNeighborsClassifier</td>\n",
       "      <td>0.070028</td>\n",
       "    </tr>\n",
       "    <tr>\n",
       "      <th>0</th>\n",
       "      <td>GaussianNB</td>\n",
       "      <td>0.069942</td>\n",
       "    </tr>\n",
       "    <tr>\n",
       "      <th>0</th>\n",
       "      <td>DecisionTreeClassifier</td>\n",
       "      <td>0.066279</td>\n",
       "    </tr>\n",
       "    <tr>\n",
       "      <th>0</th>\n",
       "      <td>SVC</td>\n",
       "      <td>0.051045</td>\n",
       "    </tr>\n",
       "  </tbody>\n",
       "</table>\n",
       "</div>"
      ],
      "text/plain": [
       "                      Classifier  Accuracy\n",
       "0                  XGBClassifier  0.074790\n",
       "0     GradientBoostingClassifier  0.074661\n",
       "0     LinearDiscriminantAnalysis  0.074294\n",
       "0             LogisticRegression  0.074079\n",
       "0  QuadraticDiscriminantAnalysis  0.073993\n",
       "0             AdaBoostClassifier  0.073648\n",
       "0         RandomForestClassifier  0.070933\n",
       "0           KNeighborsClassifier  0.070028\n",
       "0                     GaussianNB  0.069942\n",
       "0         DecisionTreeClassifier  0.066279\n",
       "0                            SVC  0.051045"
      ]
     },
     "execution_count": 31,
     "metadata": {},
     "output_type": "execute_result"
    }
   ],
   "source": [
    "log.sort_values(by=['Accuracy'], ascending=False)"
   ]
  },
  {
   "cell_type": "code",
   "execution_count": 32,
   "metadata": {},
   "outputs": [
    {
     "name": "stderr",
     "output_type": "stream",
     "text": [
      "/opt/anaconda3/lib/python3.7/site-packages/sklearn/linear_model/logistic.py:432: FutureWarning:\n",
      "\n",
      "Default solver will be changed to 'lbfgs' in 0.22. Specify a solver to silence this warning.\n",
      "\n"
     ]
    },
    {
     "data": {
      "text/plain": [
       "XGBClassifier(base_score=0.5, booster='gbtree', callbacks=None,\n",
       "              colsample_bylevel=1, colsample_bynode=1, colsample_bytree=1,\n",
       "              early_stopping_rounds=None, enable_categorical=False,\n",
       "              eval_metric=None, gamma=0, gpu_id=-1, grow_policy='depthwise',\n",
       "              importance_type=None, interaction_constraints='',\n",
       "              learning_rate=0.300000012, max_bin=256, max_cat_to_onehot=4,\n",
       "              max_delta_step=0, max_depth=6, max_leaves=0, min_child_weight=1,\n",
       "              missing=nan, monotone_constraints='()', n_estimators=100,\n",
       "              n_jobs=0, num_parallel_tree=1, objective='binary:logistic',\n",
       "              predictor='auto', random_state=0, reg_alpha=0, ...)"
      ]
     },
     "execution_count": 32,
     "metadata": {},
     "output_type": "execute_result"
    }
   ],
   "source": [
    "gb_model = GradientBoostingClassifier()\n",
    "gb_model.fit(X_train, y_train)\n",
    "#qda_model = QuadraticDiscriminantAnalysis()\n",
    "#qda_model.fit(X_train, y_train)\n",
    "lr_model = LogisticRegression()\n",
    "lr_model.fit(X_train, y_train)\n",
    "xgb_model = XGBClassifier()\n",
    "xgb_model.fit(X_train, y_train)"
   ]
  },
  {
   "cell_type": "code",
   "execution_count": 33,
   "metadata": {},
   "outputs": [
    {
     "name": "stdout",
     "output_type": "stream",
     "text": [
      "___Group A:___\n",
      "Qatar vs. Ecuador: Ecuador wins with 0.70\n",
      "Qatar vs. Senegal: Senegal wins with 0.58\n",
      "Qatar vs. Netherlands: Netherlands wins with 0.93\n",
      "Ecuador vs. Senegal: Ecuador wins with 0.57\n",
      "Ecuador vs. Netherlands: Netherlands wins with 0.76\n",
      "Senegal vs. Netherlands: Netherlands wins with 0.94\n",
      "___Group B:___\n",
      "England vs. Iran: Draw\n",
      "England vs. United States: Draw\n",
      "England vs. Wales: England wins with 0.75\n",
      "Iran vs. United States: Draw\n",
      "Iran vs. Wales: Iran wins with 0.70\n",
      "United States vs. Wales: United States wins with 0.55\n",
      "___Group C:___\n",
      "Argentina vs. Saudi Arabia: Argentina wins with 0.86\n",
      "Argentina vs. Mexico: Argentina wins with 0.92\n",
      "Argentina vs. Poland: Argentina wins with 0.87\n",
      "Saudi Arabia vs. Mexico: Mexico wins with 0.65\n",
      "Saudi Arabia vs. Poland: Poland wins with 0.74\n",
      "Mexico vs. Poland: Poland wins with 0.76\n",
      "___Group D:___\n",
      "France vs. Australia: France wins with 0.77\n",
      "France vs. Denmark: Draw\n",
      "France vs. Tunisia: France wins with 0.85\n",
      "Australia vs. Denmark: Denmark wins with 0.82\n",
      "Australia vs. Tunisia: Draw\n",
      "Denmark vs. Tunisia: Denmark wins with 0.67\n",
      "___Group E:___\n",
      "Spain vs. Costa Rica: Spain wins with 0.86\n",
      "Spain vs. Germany: Draw\n",
      "Spain vs. Japan: Spain wins with 0.74\n",
      "Costa Rica vs. Germany: Germany wins with 0.92\n",
      "Costa Rica vs. Japan: Japan wins with 0.75\n",
      "Germany vs. Japan: Germany wins with 0.64\n",
      "___Group F:___\n",
      "Belgium vs. Canada: Belgium wins with 0.71\n",
      "Belgium vs. Morocco: Draw\n",
      "Belgium vs. Croatia: Croatia wins with 0.58\n",
      "Canada vs. Morocco: Morocco wins with 0.65\n",
      "Canada vs. Croatia: Croatia wins with 0.79\n",
      "Morocco vs. Croatia: Croatia wins with 0.73\n",
      "___Group G:___\n",
      "Brazil vs. Serbia: Brazil wins with 0.84\n",
      "Brazil vs. Switzerland: Brazil wins with 0.88\n",
      "Brazil vs. Cameroon: Brazil wins with 0.92\n",
      "Serbia vs. Switzerland: Switzerland wins with 0.56\n",
      "Serbia vs. Cameroon: Serbia wins with 0.81\n",
      "Switzerland vs. Cameroon: Switzerland wins with 0.81\n",
      "___Group H:___\n",
      "Portugal vs. Ghana: Portugal wins with 0.86\n",
      "Portugal vs. Uruguay: Draw\n",
      "Portugal vs. South Korea: South Korea wins with 0.59\n",
      "Ghana vs. Uruguay: Uruguay wins with 0.94\n",
      "Ghana vs. South Korea: South Korea wins with 0.93\n",
      "Uruguay vs. South Korea: South Korea wins with 0.69\n"
     ]
    }
   ],
   "source": [
    "from itertools import combinations\n",
    "\n",
    "opponents = ['First match \\nagainst', 'Second match\\n against', 'Third match\\n against']\n",
    "margin = 0.05\n",
    "world_cup['points'] = 0\n",
    "world_cup['total_prob'] = 0\n",
    "\n",
    "for group in sorted(set(world_cup['Group'])):\n",
    "    print('___Group {}:___'.format(group))\n",
    "    for home, away in combinations(world_cup.query('Group == \"{}\"'.format(group)).index, 2):\n",
    "        print(\"{} vs. {}: \".format(home, away), end='')\n",
    "        row = pd.DataFrame(np.array([[np.nan, np.nan, np.nan, np.nan, True]]), columns=X_test.columns)\n",
    "        home_rank = world_cup_rankings.loc[home, 'rank']\n",
    "        home_points = world_cup_rankings.loc[home, 'total_points']\n",
    "        home_elo = world_cup_rankings.loc[home, 'elo_ratings']\n",
    "        opp_rank = world_cup_rankings.loc[away, 'rank']\n",
    "        opp_points = world_cup_rankings.loc[away, 'total_points']\n",
    "        opp_elo = world_cup_rankings.loc[away, 'elo_ratings']\n",
    "        row['average_rank'] = (home_rank + opp_rank) / 2\n",
    "        row['rank_difference'] = home_rank - opp_rank\n",
    "        row['point_difference'] = home_points - opp_points\n",
    "        row['elo_difference'] = home_elo - opp_elo\n",
    "    \n",
    "        home_win_prob = xgb_model.predict_proba(row)[:,1][0] * 0.5 + gb_model.predict_proba(row)[:,1][0] * 0.5\n",
    "        \n",
    "        world_cup.loc[home, 'total_prob'] += home_win_prob\n",
    "        world_cup.loc[away, 'total_prob'] += 1-home_win_prob\n",
    "        \n",
    "        points = 0\n",
    "        if home_win_prob <= 0.5 - margin:\n",
    "            print(\"{} wins with {:.2f}\".format(away, 1-home_win_prob))\n",
    "            world_cup.loc[away, 'points'] += 3\n",
    "        if home_win_prob > 0.5 - margin:\n",
    "            points = 1\n",
    "        if home_win_prob >= 0.5 + margin:\n",
    "            points = 3\n",
    "            world_cup.loc[home, 'points'] += 3\n",
    "            print(\"{} wins with {:.2f}\".format(home, home_win_prob))\n",
    "        if points == 1:\n",
    "            print(\"Draw\")\n",
    "            world_cup.loc[home, 'points'] += 1\n",
    "            world_cup.loc[away, 'points'] += 1"
   ]
  },
  {
   "cell_type": "code",
   "execution_count": 34,
   "metadata": {},
   "outputs": [
    {
     "name": "stdout",
     "output_type": "stream",
     "text": [
      "_____Qualified Teams______\n",
      "\n",
      "   Group         Team  points  total_prob\n",
      "0      A  Netherlands       9    2.628306\n",
      "1      A      Ecuador       6    1.509918\n",
      "2      B      England       5    1.743371\n",
      "3      B         Iran       5    1.737858\n",
      "4      C    Argentina       9    2.657467\n",
      "5      C       Poland       6    1.628325\n",
      "6      D       France       7    2.128451\n",
      "7      D      Denmark       7    1.973625\n",
      "8      E      Germany       7    2.087955\n",
      "9      E        Spain       7    2.080943\n",
      "10     F      Croatia       9    2.096871\n",
      "11     F      Belgium       4    1.643571\n",
      "12     G       Brazil       9    2.639516\n",
      "13     G  Switzerland       6    1.493959\n",
      "14     H  South Korea       9    2.203866\n",
      "15     H     Portugal       4    1.799904\n",
      "\n",
      "\n",
      "_____Knockout Phase______\n",
      "___Round_of_16___\n",
      "Netherlands vs. Iran: Netherlands wins with probability 0.63\n",
      "Argentina vs. Denmark: Argentina wins with probability 0.71\n",
      "Germany vs. Belgium: Belgium wins with probability 0.63\n",
      "Brazil vs. Portugal: Brazil wins with probability 0.72\n",
      "Ecuador vs. England: England wins with probability 0.72\n",
      "Poland vs. France: France wins with probability 0.90\n",
      "Spain vs. Croatia: Spain wins with probability 0.59\n",
      "Switzerland vs. South Korea: South Korea wins with probability 0.77\n",
      "\n",
      "\n",
      "___Quarterfinal___\n",
      "Netherlands vs. Argentina: Argentina wins with probability 0.75\n",
      "Belgium vs. Brazil: Brazil wins with probability 0.89\n",
      "England vs. France: France wins with probability 0.78\n",
      "Spain vs. South Korea: Spain wins with probability 0.53\n",
      "\n",
      "\n",
      "___Semifinal___\n",
      "Argentina vs. Brazil: Brazil wins with probability 0.79\n",
      "France vs. Spain: Spain wins with probability 0.70\n",
      "\n",
      "\n",
      "___Final___\n",
      "Brazil vs. Spain: Brazil wins with probability 0.59\n",
      "\n",
      "\n"
     ]
    }
   ],
   "source": [
    "pairing = [0,3,4,7,8,11,12,15,1,2,5,6,9,10,13,14]\n",
    "\n",
    "world_cup = world_cup.sort_values(by=['Group', 'points', 'total_prob'], ascending=False).reset_index()\n",
    "next_round_wc = world_cup.groupby('Group').nth([0, 1]) # select the top 2\n",
    "next_round_wc = next_round_wc.reset_index()\n",
    "print(\"_____Qualified Teams______\\n\")\n",
    "print(next_round_wc.loc[:,['Group','Team','points','total_prob']])\n",
    "print(\"\\n\")\n",
    "next_round_wc = next_round_wc.loc[pairing]\n",
    "next_round_wc = next_round_wc.set_index('Team')\n",
    "\n",
    "print(\"_____Knockout Phase______\")\n",
    "finals = ['Round_of_16', 'Quarterfinal', 'Semifinal', 'Final']\n",
    "\n",
    "labels = list()\n",
    "odds = list()\n",
    "\n",
    "for f in finals:\n",
    "    print(\"___{}___\".format(f))\n",
    "    iterations = int(len(next_round_wc) / 2)\n",
    "    winners = []\n",
    "\n",
    "    for i in range(iterations):\n",
    "        home = next_round_wc.index[i*2]\n",
    "        away = next_round_wc.index[i*2+1]\n",
    "        print(\"{} vs. {}: \".format(home,\n",
    "                                   away), \n",
    "                                   end='')\n",
    "        row = pd.DataFrame(np.array([[np.nan, np.nan, np.nan, np.nan, True]]), columns=X_test.columns)\n",
    "        home_rank = world_cup_rankings.loc[home, 'rank']\n",
    "        home_points = world_cup_rankings.loc[home, 'total_points']\n",
    "        home_elo = world_cup_rankings.loc[home, 'elo_ratings']\n",
    "        opp_rank = world_cup_rankings.loc[away, 'rank']\n",
    "        opp_points = world_cup_rankings.loc[away, 'total_points']\n",
    "        opp_elo = world_cup_rankings.loc[away, 'elo_ratings']\n",
    "        row['average_rank'] = (home_rank + opp_rank) / 2\n",
    "        row['rank_difference'] = home_rank - opp_rank\n",
    "        row['point_difference'] = home_points - opp_points\n",
    "        row['elo_difference'] = home_elo - opp_elo\n",
    "        \n",
    "        elo_prob = expected(home_elo,opp_elo)\n",
    "        home_win_prob =  xgb_model.predict_proba(row)[:,1][0] * 0.5 + gb_model.predict_proba(row)[:,1][0] * 0.5\n",
    "        \n",
    "        if home_win_prob <= 0.5:\n",
    "            print(\"{0} wins with probability {1:.2f}\".format(away, 1-home_win_prob))\n",
    "            winners.append(away)\n",
    "        else:\n",
    "            print(\"{0} wins with probability {1:.2f}\".format(home, home_win_prob))\n",
    "            winners.append(home)\n",
    "\n",
    "        labels.append(\"{}({:.2f}) vs. {}({:.2f})\".format(world_cup_rankings.loc[home, 'country_abrv'], \n",
    "                                                        1/home_win_prob, \n",
    "                                                        world_cup_rankings.loc[away, 'country_abrv'], \n",
    "                                                        1/(1-home_win_prob)))\n",
    "        odds.append([home_win_prob, 1-home_win_prob])\n",
    "                \n",
    "    next_round_wc = next_round_wc.loc[winners]\n",
    "    print(\"\\n\")"
   ]
  },
  {
   "cell_type": "code",
   "execution_count": null,
   "metadata": {},
   "outputs": [],
   "source": []
  },
  {
   "cell_type": "code",
   "execution_count": null,
   "metadata": {},
   "outputs": [],
   "source": []
  }
 ],
 "metadata": {
  "kernelspec": {
   "display_name": "Python 3",
   "language": "python",
   "name": "python3"
  },
  "language_info": {
   "codemirror_mode": {
    "name": "ipython",
    "version": 3
   },
   "file_extension": ".py",
   "mimetype": "text/x-python",
   "name": "python",
   "nbconvert_exporter": "python",
   "pygments_lexer": "ipython3",
   "version": "3.7.4"
  }
 },
 "nbformat": 4,
 "nbformat_minor": 2
}
